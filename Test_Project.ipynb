{
  "nbformat": 4,
  "nbformat_minor": 0,
  "metadata": {
    "colab": {
      "provenance": [],
      "collapsed_sections": [
        "6E9Lyr4kFrGK",
        "MfLtAVch9FG_",
        "3WVo_sJZGCIH"
      ],
      "include_colab_link": true
    },
    "kernelspec": {
      "name": "python3",
      "display_name": "Python 3"
    },
    "language_info": {
      "name": "python"
    },
    "widgets": {
      "application/vnd.jupyter.widget-state+json": {
        "8876b17052e14d569ef42753dd0a4d60": {
          "model_module": "@jupyter-widgets/controls",
          "model_name": "HBoxModel",
          "model_module_version": "1.5.0",
          "state": {
            "_dom_classes": [],
            "_model_module": "@jupyter-widgets/controls",
            "_model_module_version": "1.5.0",
            "_model_name": "HBoxModel",
            "_view_count": null,
            "_view_module": "@jupyter-widgets/controls",
            "_view_module_version": "1.5.0",
            "_view_name": "HBoxView",
            "box_style": "",
            "children": [
              "IPY_MODEL_2bfbaecb5db04bd398716c92d4e66143",
              "IPY_MODEL_1d75d489c6154ab08c55e9eba5a26ef0",
              "IPY_MODEL_cac456b9fae8491ca5202b23ef5e3391"
            ],
            "layout": "IPY_MODEL_b6d8efa4689d444d90c67229078df27a"
          }
        },
        "2bfbaecb5db04bd398716c92d4e66143": {
          "model_module": "@jupyter-widgets/controls",
          "model_name": "HTMLModel",
          "model_module_version": "1.5.0",
          "state": {
            "_dom_classes": [],
            "_model_module": "@jupyter-widgets/controls",
            "_model_module_version": "1.5.0",
            "_model_name": "HTMLModel",
            "_view_count": null,
            "_view_module": "@jupyter-widgets/controls",
            "_view_module_version": "1.5.0",
            "_view_name": "HTMLView",
            "description": "",
            "description_tooltip": null,
            "layout": "IPY_MODEL_45518f39642b4cf39516d1da6edffe89",
            "placeholder": "​",
            "style": "IPY_MODEL_8800a07a166c4275a048530196e13db2",
            "value": "Downloading (…)solve/main/vocab.txt: 100%"
          }
        },
        "1d75d489c6154ab08c55e9eba5a26ef0": {
          "model_module": "@jupyter-widgets/controls",
          "model_name": "FloatProgressModel",
          "model_module_version": "1.5.0",
          "state": {
            "_dom_classes": [],
            "_model_module": "@jupyter-widgets/controls",
            "_model_module_version": "1.5.0",
            "_model_name": "FloatProgressModel",
            "_view_count": null,
            "_view_module": "@jupyter-widgets/controls",
            "_view_module_version": "1.5.0",
            "_view_name": "ProgressView",
            "bar_style": "success",
            "description": "",
            "description_tooltip": null,
            "layout": "IPY_MODEL_d76d7202a8134cc3b51fce5307fbaf95",
            "max": 488991,
            "min": 0,
            "orientation": "horizontal",
            "style": "IPY_MODEL_3b9d675ed14340e48f5e0ef7c90c9c06",
            "value": 488991
          }
        },
        "cac456b9fae8491ca5202b23ef5e3391": {
          "model_module": "@jupyter-widgets/controls",
          "model_name": "HTMLModel",
          "model_module_version": "1.5.0",
          "state": {
            "_dom_classes": [],
            "_model_module": "@jupyter-widgets/controls",
            "_model_module_version": "1.5.0",
            "_model_name": "HTMLModel",
            "_view_count": null,
            "_view_module": "@jupyter-widgets/controls",
            "_view_module_version": "1.5.0",
            "_view_name": "HTMLView",
            "description": "",
            "description_tooltip": null,
            "layout": "IPY_MODEL_ce4da101fc3e4d08a40f8f3a3399354b",
            "placeholder": "​",
            "style": "IPY_MODEL_e6bc6a6e114d4ed1a69fcc4194d994bc",
            "value": " 489k/489k [00:00&lt;00:00, 2.92MB/s]"
          }
        },
        "b6d8efa4689d444d90c67229078df27a": {
          "model_module": "@jupyter-widgets/base",
          "model_name": "LayoutModel",
          "model_module_version": "1.2.0",
          "state": {
            "_model_module": "@jupyter-widgets/base",
            "_model_module_version": "1.2.0",
            "_model_name": "LayoutModel",
            "_view_count": null,
            "_view_module": "@jupyter-widgets/base",
            "_view_module_version": "1.2.0",
            "_view_name": "LayoutView",
            "align_content": null,
            "align_items": null,
            "align_self": null,
            "border": null,
            "bottom": null,
            "display": null,
            "flex": null,
            "flex_flow": null,
            "grid_area": null,
            "grid_auto_columns": null,
            "grid_auto_flow": null,
            "grid_auto_rows": null,
            "grid_column": null,
            "grid_gap": null,
            "grid_row": null,
            "grid_template_areas": null,
            "grid_template_columns": null,
            "grid_template_rows": null,
            "height": null,
            "justify_content": null,
            "justify_items": null,
            "left": null,
            "margin": null,
            "max_height": null,
            "max_width": null,
            "min_height": null,
            "min_width": null,
            "object_fit": null,
            "object_position": null,
            "order": null,
            "overflow": null,
            "overflow_x": null,
            "overflow_y": null,
            "padding": null,
            "right": null,
            "top": null,
            "visibility": null,
            "width": null
          }
        },
        "45518f39642b4cf39516d1da6edffe89": {
          "model_module": "@jupyter-widgets/base",
          "model_name": "LayoutModel",
          "model_module_version": "1.2.0",
          "state": {
            "_model_module": "@jupyter-widgets/base",
            "_model_module_version": "1.2.0",
            "_model_name": "LayoutModel",
            "_view_count": null,
            "_view_module": "@jupyter-widgets/base",
            "_view_module_version": "1.2.0",
            "_view_name": "LayoutView",
            "align_content": null,
            "align_items": null,
            "align_self": null,
            "border": null,
            "bottom": null,
            "display": null,
            "flex": null,
            "flex_flow": null,
            "grid_area": null,
            "grid_auto_columns": null,
            "grid_auto_flow": null,
            "grid_auto_rows": null,
            "grid_column": null,
            "grid_gap": null,
            "grid_row": null,
            "grid_template_areas": null,
            "grid_template_columns": null,
            "grid_template_rows": null,
            "height": null,
            "justify_content": null,
            "justify_items": null,
            "left": null,
            "margin": null,
            "max_height": null,
            "max_width": null,
            "min_height": null,
            "min_width": null,
            "object_fit": null,
            "object_position": null,
            "order": null,
            "overflow": null,
            "overflow_x": null,
            "overflow_y": null,
            "padding": null,
            "right": null,
            "top": null,
            "visibility": null,
            "width": null
          }
        },
        "8800a07a166c4275a048530196e13db2": {
          "model_module": "@jupyter-widgets/controls",
          "model_name": "DescriptionStyleModel",
          "model_module_version": "1.5.0",
          "state": {
            "_model_module": "@jupyter-widgets/controls",
            "_model_module_version": "1.5.0",
            "_model_name": "DescriptionStyleModel",
            "_view_count": null,
            "_view_module": "@jupyter-widgets/base",
            "_view_module_version": "1.2.0",
            "_view_name": "StyleView",
            "description_width": ""
          }
        },
        "d76d7202a8134cc3b51fce5307fbaf95": {
          "model_module": "@jupyter-widgets/base",
          "model_name": "LayoutModel",
          "model_module_version": "1.2.0",
          "state": {
            "_model_module": "@jupyter-widgets/base",
            "_model_module_version": "1.2.0",
            "_model_name": "LayoutModel",
            "_view_count": null,
            "_view_module": "@jupyter-widgets/base",
            "_view_module_version": "1.2.0",
            "_view_name": "LayoutView",
            "align_content": null,
            "align_items": null,
            "align_self": null,
            "border": null,
            "bottom": null,
            "display": null,
            "flex": null,
            "flex_flow": null,
            "grid_area": null,
            "grid_auto_columns": null,
            "grid_auto_flow": null,
            "grid_auto_rows": null,
            "grid_column": null,
            "grid_gap": null,
            "grid_row": null,
            "grid_template_areas": null,
            "grid_template_columns": null,
            "grid_template_rows": null,
            "height": null,
            "justify_content": null,
            "justify_items": null,
            "left": null,
            "margin": null,
            "max_height": null,
            "max_width": null,
            "min_height": null,
            "min_width": null,
            "object_fit": null,
            "object_position": null,
            "order": null,
            "overflow": null,
            "overflow_x": null,
            "overflow_y": null,
            "padding": null,
            "right": null,
            "top": null,
            "visibility": null,
            "width": null
          }
        },
        "3b9d675ed14340e48f5e0ef7c90c9c06": {
          "model_module": "@jupyter-widgets/controls",
          "model_name": "ProgressStyleModel",
          "model_module_version": "1.5.0",
          "state": {
            "_model_module": "@jupyter-widgets/controls",
            "_model_module_version": "1.5.0",
            "_model_name": "ProgressStyleModel",
            "_view_count": null,
            "_view_module": "@jupyter-widgets/base",
            "_view_module_version": "1.2.0",
            "_view_name": "StyleView",
            "bar_color": null,
            "description_width": ""
          }
        },
        "ce4da101fc3e4d08a40f8f3a3399354b": {
          "model_module": "@jupyter-widgets/base",
          "model_name": "LayoutModel",
          "model_module_version": "1.2.0",
          "state": {
            "_model_module": "@jupyter-widgets/base",
            "_model_module_version": "1.2.0",
            "_model_name": "LayoutModel",
            "_view_count": null,
            "_view_module": "@jupyter-widgets/base",
            "_view_module_version": "1.2.0",
            "_view_name": "LayoutView",
            "align_content": null,
            "align_items": null,
            "align_self": null,
            "border": null,
            "bottom": null,
            "display": null,
            "flex": null,
            "flex_flow": null,
            "grid_area": null,
            "grid_auto_columns": null,
            "grid_auto_flow": null,
            "grid_auto_rows": null,
            "grid_column": null,
            "grid_gap": null,
            "grid_row": null,
            "grid_template_areas": null,
            "grid_template_columns": null,
            "grid_template_rows": null,
            "height": null,
            "justify_content": null,
            "justify_items": null,
            "left": null,
            "margin": null,
            "max_height": null,
            "max_width": null,
            "min_height": null,
            "min_width": null,
            "object_fit": null,
            "object_position": null,
            "order": null,
            "overflow": null,
            "overflow_x": null,
            "overflow_y": null,
            "padding": null,
            "right": null,
            "top": null,
            "visibility": null,
            "width": null
          }
        },
        "e6bc6a6e114d4ed1a69fcc4194d994bc": {
          "model_module": "@jupyter-widgets/controls",
          "model_name": "DescriptionStyleModel",
          "model_module_version": "1.5.0",
          "state": {
            "_model_module": "@jupyter-widgets/controls",
            "_model_module_version": "1.5.0",
            "_model_name": "DescriptionStyleModel",
            "_view_count": null,
            "_view_module": "@jupyter-widgets/base",
            "_view_module_version": "1.2.0",
            "_view_name": "StyleView",
            "description_width": ""
          }
        },
        "08797be9bf3c4b8189bf50760dad7729": {
          "model_module": "@jupyter-widgets/controls",
          "model_name": "HBoxModel",
          "model_module_version": "1.5.0",
          "state": {
            "_dom_classes": [],
            "_model_module": "@jupyter-widgets/controls",
            "_model_module_version": "1.5.0",
            "_model_name": "HBoxModel",
            "_view_count": null,
            "_view_module": "@jupyter-widgets/controls",
            "_view_module_version": "1.5.0",
            "_view_name": "HBoxView",
            "box_style": "",
            "children": [
              "IPY_MODEL_ff40e83a9941437c8448211e310f2355",
              "IPY_MODEL_1432cd92bec5452ab40f0f5e6197a73c",
              "IPY_MODEL_d51187014fd6447bb5a6cc4f8b20ebb8"
            ],
            "layout": "IPY_MODEL_a944a186051c497a92287157698fb465"
          }
        },
        "ff40e83a9941437c8448211e310f2355": {
          "model_module": "@jupyter-widgets/controls",
          "model_name": "HTMLModel",
          "model_module_version": "1.5.0",
          "state": {
            "_dom_classes": [],
            "_model_module": "@jupyter-widgets/controls",
            "_model_module_version": "1.5.0",
            "_model_name": "HTMLModel",
            "_view_count": null,
            "_view_module": "@jupyter-widgets/controls",
            "_view_module_version": "1.5.0",
            "_view_name": "HTMLView",
            "description": "",
            "description_tooltip": null,
            "layout": "IPY_MODEL_9a21f120e46b4cd2b1cc796b81737993",
            "placeholder": "​",
            "style": "IPY_MODEL_83ae4cbd25d04685b815845545d48615",
            "value": "Downloading (…)cial_tokens_map.json: 100%"
          }
        },
        "1432cd92bec5452ab40f0f5e6197a73c": {
          "model_module": "@jupyter-widgets/controls",
          "model_name": "FloatProgressModel",
          "model_module_version": "1.5.0",
          "state": {
            "_dom_classes": [],
            "_model_module": "@jupyter-widgets/controls",
            "_model_module_version": "1.5.0",
            "_model_name": "FloatProgressModel",
            "_view_count": null,
            "_view_module": "@jupyter-widgets/controls",
            "_view_module_version": "1.5.0",
            "_view_name": "ProgressView",
            "bar_style": "success",
            "description": "",
            "description_tooltip": null,
            "layout": "IPY_MODEL_44c96e4c634e455cbadec8fdbe6b811b",
            "max": 113,
            "min": 0,
            "orientation": "horizontal",
            "style": "IPY_MODEL_e4aeee5327a84be790d05a1696d71c23",
            "value": 113
          }
        },
        "d51187014fd6447bb5a6cc4f8b20ebb8": {
          "model_module": "@jupyter-widgets/controls",
          "model_name": "HTMLModel",
          "model_module_version": "1.5.0",
          "state": {
            "_dom_classes": [],
            "_model_module": "@jupyter-widgets/controls",
            "_model_module_version": "1.5.0",
            "_model_name": "HTMLModel",
            "_view_count": null,
            "_view_module": "@jupyter-widgets/controls",
            "_view_module_version": "1.5.0",
            "_view_name": "HTMLView",
            "description": "",
            "description_tooltip": null,
            "layout": "IPY_MODEL_dde12c610e2b4463a5f8827423b25db3",
            "placeholder": "​",
            "style": "IPY_MODEL_8c56e15fa79744529c02198b118593b1",
            "value": " 113/113 [00:00&lt;00:00, 839B/s]"
          }
        },
        "a944a186051c497a92287157698fb465": {
          "model_module": "@jupyter-widgets/base",
          "model_name": "LayoutModel",
          "model_module_version": "1.2.0",
          "state": {
            "_model_module": "@jupyter-widgets/base",
            "_model_module_version": "1.2.0",
            "_model_name": "LayoutModel",
            "_view_count": null,
            "_view_module": "@jupyter-widgets/base",
            "_view_module_version": "1.2.0",
            "_view_name": "LayoutView",
            "align_content": null,
            "align_items": null,
            "align_self": null,
            "border": null,
            "bottom": null,
            "display": null,
            "flex": null,
            "flex_flow": null,
            "grid_area": null,
            "grid_auto_columns": null,
            "grid_auto_flow": null,
            "grid_auto_rows": null,
            "grid_column": null,
            "grid_gap": null,
            "grid_row": null,
            "grid_template_areas": null,
            "grid_template_columns": null,
            "grid_template_rows": null,
            "height": null,
            "justify_content": null,
            "justify_items": null,
            "left": null,
            "margin": null,
            "max_height": null,
            "max_width": null,
            "min_height": null,
            "min_width": null,
            "object_fit": null,
            "object_position": null,
            "order": null,
            "overflow": null,
            "overflow_x": null,
            "overflow_y": null,
            "padding": null,
            "right": null,
            "top": null,
            "visibility": null,
            "width": null
          }
        },
        "9a21f120e46b4cd2b1cc796b81737993": {
          "model_module": "@jupyter-widgets/base",
          "model_name": "LayoutModel",
          "model_module_version": "1.2.0",
          "state": {
            "_model_module": "@jupyter-widgets/base",
            "_model_module_version": "1.2.0",
            "_model_name": "LayoutModel",
            "_view_count": null,
            "_view_module": "@jupyter-widgets/base",
            "_view_module_version": "1.2.0",
            "_view_name": "LayoutView",
            "align_content": null,
            "align_items": null,
            "align_self": null,
            "border": null,
            "bottom": null,
            "display": null,
            "flex": null,
            "flex_flow": null,
            "grid_area": null,
            "grid_auto_columns": null,
            "grid_auto_flow": null,
            "grid_auto_rows": null,
            "grid_column": null,
            "grid_gap": null,
            "grid_row": null,
            "grid_template_areas": null,
            "grid_template_columns": null,
            "grid_template_rows": null,
            "height": null,
            "justify_content": null,
            "justify_items": null,
            "left": null,
            "margin": null,
            "max_height": null,
            "max_width": null,
            "min_height": null,
            "min_width": null,
            "object_fit": null,
            "object_position": null,
            "order": null,
            "overflow": null,
            "overflow_x": null,
            "overflow_y": null,
            "padding": null,
            "right": null,
            "top": null,
            "visibility": null,
            "width": null
          }
        },
        "83ae4cbd25d04685b815845545d48615": {
          "model_module": "@jupyter-widgets/controls",
          "model_name": "DescriptionStyleModel",
          "model_module_version": "1.5.0",
          "state": {
            "_model_module": "@jupyter-widgets/controls",
            "_model_module_version": "1.5.0",
            "_model_name": "DescriptionStyleModel",
            "_view_count": null,
            "_view_module": "@jupyter-widgets/base",
            "_view_module_version": "1.2.0",
            "_view_name": "StyleView",
            "description_width": ""
          }
        },
        "44c96e4c634e455cbadec8fdbe6b811b": {
          "model_module": "@jupyter-widgets/base",
          "model_name": "LayoutModel",
          "model_module_version": "1.2.0",
          "state": {
            "_model_module": "@jupyter-widgets/base",
            "_model_module_version": "1.2.0",
            "_model_name": "LayoutModel",
            "_view_count": null,
            "_view_module": "@jupyter-widgets/base",
            "_view_module_version": "1.2.0",
            "_view_name": "LayoutView",
            "align_content": null,
            "align_items": null,
            "align_self": null,
            "border": null,
            "bottom": null,
            "display": null,
            "flex": null,
            "flex_flow": null,
            "grid_area": null,
            "grid_auto_columns": null,
            "grid_auto_flow": null,
            "grid_auto_rows": null,
            "grid_column": null,
            "grid_gap": null,
            "grid_row": null,
            "grid_template_areas": null,
            "grid_template_columns": null,
            "grid_template_rows": null,
            "height": null,
            "justify_content": null,
            "justify_items": null,
            "left": null,
            "margin": null,
            "max_height": null,
            "max_width": null,
            "min_height": null,
            "min_width": null,
            "object_fit": null,
            "object_position": null,
            "order": null,
            "overflow": null,
            "overflow_x": null,
            "overflow_y": null,
            "padding": null,
            "right": null,
            "top": null,
            "visibility": null,
            "width": null
          }
        },
        "e4aeee5327a84be790d05a1696d71c23": {
          "model_module": "@jupyter-widgets/controls",
          "model_name": "ProgressStyleModel",
          "model_module_version": "1.5.0",
          "state": {
            "_model_module": "@jupyter-widgets/controls",
            "_model_module_version": "1.5.0",
            "_model_name": "ProgressStyleModel",
            "_view_count": null,
            "_view_module": "@jupyter-widgets/base",
            "_view_module_version": "1.2.0",
            "_view_name": "StyleView",
            "bar_color": null,
            "description_width": ""
          }
        },
        "dde12c610e2b4463a5f8827423b25db3": {
          "model_module": "@jupyter-widgets/base",
          "model_name": "LayoutModel",
          "model_module_version": "1.2.0",
          "state": {
            "_model_module": "@jupyter-widgets/base",
            "_model_module_version": "1.2.0",
            "_model_name": "LayoutModel",
            "_view_count": null,
            "_view_module": "@jupyter-widgets/base",
            "_view_module_version": "1.2.0",
            "_view_name": "LayoutView",
            "align_content": null,
            "align_items": null,
            "align_self": null,
            "border": null,
            "bottom": null,
            "display": null,
            "flex": null,
            "flex_flow": null,
            "grid_area": null,
            "grid_auto_columns": null,
            "grid_auto_flow": null,
            "grid_auto_rows": null,
            "grid_column": null,
            "grid_gap": null,
            "grid_row": null,
            "grid_template_areas": null,
            "grid_template_columns": null,
            "grid_template_rows": null,
            "height": null,
            "justify_content": null,
            "justify_items": null,
            "left": null,
            "margin": null,
            "max_height": null,
            "max_width": null,
            "min_height": null,
            "min_width": null,
            "object_fit": null,
            "object_position": null,
            "order": null,
            "overflow": null,
            "overflow_x": null,
            "overflow_y": null,
            "padding": null,
            "right": null,
            "top": null,
            "visibility": null,
            "width": null
          }
        },
        "8c56e15fa79744529c02198b118593b1": {
          "model_module": "@jupyter-widgets/controls",
          "model_name": "DescriptionStyleModel",
          "model_module_version": "1.5.0",
          "state": {
            "_model_module": "@jupyter-widgets/controls",
            "_model_module_version": "1.5.0",
            "_model_name": "DescriptionStyleModel",
            "_view_count": null,
            "_view_module": "@jupyter-widgets/base",
            "_view_module_version": "1.2.0",
            "_view_name": "StyleView",
            "description_width": ""
          }
        },
        "34ee7e4fe78c4cd39624c3a4ec29c51f": {
          "model_module": "@jupyter-widgets/controls",
          "model_name": "HBoxModel",
          "model_module_version": "1.5.0",
          "state": {
            "_dom_classes": [],
            "_model_module": "@jupyter-widgets/controls",
            "_model_module_version": "1.5.0",
            "_model_name": "HBoxModel",
            "_view_count": null,
            "_view_module": "@jupyter-widgets/controls",
            "_view_module_version": "1.5.0",
            "_view_name": "HBoxView",
            "box_style": "",
            "children": [
              "IPY_MODEL_f8ea0f8360bc468cb8cff80c0f8bf73e",
              "IPY_MODEL_72a492dbec0d47cfb2c0feb6d832c1c0",
              "IPY_MODEL_30ddd961a8814978b86c6d16497559a1"
            ],
            "layout": "IPY_MODEL_35248898342d4110b228407c8ea4d0ec"
          }
        },
        "f8ea0f8360bc468cb8cff80c0f8bf73e": {
          "model_module": "@jupyter-widgets/controls",
          "model_name": "HTMLModel",
          "model_module_version": "1.5.0",
          "state": {
            "_dom_classes": [],
            "_model_module": "@jupyter-widgets/controls",
            "_model_module_version": "1.5.0",
            "_model_name": "HTMLModel",
            "_view_count": null,
            "_view_module": "@jupyter-widgets/controls",
            "_view_module_version": "1.5.0",
            "_view_name": "HTMLView",
            "description": "",
            "description_tooltip": null,
            "layout": "IPY_MODEL_e73e11bb4d7e4aefad49aac7a1cffcb7",
            "placeholder": "​",
            "style": "IPY_MODEL_3bf55d9b26414b16873d2f69f921835c",
            "value": "Downloading (…)okenizer_config.json: 100%"
          }
        },
        "72a492dbec0d47cfb2c0feb6d832c1c0": {
          "model_module": "@jupyter-widgets/controls",
          "model_name": "FloatProgressModel",
          "model_module_version": "1.5.0",
          "state": {
            "_dom_classes": [],
            "_model_module": "@jupyter-widgets/controls",
            "_model_module_version": "1.5.0",
            "_model_name": "FloatProgressModel",
            "_view_count": null,
            "_view_module": "@jupyter-widgets/controls",
            "_view_module_version": "1.5.0",
            "_view_name": "ProgressView",
            "bar_style": "success",
            "description": "",
            "description_tooltip": null,
            "layout": "IPY_MODEL_14cefee346cd4daa84d01c1aa96a6ad3",
            "max": 181,
            "min": 0,
            "orientation": "horizontal",
            "style": "IPY_MODEL_fe2d57b958a64f919d3758e706302150",
            "value": 181
          }
        },
        "30ddd961a8814978b86c6d16497559a1": {
          "model_module": "@jupyter-widgets/controls",
          "model_name": "HTMLModel",
          "model_module_version": "1.5.0",
          "state": {
            "_dom_classes": [],
            "_model_module": "@jupyter-widgets/controls",
            "_model_module_version": "1.5.0",
            "_model_name": "HTMLModel",
            "_view_count": null,
            "_view_module": "@jupyter-widgets/controls",
            "_view_module_version": "1.5.0",
            "_view_name": "HTMLView",
            "description": "",
            "description_tooltip": null,
            "layout": "IPY_MODEL_6fa70052a0014d499644bab689b168bc",
            "placeholder": "​",
            "style": "IPY_MODEL_59f2ad38b124409b9969d08b516ea8a3",
            "value": " 181/181 [00:00&lt;00:00, 1.86kB/s]"
          }
        },
        "35248898342d4110b228407c8ea4d0ec": {
          "model_module": "@jupyter-widgets/base",
          "model_name": "LayoutModel",
          "model_module_version": "1.2.0",
          "state": {
            "_model_module": "@jupyter-widgets/base",
            "_model_module_version": "1.2.0",
            "_model_name": "LayoutModel",
            "_view_count": null,
            "_view_module": "@jupyter-widgets/base",
            "_view_module_version": "1.2.0",
            "_view_name": "LayoutView",
            "align_content": null,
            "align_items": null,
            "align_self": null,
            "border": null,
            "bottom": null,
            "display": null,
            "flex": null,
            "flex_flow": null,
            "grid_area": null,
            "grid_auto_columns": null,
            "grid_auto_flow": null,
            "grid_auto_rows": null,
            "grid_column": null,
            "grid_gap": null,
            "grid_row": null,
            "grid_template_areas": null,
            "grid_template_columns": null,
            "grid_template_rows": null,
            "height": null,
            "justify_content": null,
            "justify_items": null,
            "left": null,
            "margin": null,
            "max_height": null,
            "max_width": null,
            "min_height": null,
            "min_width": null,
            "object_fit": null,
            "object_position": null,
            "order": null,
            "overflow": null,
            "overflow_x": null,
            "overflow_y": null,
            "padding": null,
            "right": null,
            "top": null,
            "visibility": null,
            "width": null
          }
        },
        "e73e11bb4d7e4aefad49aac7a1cffcb7": {
          "model_module": "@jupyter-widgets/base",
          "model_name": "LayoutModel",
          "model_module_version": "1.2.0",
          "state": {
            "_model_module": "@jupyter-widgets/base",
            "_model_module_version": "1.2.0",
            "_model_name": "LayoutModel",
            "_view_count": null,
            "_view_module": "@jupyter-widgets/base",
            "_view_module_version": "1.2.0",
            "_view_name": "LayoutView",
            "align_content": null,
            "align_items": null,
            "align_self": null,
            "border": null,
            "bottom": null,
            "display": null,
            "flex": null,
            "flex_flow": null,
            "grid_area": null,
            "grid_auto_columns": null,
            "grid_auto_flow": null,
            "grid_auto_rows": null,
            "grid_column": null,
            "grid_gap": null,
            "grid_row": null,
            "grid_template_areas": null,
            "grid_template_columns": null,
            "grid_template_rows": null,
            "height": null,
            "justify_content": null,
            "justify_items": null,
            "left": null,
            "margin": null,
            "max_height": null,
            "max_width": null,
            "min_height": null,
            "min_width": null,
            "object_fit": null,
            "object_position": null,
            "order": null,
            "overflow": null,
            "overflow_x": null,
            "overflow_y": null,
            "padding": null,
            "right": null,
            "top": null,
            "visibility": null,
            "width": null
          }
        },
        "3bf55d9b26414b16873d2f69f921835c": {
          "model_module": "@jupyter-widgets/controls",
          "model_name": "DescriptionStyleModel",
          "model_module_version": "1.5.0",
          "state": {
            "_model_module": "@jupyter-widgets/controls",
            "_model_module_version": "1.5.0",
            "_model_name": "DescriptionStyleModel",
            "_view_count": null,
            "_view_module": "@jupyter-widgets/base",
            "_view_module_version": "1.2.0",
            "_view_name": "StyleView",
            "description_width": ""
          }
        },
        "14cefee346cd4daa84d01c1aa96a6ad3": {
          "model_module": "@jupyter-widgets/base",
          "model_name": "LayoutModel",
          "model_module_version": "1.2.0",
          "state": {
            "_model_module": "@jupyter-widgets/base",
            "_model_module_version": "1.2.0",
            "_model_name": "LayoutModel",
            "_view_count": null,
            "_view_module": "@jupyter-widgets/base",
            "_view_module_version": "1.2.0",
            "_view_name": "LayoutView",
            "align_content": null,
            "align_items": null,
            "align_self": null,
            "border": null,
            "bottom": null,
            "display": null,
            "flex": null,
            "flex_flow": null,
            "grid_area": null,
            "grid_auto_columns": null,
            "grid_auto_flow": null,
            "grid_auto_rows": null,
            "grid_column": null,
            "grid_gap": null,
            "grid_row": null,
            "grid_template_areas": null,
            "grid_template_columns": null,
            "grid_template_rows": null,
            "height": null,
            "justify_content": null,
            "justify_items": null,
            "left": null,
            "margin": null,
            "max_height": null,
            "max_width": null,
            "min_height": null,
            "min_width": null,
            "object_fit": null,
            "object_position": null,
            "order": null,
            "overflow": null,
            "overflow_x": null,
            "overflow_y": null,
            "padding": null,
            "right": null,
            "top": null,
            "visibility": null,
            "width": null
          }
        },
        "fe2d57b958a64f919d3758e706302150": {
          "model_module": "@jupyter-widgets/controls",
          "model_name": "ProgressStyleModel",
          "model_module_version": "1.5.0",
          "state": {
            "_model_module": "@jupyter-widgets/controls",
            "_model_module_version": "1.5.0",
            "_model_name": "ProgressStyleModel",
            "_view_count": null,
            "_view_module": "@jupyter-widgets/base",
            "_view_module_version": "1.2.0",
            "_view_name": "StyleView",
            "bar_color": null,
            "description_width": ""
          }
        },
        "6fa70052a0014d499644bab689b168bc": {
          "model_module": "@jupyter-widgets/base",
          "model_name": "LayoutModel",
          "model_module_version": "1.2.0",
          "state": {
            "_model_module": "@jupyter-widgets/base",
            "_model_module_version": "1.2.0",
            "_model_name": "LayoutModel",
            "_view_count": null,
            "_view_module": "@jupyter-widgets/base",
            "_view_module_version": "1.2.0",
            "_view_name": "LayoutView",
            "align_content": null,
            "align_items": null,
            "align_self": null,
            "border": null,
            "bottom": null,
            "display": null,
            "flex": null,
            "flex_flow": null,
            "grid_area": null,
            "grid_auto_columns": null,
            "grid_auto_flow": null,
            "grid_auto_rows": null,
            "grid_column": null,
            "grid_gap": null,
            "grid_row": null,
            "grid_template_areas": null,
            "grid_template_columns": null,
            "grid_template_rows": null,
            "height": null,
            "justify_content": null,
            "justify_items": null,
            "left": null,
            "margin": null,
            "max_height": null,
            "max_width": null,
            "min_height": null,
            "min_width": null,
            "object_fit": null,
            "object_position": null,
            "order": null,
            "overflow": null,
            "overflow_x": null,
            "overflow_y": null,
            "padding": null,
            "right": null,
            "top": null,
            "visibility": null,
            "width": null
          }
        },
        "59f2ad38b124409b9969d08b516ea8a3": {
          "model_module": "@jupyter-widgets/controls",
          "model_name": "DescriptionStyleModel",
          "model_module_version": "1.5.0",
          "state": {
            "_model_module": "@jupyter-widgets/controls",
            "_model_module_version": "1.5.0",
            "_model_name": "DescriptionStyleModel",
            "_view_count": null,
            "_view_module": "@jupyter-widgets/base",
            "_view_module_version": "1.2.0",
            "_view_name": "StyleView",
            "description_width": ""
          }
        },
        "7aab10ab5041418895b5eab1a2735edb": {
          "model_module": "@jupyter-widgets/controls",
          "model_name": "HBoxModel",
          "model_module_version": "1.5.0",
          "state": {
            "_dom_classes": [],
            "_model_module": "@jupyter-widgets/controls",
            "_model_module_version": "1.5.0",
            "_model_name": "HBoxModel",
            "_view_count": null,
            "_view_module": "@jupyter-widgets/controls",
            "_view_module_version": "1.5.0",
            "_view_name": "HBoxView",
            "box_style": "",
            "children": [
              "IPY_MODEL_8ac01687842743598e37f3dec19c1b9e",
              "IPY_MODEL_34d06f7397df4e778ef433bda40efd9d",
              "IPY_MODEL_3db195fa1fa34819a84d330028a25526"
            ],
            "layout": "IPY_MODEL_55a3c9c9effe4f3485c6f0fbefe6c64a"
          }
        },
        "8ac01687842743598e37f3dec19c1b9e": {
          "model_module": "@jupyter-widgets/controls",
          "model_name": "HTMLModel",
          "model_module_version": "1.5.0",
          "state": {
            "_dom_classes": [],
            "_model_module": "@jupyter-widgets/controls",
            "_model_module_version": "1.5.0",
            "_model_name": "HTMLModel",
            "_view_count": null,
            "_view_module": "@jupyter-widgets/controls",
            "_view_module_version": "1.5.0",
            "_view_name": "HTMLView",
            "description": "",
            "description_tooltip": null,
            "layout": "IPY_MODEL_71e28bce2fa4482b980c58ea9b18c5b1",
            "placeholder": "​",
            "style": "IPY_MODEL_fb842088674c4bcf9437b250fb916d45",
            "value": "Downloading (…)lve/main/config.json: 100%"
          }
        },
        "34d06f7397df4e778ef433bda40efd9d": {
          "model_module": "@jupyter-widgets/controls",
          "model_name": "FloatProgressModel",
          "model_module_version": "1.5.0",
          "state": {
            "_dom_classes": [],
            "_model_module": "@jupyter-widgets/controls",
            "_model_module_version": "1.5.0",
            "_model_name": "FloatProgressModel",
            "_view_count": null,
            "_view_module": "@jupyter-widgets/controls",
            "_view_module_version": "1.5.0",
            "_view_name": "ProgressView",
            "bar_style": "success",
            "description": "",
            "description_tooltip": null,
            "layout": "IPY_MODEL_ca5517d3a969490f990400b8f7008487",
            "max": 405,
            "min": 0,
            "orientation": "horizontal",
            "style": "IPY_MODEL_578aea4c2d2f44958de949bb3ac6d37d",
            "value": 405
          }
        },
        "3db195fa1fa34819a84d330028a25526": {
          "model_module": "@jupyter-widgets/controls",
          "model_name": "HTMLModel",
          "model_module_version": "1.5.0",
          "state": {
            "_dom_classes": [],
            "_model_module": "@jupyter-widgets/controls",
            "_model_module_version": "1.5.0",
            "_model_name": "HTMLModel",
            "_view_count": null,
            "_view_module": "@jupyter-widgets/controls",
            "_view_module_version": "1.5.0",
            "_view_name": "HTMLView",
            "description": "",
            "description_tooltip": null,
            "layout": "IPY_MODEL_1a39c4901dc241b690a14eea5f0d2810",
            "placeholder": "​",
            "style": "IPY_MODEL_fe150aa0b32d4793a3ec7f226d8b37d3",
            "value": " 405/405 [00:00&lt;00:00, 3.75kB/s]"
          }
        },
        "55a3c9c9effe4f3485c6f0fbefe6c64a": {
          "model_module": "@jupyter-widgets/base",
          "model_name": "LayoutModel",
          "model_module_version": "1.2.0",
          "state": {
            "_model_module": "@jupyter-widgets/base",
            "_model_module_version": "1.2.0",
            "_model_name": "LayoutModel",
            "_view_count": null,
            "_view_module": "@jupyter-widgets/base",
            "_view_module_version": "1.2.0",
            "_view_name": "LayoutView",
            "align_content": null,
            "align_items": null,
            "align_self": null,
            "border": null,
            "bottom": null,
            "display": null,
            "flex": null,
            "flex_flow": null,
            "grid_area": null,
            "grid_auto_columns": null,
            "grid_auto_flow": null,
            "grid_auto_rows": null,
            "grid_column": null,
            "grid_gap": null,
            "grid_row": null,
            "grid_template_areas": null,
            "grid_template_columns": null,
            "grid_template_rows": null,
            "height": null,
            "justify_content": null,
            "justify_items": null,
            "left": null,
            "margin": null,
            "max_height": null,
            "max_width": null,
            "min_height": null,
            "min_width": null,
            "object_fit": null,
            "object_position": null,
            "order": null,
            "overflow": null,
            "overflow_x": null,
            "overflow_y": null,
            "padding": null,
            "right": null,
            "top": null,
            "visibility": null,
            "width": null
          }
        },
        "71e28bce2fa4482b980c58ea9b18c5b1": {
          "model_module": "@jupyter-widgets/base",
          "model_name": "LayoutModel",
          "model_module_version": "1.2.0",
          "state": {
            "_model_module": "@jupyter-widgets/base",
            "_model_module_version": "1.2.0",
            "_model_name": "LayoutModel",
            "_view_count": null,
            "_view_module": "@jupyter-widgets/base",
            "_view_module_version": "1.2.0",
            "_view_name": "LayoutView",
            "align_content": null,
            "align_items": null,
            "align_self": null,
            "border": null,
            "bottom": null,
            "display": null,
            "flex": null,
            "flex_flow": null,
            "grid_area": null,
            "grid_auto_columns": null,
            "grid_auto_flow": null,
            "grid_auto_rows": null,
            "grid_column": null,
            "grid_gap": null,
            "grid_row": null,
            "grid_template_areas": null,
            "grid_template_columns": null,
            "grid_template_rows": null,
            "height": null,
            "justify_content": null,
            "justify_items": null,
            "left": null,
            "margin": null,
            "max_height": null,
            "max_width": null,
            "min_height": null,
            "min_width": null,
            "object_fit": null,
            "object_position": null,
            "order": null,
            "overflow": null,
            "overflow_x": null,
            "overflow_y": null,
            "padding": null,
            "right": null,
            "top": null,
            "visibility": null,
            "width": null
          }
        },
        "fb842088674c4bcf9437b250fb916d45": {
          "model_module": "@jupyter-widgets/controls",
          "model_name": "DescriptionStyleModel",
          "model_module_version": "1.5.0",
          "state": {
            "_model_module": "@jupyter-widgets/controls",
            "_model_module_version": "1.5.0",
            "_model_name": "DescriptionStyleModel",
            "_view_count": null,
            "_view_module": "@jupyter-widgets/base",
            "_view_module_version": "1.2.0",
            "_view_name": "StyleView",
            "description_width": ""
          }
        },
        "ca5517d3a969490f990400b8f7008487": {
          "model_module": "@jupyter-widgets/base",
          "model_name": "LayoutModel",
          "model_module_version": "1.2.0",
          "state": {
            "_model_module": "@jupyter-widgets/base",
            "_model_module_version": "1.2.0",
            "_model_name": "LayoutModel",
            "_view_count": null,
            "_view_module": "@jupyter-widgets/base",
            "_view_module_version": "1.2.0",
            "_view_name": "LayoutView",
            "align_content": null,
            "align_items": null,
            "align_self": null,
            "border": null,
            "bottom": null,
            "display": null,
            "flex": null,
            "flex_flow": null,
            "grid_area": null,
            "grid_auto_columns": null,
            "grid_auto_flow": null,
            "grid_auto_rows": null,
            "grid_column": null,
            "grid_gap": null,
            "grid_row": null,
            "grid_template_areas": null,
            "grid_template_columns": null,
            "grid_template_rows": null,
            "height": null,
            "justify_content": null,
            "justify_items": null,
            "left": null,
            "margin": null,
            "max_height": null,
            "max_width": null,
            "min_height": null,
            "min_width": null,
            "object_fit": null,
            "object_position": null,
            "order": null,
            "overflow": null,
            "overflow_x": null,
            "overflow_y": null,
            "padding": null,
            "right": null,
            "top": null,
            "visibility": null,
            "width": null
          }
        },
        "578aea4c2d2f44958de949bb3ac6d37d": {
          "model_module": "@jupyter-widgets/controls",
          "model_name": "ProgressStyleModel",
          "model_module_version": "1.5.0",
          "state": {
            "_model_module": "@jupyter-widgets/controls",
            "_model_module_version": "1.5.0",
            "_model_name": "ProgressStyleModel",
            "_view_count": null,
            "_view_module": "@jupyter-widgets/base",
            "_view_module_version": "1.2.0",
            "_view_name": "StyleView",
            "bar_color": null,
            "description_width": ""
          }
        },
        "1a39c4901dc241b690a14eea5f0d2810": {
          "model_module": "@jupyter-widgets/base",
          "model_name": "LayoutModel",
          "model_module_version": "1.2.0",
          "state": {
            "_model_module": "@jupyter-widgets/base",
            "_model_module_version": "1.2.0",
            "_model_name": "LayoutModel",
            "_view_count": null,
            "_view_module": "@jupyter-widgets/base",
            "_view_module_version": "1.2.0",
            "_view_name": "LayoutView",
            "align_content": null,
            "align_items": null,
            "align_self": null,
            "border": null,
            "bottom": null,
            "display": null,
            "flex": null,
            "flex_flow": null,
            "grid_area": null,
            "grid_auto_columns": null,
            "grid_auto_flow": null,
            "grid_auto_rows": null,
            "grid_column": null,
            "grid_gap": null,
            "grid_row": null,
            "grid_template_areas": null,
            "grid_template_columns": null,
            "grid_template_rows": null,
            "height": null,
            "justify_content": null,
            "justify_items": null,
            "left": null,
            "margin": null,
            "max_height": null,
            "max_width": null,
            "min_height": null,
            "min_width": null,
            "object_fit": null,
            "object_position": null,
            "order": null,
            "overflow": null,
            "overflow_x": null,
            "overflow_y": null,
            "padding": null,
            "right": null,
            "top": null,
            "visibility": null,
            "width": null
          }
        },
        "fe150aa0b32d4793a3ec7f226d8b37d3": {
          "model_module": "@jupyter-widgets/controls",
          "model_name": "DescriptionStyleModel",
          "model_module_version": "1.5.0",
          "state": {
            "_model_module": "@jupyter-widgets/controls",
            "_model_module_version": "1.5.0",
            "_model_name": "DescriptionStyleModel",
            "_view_count": null,
            "_view_module": "@jupyter-widgets/base",
            "_view_module_version": "1.2.0",
            "_view_name": "StyleView",
            "description_width": ""
          }
        }
      }
    },
    "accelerator": "GPU",
    "gpuClass": "standard"
  },
  "cells": [
    {
      "cell_type": "markdown",
      "metadata": {
        "id": "view-in-github",
        "colab_type": "text"
      },
      "source": [
        "<a href=\"https://colab.research.google.com/github/keur1234/3.3/blob/3.3/Test_Project.ipynb\" target=\"_parent\"><img src=\"https://colab.research.google.com/assets/colab-badge.svg\" alt=\"Open In Colab\"/></a>"
      ]
    },
    {
      "cell_type": "markdown",
      "source": [
        "# Pretrain Model\n"
      ],
      "metadata": {
        "id": "6E9Lyr4kFrGK"
      }
    },
    {
      "cell_type": "code",
      "source": [
        "!pip install pythainlp six sentencepiece python-crfsuite\n",
        "!git clone https://github.com/ThAIKeras/bert\n",
        "!pip install attacut"
      ],
      "metadata": {
        "colab": {
          "base_uri": "https://localhost:8080/"
        },
        "id": "qYmPu9P3FtZv",
        "outputId": "40ee5719-62fb-4872-bf45-db5d7a8c179d"
      },
      "execution_count": null,
      "outputs": [
        {
          "output_type": "stream",
          "name": "stdout",
          "text": [
            "Looking in indexes: https://pypi.org/simple, https://us-python.pkg.dev/colab-wheels/public/simple/\n",
            "Requirement already satisfied: pythainlp in /usr/local/lib/python3.9/dist-packages (4.0.0)\n",
            "Requirement already satisfied: six in /usr/local/lib/python3.9/dist-packages (1.16.0)\n",
            "Requirement already satisfied: sentencepiece in /usr/local/lib/python3.9/dist-packages (0.1.98)\n",
            "Requirement already satisfied: python-crfsuite in /usr/local/lib/python3.9/dist-packages (0.9.9)\n",
            "Requirement already satisfied: requests>=2.22.0 in /usr/local/lib/python3.9/dist-packages (from pythainlp) (2.27.1)\n",
            "Requirement already satisfied: certifi>=2017.4.17 in /usr/local/lib/python3.9/dist-packages (from requests>=2.22.0->pythainlp) (2022.12.7)\n",
            "Requirement already satisfied: charset-normalizer~=2.0.0 in /usr/local/lib/python3.9/dist-packages (from requests>=2.22.0->pythainlp) (2.0.12)\n",
            "Requirement already satisfied: urllib3<1.27,>=1.21.1 in /usr/local/lib/python3.9/dist-packages (from requests>=2.22.0->pythainlp) (1.26.15)\n",
            "Requirement already satisfied: idna<4,>=2.5 in /usr/local/lib/python3.9/dist-packages (from requests>=2.22.0->pythainlp) (3.4)\n",
            "fatal: destination path 'bert' already exists and is not an empty directory.\n",
            "Looking in indexes: https://pypi.org/simple, https://us-python.pkg.dev/colab-wheels/public/simple/\n",
            "Requirement already satisfied: attacut in /usr/local/lib/python3.9/dist-packages (1.0.6)\n",
            "Requirement already satisfied: nptyping>=0.2.0 in /usr/local/lib/python3.9/dist-packages (from attacut) (2.5.0)\n",
            "Requirement already satisfied: fire>=0.1.3 in /usr/local/lib/python3.9/dist-packages (from attacut) (0.5.0)\n",
            "Requirement already satisfied: six>=1.12.0 in /usr/local/lib/python3.9/dist-packages (from attacut) (1.16.0)\n",
            "Requirement already satisfied: docopt>=0.6.2 in /usr/local/lib/python3.9/dist-packages (from attacut) (0.6.2)\n",
            "Requirement already satisfied: pyyaml>=5.1.2 in /usr/local/lib/python3.9/dist-packages (from attacut) (6.0)\n",
            "Requirement already satisfied: ssg>=0.0.4 in /usr/local/lib/python3.9/dist-packages (from attacut) (0.0.8)\n",
            "Requirement already satisfied: torch>=1.2.0 in /usr/local/lib/python3.9/dist-packages (from attacut) (2.0.0+cu118)\n",
            "Requirement already satisfied: numpy>=1.17.0 in /usr/local/lib/python3.9/dist-packages (from attacut) (1.22.4)\n",
            "Requirement already satisfied: termcolor in /usr/local/lib/python3.9/dist-packages (from fire>=0.1.3->attacut) (2.2.0)\n",
            "Requirement already satisfied: typing-extensions<5.0.0,>=4.0.0 in /usr/local/lib/python3.9/dist-packages (from nptyping>=0.2.0->attacut) (4.5.0)\n",
            "Requirement already satisfied: python-crfsuite>=0.9.6 in /usr/local/lib/python3.9/dist-packages (from ssg>=0.0.4->attacut) (0.9.9)\n",
            "Requirement already satisfied: tqdm>=4.32.2 in /usr/local/lib/python3.9/dist-packages (from ssg>=0.0.4->attacut) (4.65.0)\n",
            "Requirement already satisfied: filelock in /usr/local/lib/python3.9/dist-packages (from torch>=1.2.0->attacut) (3.11.0)\n",
            "Requirement already satisfied: triton==2.0.0 in /usr/local/lib/python3.9/dist-packages (from torch>=1.2.0->attacut) (2.0.0)\n",
            "Requirement already satisfied: jinja2 in /usr/local/lib/python3.9/dist-packages (from torch>=1.2.0->attacut) (3.1.2)\n",
            "Requirement already satisfied: sympy in /usr/local/lib/python3.9/dist-packages (from torch>=1.2.0->attacut) (1.11.1)\n",
            "Requirement already satisfied: networkx in /usr/local/lib/python3.9/dist-packages (from torch>=1.2.0->attacut) (3.1)\n",
            "Requirement already satisfied: lit in /usr/local/lib/python3.9/dist-packages (from triton==2.0.0->torch>=1.2.0->attacut) (16.0.1)\n",
            "Requirement already satisfied: cmake in /usr/local/lib/python3.9/dist-packages (from triton==2.0.0->torch>=1.2.0->attacut) (3.25.2)\n",
            "Requirement already satisfied: MarkupSafe>=2.0 in /usr/local/lib/python3.9/dist-packages (from jinja2->torch>=1.2.0->attacut) (2.1.2)\n",
            "Requirement already satisfied: mpmath>=0.19 in /usr/local/lib/python3.9/dist-packages (from sympy->torch>=1.2.0->attacut) (1.3.0)\n"
          ]
        }
      ]
    },
    {
      "cell_type": "markdown",
      "source": [
        "# Import"
      ],
      "metadata": {
        "id": "MfLtAVch9FG_"
      }
    },
    {
      "cell_type": "code",
      "execution_count": null,
      "metadata": {
        "colab": {
          "base_uri": "https://localhost:8080/"
        },
        "id": "nPzVYJmr8zYG",
        "outputId": "b68b119d-d176-4c81-adc0-a007e20ee47a"
      },
      "outputs": [
        {
          "output_type": "stream",
          "name": "stdout",
          "text": [
            "Looking in indexes: https://pypi.org/simple, https://us-python.pkg.dev/colab-wheels/public/simple/\n",
            "Collecting pythainlp\n",
            "  Downloading pythainlp-4.0.0-py3-none-any.whl (13.4 MB)\n",
            "\u001b[2K     \u001b[90m━━━━━━━━━━━━━━━━━━━━━━━━━━━━━━━━━━━━━━━━\u001b[0m \u001b[32m13.4/13.4 MB\u001b[0m \u001b[31m57.5 MB/s\u001b[0m eta \u001b[36m0:00:00\u001b[0m\n",
            "\u001b[?25hRequirement already satisfied: requests>=2.22.0 in /usr/local/lib/python3.9/dist-packages (from pythainlp) (2.27.1)\n",
            "Requirement already satisfied: idna<4,>=2.5 in /usr/local/lib/python3.9/dist-packages (from requests>=2.22.0->pythainlp) (3.4)\n",
            "Requirement already satisfied: certifi>=2017.4.17 in /usr/local/lib/python3.9/dist-packages (from requests>=2.22.0->pythainlp) (2022.12.7)\n",
            "Requirement already satisfied: urllib3<1.27,>=1.21.1 in /usr/local/lib/python3.9/dist-packages (from requests>=2.22.0->pythainlp) (1.26.15)\n",
            "Requirement already satisfied: charset-normalizer~=2.0.0 in /usr/local/lib/python3.9/dist-packages (from requests>=2.22.0->pythainlp) (2.0.12)\n",
            "Installing collected packages: pythainlp\n",
            "Successfully installed pythainlp-4.0.0\n",
            "Looking in indexes: https://pypi.org/simple, https://us-python.pkg.dev/colab-wheels/public/simple/\n",
            "Collecting attacut\n",
            "  Downloading attacut-1.0.6-py3-none-any.whl (1.3 MB)\n",
            "\u001b[2K     \u001b[90m━━━━━━━━━━━━━━━━━━━━━━━━━━━━━━━━━━━━━━━━\u001b[0m \u001b[32m1.3/1.3 MB\u001b[0m \u001b[31m24.4 MB/s\u001b[0m eta \u001b[36m0:00:00\u001b[0m\n",
            "\u001b[?25hCollecting ssg>=0.0.4\n",
            "  Downloading ssg-0.0.8-py3-none-any.whl (473 kB)\n",
            "\u001b[2K     \u001b[90m━━━━━━━━━━━━━━━━━━━━━━━━━━━━━━━━━━━━━━\u001b[0m \u001b[32m473.8/473.8 kB\u001b[0m \u001b[31m30.2 MB/s\u001b[0m eta \u001b[36m0:00:00\u001b[0m\n",
            "\u001b[?25hCollecting nptyping>=0.2.0\n",
            "  Downloading nptyping-2.5.0-py3-none-any.whl (37 kB)\n",
            "Collecting fire>=0.1.3\n",
            "  Downloading fire-0.5.0.tar.gz (88 kB)\n",
            "\u001b[2K     \u001b[90m━━━━━━━━━━━━━━━━━━━━━━━━━━━━━━━━━━━━━━━━\u001b[0m \u001b[32m88.3/88.3 kB\u001b[0m \u001b[31m6.5 MB/s\u001b[0m eta \u001b[36m0:00:00\u001b[0m\n",
            "\u001b[?25h  Preparing metadata (setup.py) ... \u001b[?25l\u001b[?25hdone\n",
            "Requirement already satisfied: six>=1.12.0 in /usr/local/lib/python3.9/dist-packages (from attacut) (1.16.0)\n",
            "Requirement already satisfied: torch>=1.2.0 in /usr/local/lib/python3.9/dist-packages (from attacut) (2.0.0+cu118)\n",
            "Collecting docopt>=0.6.2\n",
            "  Downloading docopt-0.6.2.tar.gz (25 kB)\n",
            "  Preparing metadata (setup.py) ... \u001b[?25l\u001b[?25hdone\n",
            "Requirement already satisfied: pyyaml>=5.1.2 in /usr/local/lib/python3.9/dist-packages (from attacut) (6.0)\n",
            "Requirement already satisfied: numpy>=1.17.0 in /usr/local/lib/python3.9/dist-packages (from attacut) (1.22.4)\n",
            "Requirement already satisfied: termcolor in /usr/local/lib/python3.9/dist-packages (from fire>=0.1.3->attacut) (2.2.0)\n",
            "Requirement already satisfied: typing-extensions<5.0.0,>=4.0.0 in /usr/local/lib/python3.9/dist-packages (from nptyping>=0.2.0->attacut) (4.5.0)\n",
            "Requirement already satisfied: tqdm>=4.32.2 in /usr/local/lib/python3.9/dist-packages (from ssg>=0.0.4->attacut) (4.65.0)\n",
            "Collecting python-crfsuite>=0.9.6\n",
            "  Downloading python_crfsuite-0.9.9-cp39-cp39-manylinux_2_17_x86_64.manylinux2014_x86_64.whl (1.0 MB)\n",
            "\u001b[2K     \u001b[90m━━━━━━━━━━━━━━━━━━━━━━━━━━━━━━━━━━━━━━━━\u001b[0m \u001b[32m1.0/1.0 MB\u001b[0m \u001b[31m48.1 MB/s\u001b[0m eta \u001b[36m0:00:00\u001b[0m\n",
            "\u001b[?25hRequirement already satisfied: filelock in /usr/local/lib/python3.9/dist-packages (from torch>=1.2.0->attacut) (3.11.0)\n",
            "Requirement already satisfied: jinja2 in /usr/local/lib/python3.9/dist-packages (from torch>=1.2.0->attacut) (3.1.2)\n",
            "Requirement already satisfied: sympy in /usr/local/lib/python3.9/dist-packages (from torch>=1.2.0->attacut) (1.11.1)\n",
            "Requirement already satisfied: networkx in /usr/local/lib/python3.9/dist-packages (from torch>=1.2.0->attacut) (3.1)\n",
            "Requirement already satisfied: triton==2.0.0 in /usr/local/lib/python3.9/dist-packages (from torch>=1.2.0->attacut) (2.0.0)\n",
            "Requirement already satisfied: lit in /usr/local/lib/python3.9/dist-packages (from triton==2.0.0->torch>=1.2.0->attacut) (16.0.1)\n",
            "Requirement already satisfied: cmake in /usr/local/lib/python3.9/dist-packages (from triton==2.0.0->torch>=1.2.0->attacut) (3.25.2)\n",
            "Requirement already satisfied: MarkupSafe>=2.0 in /usr/local/lib/python3.9/dist-packages (from jinja2->torch>=1.2.0->attacut) (2.1.2)\n",
            "Requirement already satisfied: mpmath>=0.19 in /usr/local/lib/python3.9/dist-packages (from sympy->torch>=1.2.0->attacut) (1.3.0)\n",
            "Building wheels for collected packages: docopt, fire\n",
            "  Building wheel for docopt (setup.py) ... \u001b[?25l\u001b[?25hdone\n",
            "  Created wheel for docopt: filename=docopt-0.6.2-py2.py3-none-any.whl size=13721 sha256=45dc7afc24278b79523c4f61c3b3b795a2ff5d49829b9fac938d11e6d993513a\n",
            "  Stored in directory: /root/.cache/pip/wheels/70/4a/46/1309fc853b8d395e60bafaf1b6df7845bdd82c95fd59dd8d2b\n",
            "  Building wheel for fire (setup.py) ... \u001b[?25l\u001b[?25hdone\n",
            "  Created wheel for fire: filename=fire-0.5.0-py2.py3-none-any.whl size=116952 sha256=26cf2e43d1f63a50443f207e619e1ea3989d604160028151699227a5d05407d4\n",
            "  Stored in directory: /root/.cache/pip/wheels/f7/f1/89/b9ea2bf8f80ec027a88fef1d354b3816b4d3d29530988972f6\n",
            "Successfully built docopt fire\n",
            "Installing collected packages: python-crfsuite, docopt, nptyping, fire, ssg, attacut\n",
            "Successfully installed attacut-1.0.6 docopt-0.6.2 fire-0.5.0 nptyping-2.5.0 python-crfsuite-0.9.9 ssg-0.0.8\n"
          ]
        }
      ],
      "source": [
        "!pip install pythainlp\n",
        "!pip install attacut"
      ]
    },
    {
      "cell_type": "code",
      "source": [
        "# Basic Import\n",
        "import pandas as pd\n",
        "import sklearn\n",
        "import numpy as np\n",
        "from IPython.display import display\n",
        "import matplotlib.pyplot as plt"
      ],
      "metadata": {
        "id": "rSV9LVWh868n"
      },
      "execution_count": null,
      "outputs": []
    },
    {
      "cell_type": "code",
      "source": [
        "# For NLP \n",
        "from gensim.models import Word2Vec\n",
        "from pythainlp.tokenize import word_tokenize\n",
        "from pythainlp.corpus import thai_stopwords"
      ],
      "metadata": {
        "id": "HtkHeLoQ874f"
      },
      "execution_count": null,
      "outputs": []
    },
    {
      "cell_type": "code",
      "source": [
        "# Data train-test split and validation\n",
        "from sklearn.model_selection import train_test_split"
      ],
      "metadata": {
        "id": "QObQ3nYl9Bzu"
      },
      "execution_count": null,
      "outputs": []
    },
    {
      "cell_type": "code",
      "source": [
        "# For Model\n",
        "from keras.models import Sequential, Model\n",
        "from keras.layers import Dense, Flatten, Input, Dropout, LSTM"
      ],
      "metadata": {
        "id": "K6NziYlZ9Cqu"
      },
      "execution_count": null,
      "outputs": []
    },
    {
      "cell_type": "code",
      "source": [
        "# For Evaluation\n",
        "from sklearn.metrics import classification_report\n",
        "from sklearn.metrics import precision_recall_fscore_support\n",
        "from sklearn.metrics import confusion_matrix"
      ],
      "metadata": {
        "id": "Sg0ssSKw9DiH"
      },
      "execution_count": null,
      "outputs": []
    },
    {
      "cell_type": "code",
      "source": [
        "!pip install git+https://github.com/huggingface/transformers.git\n",
        "!pip install huggingface-hub\n",
        "from transformers import AutoTokenizer, TFAutoModelForTokenClassification\n",
        "from transformers import BertTokenizer, TFBertModel, BertConfig"
      ],
      "metadata": {
        "colab": {
          "base_uri": "https://localhost:8080/"
        },
        "id": "mMx7CfOaJeel",
        "outputId": "f14a9dd3-bc24-4644-a150-b5a0545aac21"
      },
      "execution_count": null,
      "outputs": [
        {
          "output_type": "stream",
          "name": "stdout",
          "text": [
            "Looking in indexes: https://pypi.org/simple, https://us-python.pkg.dev/colab-wheels/public/simple/\n",
            "Collecting git+https://github.com/huggingface/transformers.git\n",
            "  Cloning https://github.com/huggingface/transformers.git to /tmp/pip-req-build-ay5f88m2\n",
            "  Running command git clone --filter=blob:none --quiet https://github.com/huggingface/transformers.git /tmp/pip-req-build-ay5f88m2\n",
            "  Resolved https://github.com/huggingface/transformers.git to commit d04ec99bec8a0b432fc03ed60cea9a1a20ebaf3c\n",
            "  Installing build dependencies ... \u001b[?25l\u001b[?25hdone\n",
            "  Getting requirements to build wheel ... \u001b[?25l\u001b[?25hdone\n",
            "  Preparing metadata (pyproject.toml) ... \u001b[?25l\u001b[?25hdone\n",
            "Requirement already satisfied: pyyaml>=5.1 in /usr/local/lib/python3.9/dist-packages (from transformers==4.29.0.dev0) (6.0)\n",
            "Requirement already satisfied: requests in /usr/local/lib/python3.9/dist-packages (from transformers==4.29.0.dev0) (2.27.1)\n",
            "Collecting tokenizers!=0.11.3,<0.14,>=0.11.1\n",
            "  Downloading tokenizers-0.13.3-cp39-cp39-manylinux_2_17_x86_64.manylinux2014_x86_64.whl (7.8 MB)\n",
            "\u001b[2K     \u001b[90m━━━━━━━━━━━━━━━━━━━━━━━━━━━━━━━━━━━━━━━━\u001b[0m \u001b[32m7.8/7.8 MB\u001b[0m \u001b[31m29.6 MB/s\u001b[0m eta \u001b[36m0:00:00\u001b[0m\n",
            "\u001b[?25hRequirement already satisfied: packaging>=20.0 in /usr/local/lib/python3.9/dist-packages (from transformers==4.29.0.dev0) (23.1)\n",
            "Requirement already satisfied: filelock in /usr/local/lib/python3.9/dist-packages (from transformers==4.29.0.dev0) (3.11.0)\n",
            "Requirement already satisfied: numpy>=1.17 in /usr/local/lib/python3.9/dist-packages (from transformers==4.29.0.dev0) (1.22.4)\n",
            "Requirement already satisfied: regex!=2019.12.17 in /usr/local/lib/python3.9/dist-packages (from transformers==4.29.0.dev0) (2022.10.31)\n",
            "Collecting huggingface-hub<1.0,>=0.11.0\n",
            "  Downloading huggingface_hub-0.13.4-py3-none-any.whl (200 kB)\n",
            "\u001b[2K     \u001b[90m━━━━━━━━━━━━━━━━━━━━━━━━━━━━━━━━━━━━━━\u001b[0m \u001b[32m200.1/200.1 kB\u001b[0m \u001b[31m16.4 MB/s\u001b[0m eta \u001b[36m0:00:00\u001b[0m\n",
            "\u001b[?25hRequirement already satisfied: tqdm>=4.27 in /usr/local/lib/python3.9/dist-packages (from transformers==4.29.0.dev0) (4.65.0)\n",
            "Requirement already satisfied: typing-extensions>=3.7.4.3 in /usr/local/lib/python3.9/dist-packages (from huggingface-hub<1.0,>=0.11.0->transformers==4.29.0.dev0) (4.5.0)\n",
            "Requirement already satisfied: urllib3<1.27,>=1.21.1 in /usr/local/lib/python3.9/dist-packages (from requests->transformers==4.29.0.dev0) (1.26.15)\n",
            "Requirement already satisfied: idna<4,>=2.5 in /usr/local/lib/python3.9/dist-packages (from requests->transformers==4.29.0.dev0) (3.4)\n",
            "Requirement already satisfied: charset-normalizer~=2.0.0 in /usr/local/lib/python3.9/dist-packages (from requests->transformers==4.29.0.dev0) (2.0.12)\n",
            "Requirement already satisfied: certifi>=2017.4.17 in /usr/local/lib/python3.9/dist-packages (from requests->transformers==4.29.0.dev0) (2022.12.7)\n",
            "Building wheels for collected packages: transformers\n",
            "  Building wheel for transformers (pyproject.toml) ... \u001b[?25l\u001b[?25hdone\n",
            "  Created wheel for transformers: filename=transformers-4.29.0.dev0-py3-none-any.whl size=6973407 sha256=8b8ad4275a307462e3f366bda278e84218912edbb261b12380267500f398f2b3\n",
            "  Stored in directory: /tmp/pip-ephem-wheel-cache-rubn5afv/wheels/f7/92/8c/752ff3bfcd3439805d8bbf641614da38ef3226e127ebea86ee\n",
            "Successfully built transformers\n",
            "Installing collected packages: tokenizers, huggingface-hub, transformers\n",
            "Successfully installed huggingface-hub-0.13.4 tokenizers-0.13.3 transformers-4.29.0.dev0\n",
            "Looking in indexes: https://pypi.org/simple, https://us-python.pkg.dev/colab-wheels/public/simple/\n",
            "Requirement already satisfied: huggingface-hub in /usr/local/lib/python3.9/dist-packages (0.13.4)\n",
            "Requirement already satisfied: pyyaml>=5.1 in /usr/local/lib/python3.9/dist-packages (from huggingface-hub) (6.0)\n",
            "Requirement already satisfied: typing-extensions>=3.7.4.3 in /usr/local/lib/python3.9/dist-packages (from huggingface-hub) (4.5.0)\n",
            "Requirement already satisfied: requests in /usr/local/lib/python3.9/dist-packages (from huggingface-hub) (2.27.1)\n",
            "Requirement already satisfied: tqdm>=4.42.1 in /usr/local/lib/python3.9/dist-packages (from huggingface-hub) (4.65.0)\n",
            "Requirement already satisfied: packaging>=20.9 in /usr/local/lib/python3.9/dist-packages (from huggingface-hub) (23.1)\n",
            "Requirement already satisfied: filelock in /usr/local/lib/python3.9/dist-packages (from huggingface-hub) (3.11.0)\n",
            "Requirement already satisfied: charset-normalizer~=2.0.0 in /usr/local/lib/python3.9/dist-packages (from requests->huggingface-hub) (2.0.12)\n",
            "Requirement already satisfied: idna<4,>=2.5 in /usr/local/lib/python3.9/dist-packages (from requests->huggingface-hub) (3.4)\n",
            "Requirement already satisfied: urllib3<1.27,>=1.21.1 in /usr/local/lib/python3.9/dist-packages (from requests->huggingface-hub) (1.26.15)\n",
            "Requirement already satisfied: certifi>=2017.4.17 in /usr/local/lib/python3.9/dist-packages (from requests->huggingface-hub) (2022.12.7)\n"
          ]
        }
      ]
    },
    {
      "cell_type": "code",
      "source": [
        "!pip install datasets"
      ],
      "metadata": {
        "colab": {
          "base_uri": "https://localhost:8080/"
        },
        "id": "UVOeOTmYTMrw",
        "outputId": "fb2a4acc-916a-4f6b-a3fc-099a80b0b127"
      },
      "execution_count": null,
      "outputs": [
        {
          "output_type": "stream",
          "name": "stdout",
          "text": [
            "Looking in indexes: https://pypi.org/simple, https://us-python.pkg.dev/colab-wheels/public/simple/\n",
            "Collecting datasets\n",
            "  Downloading datasets-2.11.0-py3-none-any.whl (468 kB)\n",
            "\u001b[2K     \u001b[90m━━━━━━━━━━━━━━━━━━━━━━━━━━━━━━━━━━━━━━\u001b[0m \u001b[32m468.7/468.7 kB\u001b[0m \u001b[31m14.4 MB/s\u001b[0m eta \u001b[36m0:00:00\u001b[0m\n",
            "\u001b[?25hRequirement already satisfied: numpy>=1.17 in /usr/local/lib/python3.9/dist-packages (from datasets) (1.22.4)\n",
            "Requirement already satisfied: requests>=2.19.0 in /usr/local/lib/python3.9/dist-packages (from datasets) (2.27.1)\n",
            "Requirement already satisfied: huggingface-hub<1.0.0,>=0.11.0 in /usr/local/lib/python3.9/dist-packages (from datasets) (0.13.4)\n",
            "Requirement already satisfied: pyarrow>=8.0.0 in /usr/local/lib/python3.9/dist-packages (from datasets) (9.0.0)\n",
            "Collecting responses<0.19\n",
            "  Downloading responses-0.18.0-py3-none-any.whl (38 kB)\n",
            "Requirement already satisfied: pandas in /usr/local/lib/python3.9/dist-packages (from datasets) (1.5.3)\n",
            "Collecting dill<0.3.7,>=0.3.0\n",
            "  Downloading dill-0.3.6-py3-none-any.whl (110 kB)\n",
            "\u001b[2K     \u001b[90m━━━━━━━━━━━━━━━━━━━━━━━━━━━━━━━━━━━━━━\u001b[0m \u001b[32m110.5/110.5 kB\u001b[0m \u001b[31m11.7 MB/s\u001b[0m eta \u001b[36m0:00:00\u001b[0m\n",
            "\u001b[?25hRequirement already satisfied: tqdm>=4.62.1 in /usr/local/lib/python3.9/dist-packages (from datasets) (4.65.0)\n",
            "Requirement already satisfied: fsspec[http]>=2021.11.1 in /usr/local/lib/python3.9/dist-packages (from datasets) (2023.4.0)\n",
            "Collecting xxhash\n",
            "  Downloading xxhash-3.2.0-cp39-cp39-manylinux_2_17_x86_64.manylinux2014_x86_64.whl (212 kB)\n",
            "\u001b[2K     \u001b[90m━━━━━━━━━━━━━━━━━━━━━━━━━━━━━━━━━━━━━━\u001b[0m \u001b[32m212.2/212.2 kB\u001b[0m \u001b[31m20.7 MB/s\u001b[0m eta \u001b[36m0:00:00\u001b[0m\n",
            "\u001b[?25hRequirement already satisfied: packaging in /usr/local/lib/python3.9/dist-packages (from datasets) (23.1)\n",
            "\u001b[31m  ERROR: Operation cancelled by user\u001b[0m\u001b[31m\n",
            "\u001b[0m"
          ]
        }
      ]
    },
    {
      "cell_type": "markdown",
      "source": [
        "#Assign Data"
      ],
      "metadata": {
        "id": "xHfXSEhB9IWG"
      }
    },
    {
      "cell_type": "code",
      "source": [
        "from datasets import load_dataset\n",
        "dataset = load_dataset(\"thaisum\")"
      ],
      "metadata": {
        "colab": {
          "base_uri": "https://localhost:8080/",
          "height": 321
        },
        "id": "-S0W9SP2SFwx",
        "outputId": "fedb2164-2c53-45f5-dfd0-7f3dc482d555"
      },
      "execution_count": null,
      "outputs": [
        {
          "output_type": "error",
          "ename": "ModuleNotFoundError",
          "evalue": "ignored",
          "traceback": [
            "\u001b[0;31m---------------------------------------------------------------------------\u001b[0m",
            "\u001b[0;31mModuleNotFoundError\u001b[0m                       Traceback (most recent call last)",
            "\u001b[0;32m<ipython-input-9-1382fd5b8632>\u001b[0m in \u001b[0;36m<cell line: 1>\u001b[0;34m()\u001b[0m\n\u001b[0;32m----> 1\u001b[0;31m \u001b[0;32mfrom\u001b[0m \u001b[0mdatasets\u001b[0m \u001b[0;32mimport\u001b[0m \u001b[0mload_dataset\u001b[0m\u001b[0;34m\u001b[0m\u001b[0;34m\u001b[0m\u001b[0m\n\u001b[0m\u001b[1;32m      2\u001b[0m \u001b[0mdataset\u001b[0m \u001b[0;34m=\u001b[0m \u001b[0mload_dataset\u001b[0m\u001b[0;34m(\u001b[0m\u001b[0;34m\"thaisum\"\u001b[0m\u001b[0;34m)\u001b[0m\u001b[0;34m\u001b[0m\u001b[0;34m\u001b[0m\u001b[0m\n",
            "\u001b[0;31mModuleNotFoundError\u001b[0m: No module named 'datasets'",
            "",
            "\u001b[0;31m---------------------------------------------------------------------------\u001b[0;32m\nNOTE: If your import is failing due to a missing package, you can\nmanually install dependencies using either !pip or !apt.\n\nTo view examples of installing some common dependencies, click the\n\"Open Examples\" button below.\n\u001b[0;31m---------------------------------------------------------------------------\u001b[0m\n"
          ],
          "errorDetails": {
            "actions": [
              {
                "action": "open_url",
                "actionText": "Open Examples",
                "url": "/notebooks/snippets/importing_libraries.ipynb"
              }
            ]
          }
        }
      ]
    },
    {
      "cell_type": "code",
      "source": [
        "train = pd.DataFrame(dataset['train'])"
      ],
      "metadata": {
        "id": "-svfk0trZ0ND"
      },
      "execution_count": null,
      "outputs": []
    },
    {
      "cell_type": "code",
      "source": [
        "train"
      ],
      "metadata": {
        "id": "ap4KJF2scNwL"
      },
      "execution_count": null,
      "outputs": []
    },
    {
      "cell_type": "code",
      "source": [
        "train = train.drop(columns=['title', 'type', 'tags', 'url'])"
      ],
      "metadata": {
        "id": "etUqhLeCehKM"
      },
      "execution_count": null,
      "outputs": []
    },
    {
      "cell_type": "code",
      "source": [
        "train"
      ],
      "metadata": {
        "id": "lo_69htYe0o0"
      },
      "execution_count": null,
      "outputs": []
    },
    {
      "cell_type": "code",
      "source": [
        "validation = pd.DataFrame(dataset['validation'])\n",
        "test = pd.DataFrame(dataset['test'])"
      ],
      "metadata": {
        "id": "CR1MjtKVchLL"
      },
      "execution_count": null,
      "outputs": []
    },
    {
      "cell_type": "code",
      "source": [
        "test = test.drop(columns=['title', 'type', 'tags', 'url'])\n",
        "valiadation = validation.drop(columns=['title', 'type', 'tags', 'url'])"
      ],
      "metadata": {
        "id": "UCG9IkYwCjGP"
      },
      "execution_count": null,
      "outputs": []
    },
    {
      "cell_type": "code",
      "source": [
        "del dataset"
      ],
      "metadata": {
        "id": "lyy3m0vix_0_"
      },
      "execution_count": null,
      "outputs": []
    },
    {
      "cell_type": "markdown",
      "source": [
        "# Convert to unicode"
      ],
      "metadata": {
        "id": "3WVo_sJZGCIH"
      }
    },
    {
      "cell_type": "code",
      "source": [
        "import collections\n",
        "import unicodedata\n",
        "import six"
      ],
      "metadata": {
        "id": "WboQI2_fGGFF"
      },
      "execution_count": null,
      "outputs": []
    },
    {
      "cell_type": "code",
      "source": [
        "def convert_to_unicode(text):\n",
        "  \"\"\"Converts `text` to Unicode (if it's not already), assuming utf-8 input.\"\"\"\n",
        "  if six.PY3:\n",
        "    if isinstance(text, str):\n",
        "      return text\n",
        "    elif isinstance(text, bytes):\n",
        "      return text.decode(\"utf-8\", \"ignore\")\n",
        "    else:\n",
        "      raise ValueError(\"Unsupported string type: %s\" % (type(text)))\n",
        "  elif six.PY2:\n",
        "    if isinstance(text, str):\n",
        "      return text.decode(\"utf-8\", \"ignore\")\n",
        "    elif isinstance(text, unicode):\n",
        "      return text\n",
        "    else:\n",
        "      raise ValueError(\"Unsupported string type: %s\" % (type(text)))\n",
        "  else:\n",
        "    raise ValueError(\"Not running on Python2 or Python 3?\")"
      ],
      "metadata": {
        "id": "zxqdlKR6GHF9"
      },
      "execution_count": null,
      "outputs": []
    },
    {
      "cell_type": "code",
      "source": [
        "def load_vocab(vocab_file):\n",
        "  vocab = collections.OrderedDict()\n",
        "  index = 0\n",
        "  with open(vocab_file, \"r\") as reader:\n",
        "    while True:\n",
        "      token = reader.readline()\n",
        "      if token.split(): token = token.split()[0] # to support SentencePiece vocab file\n",
        "      token = convert_to_unicode(token)\n",
        "      if not token:\n",
        "        break\n",
        "      token = token.strip()\n",
        "      vocab[token] = index\n",
        "      index += 1\n",
        "  return vocab"
      ],
      "metadata": {
        "id": "h3OJLFO8GKG9"
      },
      "execution_count": null,
      "outputs": []
    },
    {
      "cell_type": "code",
      "source": [
        "from bert.bpe_helper import BPE\n",
        "import sentencepiece as spm"
      ],
      "metadata": {
        "id": "RljXevWaGKpF"
      },
      "execution_count": null,
      "outputs": []
    },
    {
      "cell_type": "code",
      "source": [
        "def convert_by_vocab(vocab, items):\n",
        "  output = []\n",
        "  for item in items:\n",
        "    output.append(vocab[item])\n",
        "  return output"
      ],
      "metadata": {
        "id": "VRl-is6xGMt9"
      },
      "execution_count": null,
      "outputs": []
    },
    {
      "cell_type": "code",
      "source": [
        "class ThaiTokenizer(object):\n",
        "  \"\"\"Tokenizes Thai texts.\"\"\"\n",
        "\n",
        "  def __init__(self, vocab_file, spm_file):\n",
        "    self.vocab = load_vocab(vocab_file)\n",
        "    self.inv_vocab = {v: k for k, v in self.vocab.items()}\n",
        "\n",
        "    self.bpe = BPE(vocab_file)    \n",
        "    self.s = spm.SentencePieceProcessor()\n",
        "    self.s.Load(spm_file)\n",
        "\n",
        "  def tokenize(self, text):\n",
        "    bpe_tokens = self.bpe.encode(text).split(' ')\n",
        "    spm_tokens = self.s.EncodeAsPieces(text)\n",
        "\n",
        "    tokens = bpe_tokens if len(bpe_tokens) < len(spm_tokens) else spm_tokens\n",
        "\n",
        "    split_tokens = []\n",
        "\n",
        "    for token in tokens:\n",
        "      new_token = token\n",
        "\n",
        "      if token.startswith('_') and not token in self.vocab:\n",
        "        split_tokens.append('_')\n",
        "        new_token = token[1:]\n",
        "\n",
        "      if not new_token in self.vocab:\n",
        "        split_tokens.append('<unk>')\n",
        "      else:\n",
        "        split_tokens.append(new_token)\n",
        "\n",
        "    return split_tokens\n",
        "\n",
        "  def convert_tokens_to_ids(self, tokens):\n",
        "    return convert_by_vocab(self.vocab, tokens)\n",
        "\n",
        "  def convert_ids_to_tokens(self, ids):\n",
        "    return convert_by_vocab(self.inv_vocab, ids)"
      ],
      "metadata": {
        "id": "XUIPKl2OGO-9"
      },
      "execution_count": null,
      "outputs": []
    },
    {
      "cell_type": "code",
      "source": [
        "!wget -O th.wiki.bpe.op25000.vocab https://raw.githubusercontent.com/jitkapat/thaipostagger/master/th.wiki.bpe.op25000.vocab\n",
        "!wget -O th.wiki.bpe.op25000.model https://raw.githubusercontent.com/jitkapat/thaipostagger/master/th.wiki.bpe.op25000.model"
      ],
      "metadata": {
        "colab": {
          "base_uri": "https://localhost:8080/"
        },
        "id": "XG6dHnroG6SB",
        "outputId": "8b81e4fc-a48a-4838-ef2c-48429b746aa2"
      },
      "execution_count": null,
      "outputs": [
        {
          "output_type": "stream",
          "name": "stdout",
          "text": [
            "--2023-04-18 08:43:12--  https://raw.githubusercontent.com/jitkapat/thaipostagger/master/th.wiki.bpe.op25000.vocab\n",
            "Resolving raw.githubusercontent.com (raw.githubusercontent.com)... 185.199.108.133, 185.199.109.133, 185.199.110.133, ...\n",
            "Connecting to raw.githubusercontent.com (raw.githubusercontent.com)|185.199.108.133|:443... connected.\n",
            "HTTP request sent, awaiting response... 200 OK\n",
            "Length: 652874 (638K) [text/plain]\n",
            "Saving to: ‘th.wiki.bpe.op25000.vocab’\n",
            "\n",
            "th.wiki.bpe.op25000 100%[===================>] 637.57K  --.-KB/s    in 0.02s   \n",
            "\n",
            "2023-04-18 08:43:12 (35.5 MB/s) - ‘th.wiki.bpe.op25000.vocab’ saved [652874/652874]\n",
            "\n",
            "--2023-04-18 08:43:13--  https://raw.githubusercontent.com/jitkapat/thaipostagger/master/th.wiki.bpe.op25000.model\n",
            "Resolving raw.githubusercontent.com (raw.githubusercontent.com)... 185.199.108.133, 185.199.109.133, 185.199.110.133, ...\n",
            "Connecting to raw.githubusercontent.com (raw.githubusercontent.com)|185.199.108.133|:443... connected.\n",
            "HTTP request sent, awaiting response... 200 OK\n",
            "Length: 926663 (905K) [application/octet-stream]\n",
            "Saving to: ‘th.wiki.bpe.op25000.model’\n",
            "\n",
            "th.wiki.bpe.op25000 100%[===================>] 904.94K  --.-KB/s    in 0.02s   \n",
            "\n",
            "2023-04-18 08:43:13 (46.0 MB/s) - ‘th.wiki.bpe.op25000.model’ saved [926663/926663]\n",
            "\n"
          ]
        }
      ]
    },
    {
      "cell_type": "code",
      "source": [
        "train"
      ],
      "metadata": {
        "colab": {
          "base_uri": "https://localhost:8080/",
          "height": 424
        },
        "id": "NrgrEL__iKDX",
        "outputId": "a0cbac97-6404-4214-a0b2-7a770afc2d14"
      },
      "execution_count": null,
      "outputs": [
        {
          "output_type": "execute_result",
          "data": {
            "text/plain": [
              "                                                     body  \\\n",
              "0       เมื่อวันที่ 6 ม.ค.60 ที่ทำเนียบรัฐบาล นายวิษณุ...   \n",
              "1        พ่ายสวีเดนด้วยประตูรวม 0–1 ตกรอบเพลย์ออฟไปอย่...   \n",
              "2        โดยล่าสุดถูกปั่นว่าเรียกร้องให้สังคมให้อภัยเป...   \n",
              "3       วันนี้ (7 เม.ย.2559) นายโชคดี อมรวัฒน์ รองผู้ว...   \n",
              "4       สำนักข่าวต่างประเทศรายงานวันที่ 26 ก.ย. ว่า หล...   \n",
              "...                                                   ...   \n",
              "358863  กึ้ง เฉลิมชัย แจงไปทำบุญที่เมียนมาร์ ไปกันหลาย...   \n",
              "358864  สำนักข่าวต่างประเทศรายงาน วันที่ 9 เม.ย. ว่า จ...   \n",
              "358865  โต้ศัลยกรรมเพิ่ม ไม่ซีเรียสคนเทียบรูปอดีต ไร้ง...   \n",
              "358866  วันที่ 21 พ.ย. กรมอุตุนิยมวิทยา ประกาศพายุดีเป...   \n",
              "358867  เมื่อวันที่ 19 พ.ค.63 ผู้สื่อข่าวรายงานว่า บรร...   \n",
              "\n",
              "                                                  summary  \n",
              "0       วิษณุ ยันโรดแม็ปตามขั้นตอนเดิม เชื่อ สนช.หยุดพ...  \n",
              "1       รอกันมา 2 สัปดาห์ บอลสโมสรลีกต่างๆของยุโรปก็กล...  \n",
              "2       อังคณา กสม. โพสต์ระบุเตรียมเข้าร้องต่อ ปอท.เรื...  \n",
              "3       รองผู้ว่าราชการจังหวัดภูเก็ตลงพื้นที่ตรวจสอบเก...  \n",
              "4       อันโตนิโอ คอนเต สร้างปรากฏการณ์ให้กับทัพ งูใหญ...  \n",
              "...                                                   ...  \n",
              "358863  กึ้ง เฉลิมชัย แจงไปทำบุญที่เมียนมา ไปกันหลายคน...  \n",
              "358864  จอร์จินิโอ ไวจ์นัลดุม มิดฟิลด์ทีมลิเวอร์พูล ออ...  \n",
              "358865  เคน ภูภูมิ ไม่เสียเซลฟ์คนทักหน้าเปลี่ยน คาดอาจ...  \n",
              "358866  กรมอุตุนิยมวิทยา ประกาศ ฉ.16 พายุดีเปรสชันคีโร...  \n",
              "358867  ชาวบ้านบางเทากลับมาใช้ชีวิตตามปกติ หลังปลดล็อก...  \n",
              "\n",
              "[358868 rows x 2 columns]"
            ],
            "text/html": [
              "\n",
              "  <div id=\"df-6b8cdda7-31ca-42cd-92a4-14a658e3aef3\">\n",
              "    <div class=\"colab-df-container\">\n",
              "      <div>\n",
              "<style scoped>\n",
              "    .dataframe tbody tr th:only-of-type {\n",
              "        vertical-align: middle;\n",
              "    }\n",
              "\n",
              "    .dataframe tbody tr th {\n",
              "        vertical-align: top;\n",
              "    }\n",
              "\n",
              "    .dataframe thead th {\n",
              "        text-align: right;\n",
              "    }\n",
              "</style>\n",
              "<table border=\"1\" class=\"dataframe\">\n",
              "  <thead>\n",
              "    <tr style=\"text-align: right;\">\n",
              "      <th></th>\n",
              "      <th>body</th>\n",
              "      <th>summary</th>\n",
              "    </tr>\n",
              "  </thead>\n",
              "  <tbody>\n",
              "    <tr>\n",
              "      <th>0</th>\n",
              "      <td>เมื่อวันที่ 6 ม.ค.60 ที่ทำเนียบรัฐบาล นายวิษณุ...</td>\n",
              "      <td>วิษณุ ยันโรดแม็ปตามขั้นตอนเดิม เชื่อ สนช.หยุดพ...</td>\n",
              "    </tr>\n",
              "    <tr>\n",
              "      <th>1</th>\n",
              "      <td>พ่ายสวีเดนด้วยประตูรวม 0–1 ตกรอบเพลย์ออฟไปอย่...</td>\n",
              "      <td>รอกันมา 2 สัปดาห์ บอลสโมสรลีกต่างๆของยุโรปก็กล...</td>\n",
              "    </tr>\n",
              "    <tr>\n",
              "      <th>2</th>\n",
              "      <td>โดยล่าสุดถูกปั่นว่าเรียกร้องให้สังคมให้อภัยเป...</td>\n",
              "      <td>อังคณา กสม. โพสต์ระบุเตรียมเข้าร้องต่อ ปอท.เรื...</td>\n",
              "    </tr>\n",
              "    <tr>\n",
              "      <th>3</th>\n",
              "      <td>วันนี้ (7 เม.ย.2559) นายโชคดี อมรวัฒน์ รองผู้ว...</td>\n",
              "      <td>รองผู้ว่าราชการจังหวัดภูเก็ตลงพื้นที่ตรวจสอบเก...</td>\n",
              "    </tr>\n",
              "    <tr>\n",
              "      <th>4</th>\n",
              "      <td>สำนักข่าวต่างประเทศรายงานวันที่ 26 ก.ย. ว่า หล...</td>\n",
              "      <td>อันโตนิโอ คอนเต สร้างปรากฏการณ์ให้กับทัพ งูใหญ...</td>\n",
              "    </tr>\n",
              "    <tr>\n",
              "      <th>...</th>\n",
              "      <td>...</td>\n",
              "      <td>...</td>\n",
              "    </tr>\n",
              "    <tr>\n",
              "      <th>358863</th>\n",
              "      <td>กึ้ง เฉลิมชัย แจงไปทำบุญที่เมียนมาร์ ไปกันหลาย...</td>\n",
              "      <td>กึ้ง เฉลิมชัย แจงไปทำบุญที่เมียนมา ไปกันหลายคน...</td>\n",
              "    </tr>\n",
              "    <tr>\n",
              "      <th>358864</th>\n",
              "      <td>สำนักข่าวต่างประเทศรายงาน วันที่ 9 เม.ย. ว่า จ...</td>\n",
              "      <td>จอร์จินิโอ ไวจ์นัลดุม มิดฟิลด์ทีมลิเวอร์พูล ออ...</td>\n",
              "    </tr>\n",
              "    <tr>\n",
              "      <th>358865</th>\n",
              "      <td>โต้ศัลยกรรมเพิ่ม ไม่ซีเรียสคนเทียบรูปอดีต ไร้ง...</td>\n",
              "      <td>เคน ภูภูมิ ไม่เสียเซลฟ์คนทักหน้าเปลี่ยน คาดอาจ...</td>\n",
              "    </tr>\n",
              "    <tr>\n",
              "      <th>358866</th>\n",
              "      <td>วันที่ 21 พ.ย. กรมอุตุนิยมวิทยา ประกาศพายุดีเป...</td>\n",
              "      <td>กรมอุตุนิยมวิทยา ประกาศ ฉ.16 พายุดีเปรสชันคีโร...</td>\n",
              "    </tr>\n",
              "    <tr>\n",
              "      <th>358867</th>\n",
              "      <td>เมื่อวันที่ 19 พ.ค.63 ผู้สื่อข่าวรายงานว่า บรร...</td>\n",
              "      <td>ชาวบ้านบางเทากลับมาใช้ชีวิตตามปกติ หลังปลดล็อก...</td>\n",
              "    </tr>\n",
              "  </tbody>\n",
              "</table>\n",
              "<p>358868 rows × 2 columns</p>\n",
              "</div>\n",
              "      <button class=\"colab-df-convert\" onclick=\"convertToInteractive('df-6b8cdda7-31ca-42cd-92a4-14a658e3aef3')\"\n",
              "              title=\"Convert this dataframe to an interactive table.\"\n",
              "              style=\"display:none;\">\n",
              "        \n",
              "  <svg xmlns=\"http://www.w3.org/2000/svg\" height=\"24px\"viewBox=\"0 0 24 24\"\n",
              "       width=\"24px\">\n",
              "    <path d=\"M0 0h24v24H0V0z\" fill=\"none\"/>\n",
              "    <path d=\"M18.56 5.44l.94 2.06.94-2.06 2.06-.94-2.06-.94-.94-2.06-.94 2.06-2.06.94zm-11 1L8.5 8.5l.94-2.06 2.06-.94-2.06-.94L8.5 2.5l-.94 2.06-2.06.94zm10 10l.94 2.06.94-2.06 2.06-.94-2.06-.94-.94-2.06-.94 2.06-2.06.94z\"/><path d=\"M17.41 7.96l-1.37-1.37c-.4-.4-.92-.59-1.43-.59-.52 0-1.04.2-1.43.59L10.3 9.45l-7.72 7.72c-.78.78-.78 2.05 0 2.83L4 21.41c.39.39.9.59 1.41.59.51 0 1.02-.2 1.41-.59l7.78-7.78 2.81-2.81c.8-.78.8-2.07 0-2.86zM5.41 20L4 18.59l7.72-7.72 1.47 1.35L5.41 20z\"/>\n",
              "  </svg>\n",
              "      </button>\n",
              "      \n",
              "  <style>\n",
              "    .colab-df-container {\n",
              "      display:flex;\n",
              "      flex-wrap:wrap;\n",
              "      gap: 12px;\n",
              "    }\n",
              "\n",
              "    .colab-df-convert {\n",
              "      background-color: #E8F0FE;\n",
              "      border: none;\n",
              "      border-radius: 50%;\n",
              "      cursor: pointer;\n",
              "      display: none;\n",
              "      fill: #1967D2;\n",
              "      height: 32px;\n",
              "      padding: 0 0 0 0;\n",
              "      width: 32px;\n",
              "    }\n",
              "\n",
              "    .colab-df-convert:hover {\n",
              "      background-color: #E2EBFA;\n",
              "      box-shadow: 0px 1px 2px rgba(60, 64, 67, 0.3), 0px 1px 3px 1px rgba(60, 64, 67, 0.15);\n",
              "      fill: #174EA6;\n",
              "    }\n",
              "\n",
              "    [theme=dark] .colab-df-convert {\n",
              "      background-color: #3B4455;\n",
              "      fill: #D2E3FC;\n",
              "    }\n",
              "\n",
              "    [theme=dark] .colab-df-convert:hover {\n",
              "      background-color: #434B5C;\n",
              "      box-shadow: 0px 1px 3px 1px rgba(0, 0, 0, 0.15);\n",
              "      filter: drop-shadow(0px 1px 2px rgba(0, 0, 0, 0.3));\n",
              "      fill: #FFFFFF;\n",
              "    }\n",
              "  </style>\n",
              "\n",
              "      <script>\n",
              "        const buttonEl =\n",
              "          document.querySelector('#df-6b8cdda7-31ca-42cd-92a4-14a658e3aef3 button.colab-df-convert');\n",
              "        buttonEl.style.display =\n",
              "          google.colab.kernel.accessAllowed ? 'block' : 'none';\n",
              "\n",
              "        async function convertToInteractive(key) {\n",
              "          const element = document.querySelector('#df-6b8cdda7-31ca-42cd-92a4-14a658e3aef3');\n",
              "          const dataTable =\n",
              "            await google.colab.kernel.invokeFunction('convertToInteractive',\n",
              "                                                     [key], {});\n",
              "          if (!dataTable) return;\n",
              "\n",
              "          const docLinkHtml = 'Like what you see? Visit the ' +\n",
              "            '<a target=\"_blank\" href=https://colab.research.google.com/notebooks/data_table.ipynb>data table notebook</a>'\n",
              "            + ' to learn more about interactive tables.';\n",
              "          element.innerHTML = '';\n",
              "          dataTable['output_type'] = 'display_data';\n",
              "          await google.colab.output.renderOutput(dataTable, element);\n",
              "          const docLink = document.createElement('div');\n",
              "          docLink.innerHTML = docLinkHtml;\n",
              "          element.appendChild(docLink);\n",
              "        }\n",
              "      </script>\n",
              "    </div>\n",
              "  </div>\n",
              "  "
            ]
          },
          "metadata": {},
          "execution_count": 39
        }
      ]
    },
    {
      "cell_type": "code",
      "source": [
        "from pythainlp import sent_tokenize\n",
        "tokenizer = ThaiTokenizer(vocab_file='th.wiki.bpe.op25000.vocab', spm_file='th.wiki.bpe.op25000.model')  \n",
        "\n",
        "# txt = \"กรุงเทพมหานครเป็นเขตปกครองพิเศษของประเทศไทย มิได้มีสถานะเป็นจังหวัด คำว่า \\\"กรุงเทพมหานคร\\\" นั้นยังใช้เรียกองค์กรปกครองส่วนท้องถิ่นของกรุงเทพมหานครอีกด้วย\"\n",
        "txt = convert_to_unicode(train.loc[3,'body'])\n",
        "split_sentences = sent_tokenize(txt)\n",
        "print(split_sentences)\n",
        "# \"\"\"\n",
        "# ['กรุงเทพมหานครเป็นเขตปกครองพิเศษของประเทศไทย ',\n",
        "#  'มิได้มีสถานะเป็นจังหวัด ',\n",
        "#  'คำว่า \"กรุงเทพมหานคร\" นั้นยังใช้เรียกองค์กรปกครองส่วนท้องถิ่นของกรุงเทพมหานครอีกด้วย']\n",
        "# \"\"\"\n",
        "\n",
        "# split_words = ' '.join(tokenizer.tokenize(' '.join(split_sentences)))\n",
        "test = tokenizer.tokenize(' '.join(split_sentences))\n",
        "print(test)\n",
        "# \"\"\"\n",
        "# '▁กรุงเทพมหานคร เป็นเขต ปกครอง พิเศษ ของประเทศไทย ▁มิ ได้มี สถานะเป็น จังหวัด ▁คําว่า ▁\" กรุงเทพมหานคร \" ▁นั้น...' # continues\n",
        "# \"\"\""
      ],
      "metadata": {
        "colab": {
          "base_uri": "https://localhost:8080/"
        },
        "id": "JGmRhYgHGWjE",
        "outputId": "a44b4a4c-ec44-4874-e289-e4769cfdec28"
      },
      "execution_count": null,
      "outputs": [
        {
          "output_type": "stream",
          "name": "stdout",
          "text": [
            "['วันนี้ (7 เม.ย.2559) ', 'นายโชคดี อมรวัฒน์ รองผู้ว่าราชการจังหวัดภูเก็ต เข้าตรวจสอบที่ดินของบริษัท ภูเขาหกลูก ผู้ครอบครองเอกสารสิทธิ์ น.ส.3 ก เลขที่ 3977 เนื้อที่ 24 ไร่เศษ บนเกาะนาคาน้อย ', 'ต.ป่าคลอก ', 'อ.ถลาง จ.ภูเก็ต ซึ่งตั้งติดกับที่ดินของครอบครัว ', 'หิรัญพฤกษ์ ', 'หลังจากครอบครัวดังกล่าวออกมาโพสต์ข้อความผ่านเฟซบุ๊กว่า มีคนของบริษัทดังกล่าวซึ่งมีอาวุธครบมือ จะเข้าไปแผ้วถางพื้นที่ป่าบนเกาะนาคาน้อย ', 'รวมทั้งจะนำรถแบ็คโฮ เข้าไปปรับพื้นที่ด้วยรองผู้ว่าราชการจังหวัดภูเก็ต กล่าวว่า ยังไม่พบการตัดต้นไม้ใหญ่ยกเว้นมีการทำทางเดินเป็นขั้นบันไดโดยใช้ปูนหยอด ขึ้นไปยังพื้นที่ด้านบนเกาะ ', 'เนื่องจากพื้นที่มีความลาดชันและการดำเนินการเช่นนี้ ถือว่า ยังไม่มากเกินไป ', 'ส่วนกระบวนการเพิกถอนตามที่มีการร้องเรียนว่าได้มาโดยมิชอบนั้น กรมที่ดินได้ตั้งคณะกรรรมการสอบสวน ซึ่งอยู่ระหว่างรวบรวมพยานหลักฐานที่เป็นเอกสารและพยานบุคคล ', 'โดยมีห้วงระยะเวลาในการโต้แย้งสิทธิ 30 วัน ', 'ซึ่งจะครบกำหนดในวันที่ 24 เม.ย.นายสายันห์ สรรบรรณ ', 'คนเฝ้าพื้นที่ของบริษัท ภูเขาหกลูก เล่าว่า ได้เข้ามาในพื้นที่เมื่อวันที่ 5 เม.ย.ที่ผ่านมา ', 'โดยมาพร้อมกับนายชาญวิทย์ กิจเลิศสิริวัฒนา เจ้าของที่ดินและผู้หญิงสูงอายุประมาณ 8 - 9 คน ซึ่งเป็นผู้ที่ขายที่ดินให้กับนายชาญวิทย์ ', 'เมื่อมาถึงนายภูริ หิรัญพฤกษ์ ได้เดินลัดเลาะเข้ามาสอบถามว่า มาทำไม ขณะที่พูดคุย ฝ่ายนายภูริได้อัดคลิปวีดิโอไว้ด้วย และยืนยันว่า ไม่ได้พกอาวุธหรือยิงปืนข่มขู่ ', 'ส่วนของรถแบ็คโฮ ก็ไม่ได้นำมาแต่อย่างใด']\n",
            "['▁วัน', 'นี้', '▁(', '<unk>', '▁เม', '.', 'ย', '.2', '<unk>', ')', '▁นาย', 'โช', 'คดี', '▁อมร', 'วัฒน์', '▁รอง', 'ผู้', 'ว่าราชการจังหวัด', 'ภูเก็ต', '▁เข้า', 'ตรวจสอบ', 'ที่ดิน', 'ของบริษัท', '▁ภูเขา', 'ห', 'กล', 'ูก', '▁ผู้', 'ครอบครอง', 'เอกสาร', 'สิทธิ์', '▁น', '.', 'ส', '.', '<unk>', '▁ก', '▁เลขที่', '▁', '<unk>', '▁เนื้อ', 'ที่', '▁', '2', '<unk>', '▁ไร่', 'เศษ', '▁บนเกาะ', 'นาค', 'าน้อย', '▁ต', '.', 'ป่า', 'คล', 'อก', '▁อ', '.', 'ถ', 'ลาง', '▁จ', '.', 'ภูเก็ต', '▁ซึ่ง', 'ตั้ง', 'ติดกับ', 'ที่ดิน', 'ของครอบครัว', '▁หิ', 'รัญ', 'พฤกษ์', '▁หลังจาก', 'ครอบครัว', 'ดังกล่าว', 'ออกมา', 'โพสต์', 'ข้อความ', 'ผ่าน', 'เฟซ', 'บุ', '๊', 'กว่า', '▁มี', 'คน', 'ของบริษัท', 'ดังกล่าว', 'ซึ่งมี', 'อาวุธ', 'ครบ', 'มือ', '▁จะ', 'เข้าไป', 'แผ', '้ว', 'ถ', 'าง', 'พื้นที่', 'ป่า', 'บนเกาะ', 'นาค', 'าน้อย', '▁รวมทั้ง', 'จะ', 'นํ', 'ารถ', 'แบ', '็ค', 'โฮ', '▁เข้า', 'ไป', 'ปรับ', 'พื้นที่', 'ด้วย', 'รอง', 'ผู้', 'ว่าราชการจังหวัด', 'ภูเก็ต', '▁กล่าวว่า', '▁ยัง', 'ไม่', 'พบ', 'การ', 'ตัด', 'ต้นไม้', 'ใหญ่', 'ยกเว้น', 'มีการ', 'ทํา', 'ทางเดิน', 'เป็น', 'ขั้น', 'บันได', 'โดยใช้', 'ปูน', 'ห', 'ยอด', '▁ขึ้น', 'ไปยัง', 'พื้นที่', 'ด้านบน', 'เกาะ', '▁เนื่องจาก', 'พื้น', 'ที่มีความ', 'ลาด', 'ชัน', 'และการ', 'ดําเนินการ', 'เช่นนี้', '▁ถือว่า', '▁ยัง', 'ไม่มาก', 'เกินไป', '▁ส่วน', 'กระบวนการ', 'เพ', 'ิก', 'ถอน', 'ตาม', 'ที่มีการ', 'ร้อง', 'เรียน', 'ว่า', 'ได้มา', 'โดย', 'มิ', 'ชอบ', 'นั้น', '▁กรม', 'ที่ดิน', 'ได้ตั้ง', 'คณะ', 'ก', 'รร', 'รม', 'การ', 'สอบสวน', '▁ซึ่ง', 'อยู่ระหว่าง', 'รวบรวม', 'พ', 'ยาน', 'หลักฐาน', 'ที่เป็น', 'เอกสาร', 'และ', 'พ', 'ยาน', 'บุคคล', '▁โดยมี', 'ห', '้วง', 'ระยะเวลา', 'ในการ', 'โต้แย้ง', 'สิทธิ', '▁', '<unk>', '0', '▁วัน', '▁ซึ่งจะ', 'ครบ', 'กําหนด', 'ในวันที่', '▁', '2', '<unk>', '▁เม', '.', 'ย', '.', 'นาย', 'สาย', 'ัน', 'ห์', '▁ส', 'รร', 'บรรณ', '▁คน', 'เฝ้า', 'พื้นที่', 'ของบริษัท', '▁ภูเขา', 'ห', 'กล', 'ูก', '▁เล', '่าว่า', '▁ได้', 'เข้ามา', 'ในพื้นที่', 'เมื่อวันที่', '▁', '<unk>', '▁เม', '.', 'ย', '.', 'ที่ผ่านมา', '▁โดย', 'มา', 'พร้อมกับ', 'นาย', 'ชาญ', 'วิทย์', '▁กิจ', 'เลิศ', 'สิริ', 'วัฒนา', '▁เจ้าของ', 'ที่ดิน', 'และผู้', 'หญิง', 'สูงอายุ', 'ประมาณ', '▁', '<unk>', '▁-', '▁', '<unk>', '▁คน', '▁ซึ่งเป็น', 'ผู้ที่', 'ขาย', 'ที่ดิน', 'ให้กับ', 'นาย', 'ชาญ', 'วิทย์', '▁เมื่อ', 'มาถึง', 'นาย', 'ภู', 'ริ', '▁หิ', 'รัญ', 'พฤกษ์', '▁ได้', 'เดิน', 'ลัด', 'เล', 'าะ', 'เข้าม', 'าส', 'อบ', 'ถาม', 'ว่า', '▁มา', 'ทํา', 'ไม', '▁ขณะที่', 'พูดคุย', '▁ฝ', '่ายน', 'าย', 'ภู', 'ริ', 'ได้', 'อัด', 'คลิป', 'วีดิโอ', 'ไว้ด้วย', '▁และ', 'ยืนยัน', 'ว่า', '▁ไม่ได้', 'พก', 'อาวุธ', 'หรือ', 'ยิงปืน', 'ข่ม', 'ข', 'ู่', '▁ส่วนของ', 'รถ', 'แบ', '็ค', 'โฮ', '▁ก็', 'ไม่ได้', 'นํามา', 'แต่อย่างใด']\n"
          ]
        }
      ]
    },
    {
      "cell_type": "code",
      "source": [
        "def tokenizer(text):\n",
        "  text = text.replace(\" \", \"\")\n",
        "  words = word_tokenize(text, engine='newmm') #Neural network \n",
        "  return words"
      ],
      "metadata": {
        "id": "uiE5B6_rifR1"
      },
      "execution_count": null,
      "outputs": []
    },
    {
      "cell_type": "code",
      "source": [
        "print(tokenizer(train.loc[3, 'body']))"
      ],
      "metadata": {
        "colab": {
          "base_uri": "https://localhost:8080/"
        },
        "id": "lDcL-iHeiuDO",
        "outputId": "dbe050bd-5738-47a3-971f-092bb9d75a92"
      },
      "execution_count": null,
      "outputs": [
        {
          "output_type": "stream",
          "name": "stdout",
          "text": [
            "['วัน', 'นี้', '(', '7', 'เม.ย.', '2559', ')', 'นายโชคดีอมรวัฒน์', 'รอง', 'ผู้', 'ว่า', 'ราชการ', 'จังหวัดภูเก็ต', 'เข้า', 'ตรวจสอบ', 'ที่ดิน', 'ของ', 'บริษัทภูเขา', 'หก', 'ลูกผู้', 'ครอบครอง', 'เอกสาร', 'สิทธิ์', 'น.ส.', '3กเลข', 'ที่', '3977', 'เนื้อ', 'ที่', '24', 'ไร่', 'เศษ', 'บน', 'เกาะนาคาน้อย', 'ต.ป่าคลอก', 'อ.ถลาง', 'จ.ภูเก็ต', 'ซึ่ง', 'ตั้ง', 'ติด', 'กับ', 'ที่ดิน', 'ของ', 'ครอบครัวหิรัญพฤกษ์', 'หลัง', 'จาก', 'ครอบครัว', 'ดัง', 'กล่าว', 'ออก', 'มา', 'โพสต์', 'ข้อความ', 'ผ่าน', 'เฟซบุ๊ก', 'ว่า', 'มี', 'คน', 'ของ', 'บริษัท', 'ดัง', 'กล่าว', 'ซึ่ง', 'มี', 'อาวุธ', 'ครบ', 'มือ', 'จะ', 'เข้า', 'ไป', 'แผ้ว', 'ถาง', 'พื้นที่', 'ป่า', 'บน', 'เกาะนาคา', 'น้อย', 'รวม', 'ทั้ง', 'จะ', 'นำ', 'รถ', 'แบ็คโฮ', 'เข้า', 'ไป', 'ปรับ', 'พื้นที่', 'ด้วย', 'รอง', 'ผู้', 'ว่า', 'ราชการ', 'จังหวัดภูเก็ต', 'กล่าว', 'ว่า', 'ยัง', 'ไม่', 'พบ', 'การ', 'ตัด', 'ต้น', 'ไม้', 'ใหญ่', 'ยกเว้น', 'มี', 'การ', 'ทำ', 'ทาง', 'เดิน', 'เป็น', 'ขั้น', 'บันได', 'โดย', 'ใช้', 'ปูน', 'หยอด', 'ขึ้น', 'ไป', 'ยัง', 'พื้นที่', 'ด้าน', 'บน', 'เกาะ', 'เนื่อง', 'จาก', 'พื้นที่', 'มี', 'ความ', 'ลาด', 'ชัน', 'และ', 'การ', 'ดำเนิน', 'การ', 'เช่น', 'นี้', 'ถือ', 'ว่า', 'ยัง', 'ไม่', 'มาก', 'เกิน', 'ไป', 'ส่วน', 'กระบวน', 'การ', 'เพิกถอน', 'ตาม', 'ที่', 'มี', 'การ', 'ร้องเรียน', 'ว่า', 'ได้', 'มา', 'โดย', 'มิ', 'ชอบ', 'นั้น', 'กรม', 'ที่ดิน', 'ได้', 'ตั้ง', 'คณะ', 'กรรรมการ', 'สอบสวน', 'ซึ่ง', 'อยู่', 'ระหว่าง', 'รวบรวม', 'พยาน', 'หลักฐาน', 'ที่', 'เป็น', 'เอกสาร', 'และ', 'พยาน', 'บุคคล', 'โดย', 'มี', 'ห้วง', 'ระยะ', 'เวลา', 'ใน', 'การ', 'โต้แย้ง', 'สิทธิ', '30', 'วัน', 'ซึ่ง', 'จะ', 'ครบ', 'กำหนด', 'ใน', 'วัน', 'ที่', '24', 'เม.ย.', 'นายสายันห์', 'สรรบรรณ', 'คน', 'เฝ้า', 'พื้นที่', 'ของ', 'บริษัทภูเขา', 'หก', 'ลูก', 'เล่า', 'ว่า', 'ได้', 'เข้า', 'มา', 'ใน', 'พื้นที่', 'เมื่อ', 'วัน', 'ที่', '5เม.ย.', 'ที่', 'ผ่าน', 'มา', 'โดย', 'มา', 'พร้อม', 'กับ', 'นายชาญวิทย์กิจเลิศสิริวัฒนา', 'เจ้าของ', 'ที่ดิน', 'และ', 'ผู้', 'หญิง', 'สูง', 'อายุ', 'ประมาณ', '8', '-', '9', 'คน', 'ซึ่ง', 'เป็น', 'ผู้', 'ที่', 'ขาย', 'ที่ดิน', 'ให้', 'กับ', 'นายชาญวิทย์', 'เมื่อ', 'มา', 'ถึง', 'นายภูริหิรัญพฤกษ์', 'ได้', 'เดิน', 'ลัดเลาะ', 'เข้า', 'มา', 'สอบถาม', 'ว่า', 'มา', 'ทำไม', 'ขณะ', 'ที่', 'พูดคุย', 'ฝ่าย', 'นายภูริได้อัด', 'คลิปวีดิโอ', 'ไว้', 'ด้วย', 'และ', 'ยืนยัน', 'ว่า', 'ไม่', 'ได้', 'พก', 'อาวุธ', 'หรือ', 'ยิง', 'ปืน', 'ข่มขู่', 'ส่วน', 'ของ', 'รถ', 'แบ็คโฮ', 'ก็', 'ไม่', 'ได้', 'นำ', 'มา', 'แต่อย่างใด']\n"
          ]
        }
      ]
    },
    {
      "cell_type": "code",
      "source": [
        "train['tokenize'] = train['body'].apply(tokenizer)"
      ],
      "metadata": {
        "id": "ZmdHyVu0jhIm"
      },
      "execution_count": null,
      "outputs": []
    },
    {
      "cell_type": "code",
      "source": [
        "economy['tokenize'] = economy['sentence'].apply(sent_tokenize)"
      ],
      "metadata": {
        "id": "LbLpwmg3Strr"
      },
      "execution_count": null,
      "outputs": []
    },
    {
      "cell_type": "code",
      "source": [
        "economy"
      ],
      "metadata": {
        "colab": {
          "base_uri": "https://localhost:8080/",
          "height": 424
        },
        "id": "MXcR682cbRL-",
        "outputId": "c0551be0-aba5-4137-c1f4-bdaf67cc81ee"
      },
      "execution_count": null,
      "outputs": [
        {
          "output_type": "execute_result",
          "data": {
            "text/plain": [
              "                                             sentence  \\\n",
              "0   โครงการท้องถิ่นคือบูมมาก รายได้กระจายตัว คนกล้...   \n",
              "1   @imymind_21 ไปแน่นอนฮ้าบ แต่จะบอกว่านักท่องเที...   \n",
              "2         อยากไปดอยอินทนนท์ว่ะ นักท่องเที่ยวเยอะยังวะ   \n",
              "3   คนไทยกินข้าวเป็นหลัก ทำนามันไม่ตอบโจทย์ตรงไหนอ...   \n",
              "4   เพราะของขึ้นราคาบ้างล่ะ แรงงานโดนกดขี่บ้างล่ะ ...   \n",
              "..                                                ...   \n",
              "95  @WzGTO2020 ปัญหาสัตว์เลี้ยงพวกนี้สาเหตุหลักคือ...   \n",
              "96  การเมือง - ประมงกำลังล่มสลาย! ผู้ประกอบการ 22 ...   \n",
              "97  “ทหารจิตอาสา เป็นที่พึ่งของประชาชน ในทุกโอกาส”...   \n",
              "98  ตัวแทนชาวประมงและตัวแทนสมาคมการประมงแห่งประเทศ...   \n",
              "99  @_jerxgirl @toon_wnd @VIXXCOZZ โครงสร้าง?คนกิน...   \n",
              "\n",
              "                                     process_sentence  \\\n",
              "0   โครงการท้องถิ่นคือโดดเด่นมาก รายได้กระจายตัว ค...   \n",
              "1   @imymind_21 ไปแน่นอนครับ แต่จะบอกว่านักท่องเที...   \n",
              "2         อยากไปดอยอินทนนท์มาก นักท่องเที่ยวเยอะจังวะ   \n",
              "3   คนไทยกินข้าวเป็นหลัก ทำนามันไม่ตอบโจทย์ตรงไหนอ...   \n",
              "4   เพราะของขึ้นราคาบ้างล่ะ แรงงานโดนกดขี่บ้างล่ะ ...   \n",
              "..                                                ...   \n",
              "95  @WzGTO2020 ปัญหาสัตว์เลี้ยงพวกนี้สาเหตุหลักคือ...   \n",
              "96  การเมือง - ประมงกำลังล่มสลาย! ผู้ประกอบการ 22 ...   \n",
              "97  “ทหารจิตอาสา เป็นที่พึ่งของประชาชน ในทุกโอกาส”...   \n",
              "98  ตัวแทนชาวประมงและตัวแทนสมาคมการประมงแห่งประเทศ...   \n",
              "99  @_jerxgirl @toon_wnd @VIXXCOZZ โครงสร้าง?คนกิน...   \n",
              "\n",
              "                                             tokenize  \\\n",
              "0   [โครงการท้องถิ่นคือบูมมาก , รายได้กระจายตัว , ...   \n",
              "1   [@imymind_21 ไปแน่นอนฮ้าบ แต่จะบอกว่านักท่องเท...   \n",
              "2       [อยากไปดอยอินทนนท์ว่ะ นักท่องเที่ยวเยอะยังวะ]   \n",
              "3   [คนไทยกินข้าวเป็นหลัก , ทำนามันไม่ตอบโจทย์ตรงไ...   \n",
              "4   [เพราะของขึ้นราคาบ้างล่ะ แรงงานโดนกดขี่บ้างล่ะ...   \n",
              "..                                                ...   \n",
              "95  [@WzGTO2020 , ปัญหาสัตว์เลี้ยงพวกนี้สาเหตุหลัก...   \n",
              "96  [การเมือง - ประมงกำลังล่มสลาย! ผู้ประกอบการ 22...   \n",
              "97  [“ทหารจิตอาสา เป็นที่พึ่งของประชาชน , ในทุกโอก...   \n",
              "98  [ตัวแทนชาวประมงและตัวแทนสมาคมการประมงแห่งประเท...   \n",
              "99  [@_jerxgirl @toon_wnd @VIXXCOZZ โครงสร้าง?คนกิ...   \n",
              "\n",
              "                                          newTokenize  \n",
              "0   [8651, 1645, 332, 1101, 24730, 329, 1140, 61, ...  \n",
              "1   [24719, 4, 1440, 7576, 3790, 24838, 24854, 4, ...  \n",
              "2   [18545, 157, 7988, 15296, 11529, 1913, 24742, ...  \n",
              "3   [413, 233, 2191, 1921, 6098, 2158, 760, 15, 25...  \n",
              "4   [2350, 34, 130, 65, 3482, 1258, 24732, 22499, ...  \n",
              "..                                                ...  \n",
              "95  [24719, 4, 24819, 4, 24854, 24728, 24854, 2472...  \n",
              "96  [470, 180, 480, 540, 2289, 1575, 8313, 24830, ...  \n",
              "97  [1531, 1310, 2011, 18870, 5887, 14422, 12478, ...  \n",
              "98  [13609, 245, 8004, 30, 2708, 1912, 21, 8004, 3...  \n",
              "99  [24719, 4, 24838, 24817, 264, 24818, 24795, 63...  \n",
              "\n",
              "[100 rows x 4 columns]"
            ],
            "text/html": [
              "\n",
              "  <div id=\"df-7ea0bce7-58ef-46f2-9d0b-bb2442c6f0c5\">\n",
              "    <div class=\"colab-df-container\">\n",
              "      <div>\n",
              "<style scoped>\n",
              "    .dataframe tbody tr th:only-of-type {\n",
              "        vertical-align: middle;\n",
              "    }\n",
              "\n",
              "    .dataframe tbody tr th {\n",
              "        vertical-align: top;\n",
              "    }\n",
              "\n",
              "    .dataframe thead th {\n",
              "        text-align: right;\n",
              "    }\n",
              "</style>\n",
              "<table border=\"1\" class=\"dataframe\">\n",
              "  <thead>\n",
              "    <tr style=\"text-align: right;\">\n",
              "      <th></th>\n",
              "      <th>sentence</th>\n",
              "      <th>process_sentence</th>\n",
              "      <th>tokenize</th>\n",
              "      <th>newTokenize</th>\n",
              "    </tr>\n",
              "  </thead>\n",
              "  <tbody>\n",
              "    <tr>\n",
              "      <th>0</th>\n",
              "      <td>โครงการท้องถิ่นคือบูมมาก รายได้กระจายตัว คนกล้...</td>\n",
              "      <td>โครงการท้องถิ่นคือโดดเด่นมาก รายได้กระจายตัว ค...</td>\n",
              "      <td>[โครงการท้องถิ่นคือบูมมาก , รายได้กระจายตัว , ...</td>\n",
              "      <td>[8651, 1645, 332, 1101, 24730, 329, 1140, 61, ...</td>\n",
              "    </tr>\n",
              "    <tr>\n",
              "      <th>1</th>\n",
              "      <td>@imymind_21 ไปแน่นอนฮ้าบ แต่จะบอกว่านักท่องเที...</td>\n",
              "      <td>@imymind_21 ไปแน่นอนครับ แต่จะบอกว่านักท่องเที...</td>\n",
              "      <td>[@imymind_21 ไปแน่นอนฮ้าบ แต่จะบอกว่านักท่องเท...</td>\n",
              "      <td>[24719, 4, 1440, 7576, 3790, 24838, 24854, 4, ...</td>\n",
              "    </tr>\n",
              "    <tr>\n",
              "      <th>2</th>\n",
              "      <td>อยากไปดอยอินทนนท์ว่ะ นักท่องเที่ยวเยอะยังวะ</td>\n",
              "      <td>อยากไปดอยอินทนนท์มาก นักท่องเที่ยวเยอะจังวะ</td>\n",
              "      <td>[อยากไปดอยอินทนนท์ว่ะ นักท่องเที่ยวเยอะยังวะ]</td>\n",
              "      <td>[18545, 157, 7988, 15296, 11529, 1913, 24742, ...</td>\n",
              "    </tr>\n",
              "    <tr>\n",
              "      <th>3</th>\n",
              "      <td>คนไทยกินข้าวเป็นหลัก ทำนามันไม่ตอบโจทย์ตรงไหนอ...</td>\n",
              "      <td>คนไทยกินข้าวเป็นหลัก ทำนามันไม่ตอบโจทย์ตรงไหนอ...</td>\n",
              "      <td>[คนไทยกินข้าวเป็นหลัก , ทำนามันไม่ตอบโจทย์ตรงไ...</td>\n",
              "      <td>[413, 233, 2191, 1921, 6098, 2158, 760, 15, 25...</td>\n",
              "    </tr>\n",
              "    <tr>\n",
              "      <th>4</th>\n",
              "      <td>เพราะของขึ้นราคาบ้างล่ะ แรงงานโดนกดขี่บ้างล่ะ ...</td>\n",
              "      <td>เพราะของขึ้นราคาบ้างล่ะ แรงงานโดนกดขี่บ้างล่ะ ...</td>\n",
              "      <td>[เพราะของขึ้นราคาบ้างล่ะ แรงงานโดนกดขี่บ้างล่ะ...</td>\n",
              "      <td>[2350, 34, 130, 65, 3482, 1258, 24732, 22499, ...</td>\n",
              "    </tr>\n",
              "    <tr>\n",
              "      <th>...</th>\n",
              "      <td>...</td>\n",
              "      <td>...</td>\n",
              "      <td>...</td>\n",
              "      <td>...</td>\n",
              "    </tr>\n",
              "    <tr>\n",
              "      <th>95</th>\n",
              "      <td>@WzGTO2020 ปัญหาสัตว์เลี้ยงพวกนี้สาเหตุหลักคือ...</td>\n",
              "      <td>@WzGTO2020 ปัญหาสัตว์เลี้ยงพวกนี้สาเหตุหลักคือ...</td>\n",
              "      <td>[@WzGTO2020 , ปัญหาสัตว์เลี้ยงพวกนี้สาเหตุหลัก...</td>\n",
              "      <td>[24719, 4, 24819, 4, 24854, 24728, 24854, 2472...</td>\n",
              "    </tr>\n",
              "    <tr>\n",
              "      <th>96</th>\n",
              "      <td>การเมือง - ประมงกำลังล่มสลาย! ผู้ประกอบการ 22 ...</td>\n",
              "      <td>การเมือง - ประมงกำลังล่มสลาย! ผู้ประกอบการ 22 ...</td>\n",
              "      <td>[การเมือง - ประมงกำลังล่มสลาย! ผู้ประกอบการ 22...</td>\n",
              "      <td>[470, 180, 480, 540, 2289, 1575, 8313, 24830, ...</td>\n",
              "    </tr>\n",
              "    <tr>\n",
              "      <th>97</th>\n",
              "      <td>“ทหารจิตอาสา เป็นที่พึ่งของประชาชน ในทุกโอกาส”...</td>\n",
              "      <td>“ทหารจิตอาสา เป็นที่พึ่งของประชาชน ในทุกโอกาส”...</td>\n",
              "      <td>[“ทหารจิตอาสา เป็นที่พึ่งของประชาชน , ในทุกโอก...</td>\n",
              "      <td>[1531, 1310, 2011, 18870, 5887, 14422, 12478, ...</td>\n",
              "    </tr>\n",
              "    <tr>\n",
              "      <th>98</th>\n",
              "      <td>ตัวแทนชาวประมงและตัวแทนสมาคมการประมงแห่งประเทศ...</td>\n",
              "      <td>ตัวแทนชาวประมงและตัวแทนสมาคมการประมงแห่งประเทศ...</td>\n",
              "      <td>[ตัวแทนชาวประมงและตัวแทนสมาคมการประมงแห่งประเท...</td>\n",
              "      <td>[13609, 245, 8004, 30, 2708, 1912, 21, 8004, 3...</td>\n",
              "    </tr>\n",
              "    <tr>\n",
              "      <th>99</th>\n",
              "      <td>@_jerxgirl @toon_wnd @VIXXCOZZ โครงสร้าง?คนกิน...</td>\n",
              "      <td>@_jerxgirl @toon_wnd @VIXXCOZZ โครงสร้าง?คนกิน...</td>\n",
              "      <td>[@_jerxgirl @toon_wnd @VIXXCOZZ โครงสร้าง?คนกิ...</td>\n",
              "      <td>[24719, 4, 24838, 24817, 264, 24818, 24795, 63...</td>\n",
              "    </tr>\n",
              "  </tbody>\n",
              "</table>\n",
              "<p>100 rows × 4 columns</p>\n",
              "</div>\n",
              "      <button class=\"colab-df-convert\" onclick=\"convertToInteractive('df-7ea0bce7-58ef-46f2-9d0b-bb2442c6f0c5')\"\n",
              "              title=\"Convert this dataframe to an interactive table.\"\n",
              "              style=\"display:none;\">\n",
              "        \n",
              "  <svg xmlns=\"http://www.w3.org/2000/svg\" height=\"24px\"viewBox=\"0 0 24 24\"\n",
              "       width=\"24px\">\n",
              "    <path d=\"M0 0h24v24H0V0z\" fill=\"none\"/>\n",
              "    <path d=\"M18.56 5.44l.94 2.06.94-2.06 2.06-.94-2.06-.94-.94-2.06-.94 2.06-2.06.94zm-11 1L8.5 8.5l.94-2.06 2.06-.94-2.06-.94L8.5 2.5l-.94 2.06-2.06.94zm10 10l.94 2.06.94-2.06 2.06-.94-2.06-.94-.94-2.06-.94 2.06-2.06.94z\"/><path d=\"M17.41 7.96l-1.37-1.37c-.4-.4-.92-.59-1.43-.59-.52 0-1.04.2-1.43.59L10.3 9.45l-7.72 7.72c-.78.78-.78 2.05 0 2.83L4 21.41c.39.39.9.59 1.41.59.51 0 1.02-.2 1.41-.59l7.78-7.78 2.81-2.81c.8-.78.8-2.07 0-2.86zM5.41 20L4 18.59l7.72-7.72 1.47 1.35L5.41 20z\"/>\n",
              "  </svg>\n",
              "      </button>\n",
              "      \n",
              "  <style>\n",
              "    .colab-df-container {\n",
              "      display:flex;\n",
              "      flex-wrap:wrap;\n",
              "      gap: 12px;\n",
              "    }\n",
              "\n",
              "    .colab-df-convert {\n",
              "      background-color: #E8F0FE;\n",
              "      border: none;\n",
              "      border-radius: 50%;\n",
              "      cursor: pointer;\n",
              "      display: none;\n",
              "      fill: #1967D2;\n",
              "      height: 32px;\n",
              "      padding: 0 0 0 0;\n",
              "      width: 32px;\n",
              "    }\n",
              "\n",
              "    .colab-df-convert:hover {\n",
              "      background-color: #E2EBFA;\n",
              "      box-shadow: 0px 1px 2px rgba(60, 64, 67, 0.3), 0px 1px 3px 1px rgba(60, 64, 67, 0.15);\n",
              "      fill: #174EA6;\n",
              "    }\n",
              "\n",
              "    [theme=dark] .colab-df-convert {\n",
              "      background-color: #3B4455;\n",
              "      fill: #D2E3FC;\n",
              "    }\n",
              "\n",
              "    [theme=dark] .colab-df-convert:hover {\n",
              "      background-color: #434B5C;\n",
              "      box-shadow: 0px 1px 3px 1px rgba(0, 0, 0, 0.15);\n",
              "      filter: drop-shadow(0px 1px 2px rgba(0, 0, 0, 0.3));\n",
              "      fill: #FFFFFF;\n",
              "    }\n",
              "  </style>\n",
              "\n",
              "      <script>\n",
              "        const buttonEl =\n",
              "          document.querySelector('#df-7ea0bce7-58ef-46f2-9d0b-bb2442c6f0c5 button.colab-df-convert');\n",
              "        buttonEl.style.display =\n",
              "          google.colab.kernel.accessAllowed ? 'block' : 'none';\n",
              "\n",
              "        async function convertToInteractive(key) {\n",
              "          const element = document.querySelector('#df-7ea0bce7-58ef-46f2-9d0b-bb2442c6f0c5');\n",
              "          const dataTable =\n",
              "            await google.colab.kernel.invokeFunction('convertToInteractive',\n",
              "                                                     [key], {});\n",
              "          if (!dataTable) return;\n",
              "\n",
              "          const docLinkHtml = 'Like what you see? Visit the ' +\n",
              "            '<a target=\"_blank\" href=https://colab.research.google.com/notebooks/data_table.ipynb>data table notebook</a>'\n",
              "            + ' to learn more about interactive tables.';\n",
              "          element.innerHTML = '';\n",
              "          dataTable['output_type'] = 'display_data';\n",
              "          await google.colab.output.renderOutput(dataTable, element);\n",
              "          const docLink = document.createElement('div');\n",
              "          docLink.innerHTML = docLinkHtml;\n",
              "          element.appendChild(docLink);\n",
              "        }\n",
              "      </script>\n",
              "    </div>\n",
              "  </div>\n",
              "  "
            ]
          },
          "metadata": {},
          "execution_count": 48
        }
      ]
    },
    {
      "cell_type": "code",
      "source": [],
      "metadata": {
        "id": "fsaOt4-ObRG8"
      },
      "execution_count": null,
      "outputs": []
    },
    {
      "cell_type": "code",
      "source": [
        "def preprocess(items):\n",
        "  temp = []\n",
        "  for i, text in items:\n",
        "    text = sent_tokenize(text)\n",
        "    text = tokenizer.tokenize(' '.join(text))\n",
        "    temp.append(tokenizer.convert_tokens_to_ids(text))\n",
        "  return temp"
      ],
      "metadata": {
        "id": "YI3ufZOJTeSu"
      },
      "execution_count": null,
      "outputs": []
    },
    {
      "cell_type": "code",
      "source": [
        "economy['tokenize'] = preprocess(economy.sentence.items())\n",
        "economy['process_tokenize'] = preprocess(economy.process_sentence.items())"
      ],
      "metadata": {
        "id": "O4hTm_febLqu"
      },
      "execution_count": null,
      "outputs": []
    },
    {
      "cell_type": "code",
      "source": [
        "max_word_x = MaximumWord(economy.tokenize.items())\n",
        "max_word_y = MaximumWord(economy.process_tokenize.items())"
      ],
      "metadata": {
        "colab": {
          "base_uri": "https://localhost:8080/"
        },
        "id": "q8YDygnga5Wf",
        "outputId": "1f42abcc-60a2-497d-9ce6-c83ecdb9f6cb"
      },
      "execution_count": null,
      "outputs": [
        {
          "output_type": "stream",
          "name": "stdout",
          "text": [
            "102 41\n",
            "99 41\n"
          ]
        }
      ]
    },
    {
      "cell_type": "code",
      "source": [
        "from itertools import chain, repeat, islice\n",
        "\n",
        "def pad_infinite(iterable, padding=None):\n",
        "   return chain(iterable, repeat(padding))\n",
        "   \n",
        "def pad(iterable, size, padding=None):\n",
        "   return islice(pad_infinite(iterable, padding), size)"
      ],
      "metadata": {
        "id": "RF5MriGJcatl"
      },
      "execution_count": null,
      "outputs": []
    },
    {
      "cell_type": "code",
      "source": [
        "test = [1, 2, 3]\n",
        "test = list(pad(test, 8, 0))\n",
        "test"
      ],
      "metadata": {
        "colab": {
          "base_uri": "https://localhost:8080/"
        },
        "id": "EYBz4fMbcQrO",
        "outputId": "dbc75c5d-2d23-4a7d-96ef-bc66feb72d94"
      },
      "execution_count": null,
      "outputs": [
        {
          "output_type": "execute_result",
          "data": {
            "text/plain": [
              "[1, 2, 3, 0, 0, 0, 0, 0]"
            ]
          },
          "metadata": {},
          "execution_count": 64
        }
      ]
    },
    {
      "cell_type": "code",
      "source": [
        "def padding(text):\n",
        "  return list(pad(text, max_word_x, 0))"
      ],
      "metadata": {
        "id": "CsOJCPL_cir0"
      },
      "execution_count": null,
      "outputs": []
    },
    {
      "cell_type": "code",
      "source": [
        "economy['tokenize'] = economy['tokenize'].apply(padding)\n",
        "economy['process_tokenize'] = economy['process_tokenize'].apply(padding)"
      ],
      "metadata": {
        "id": "xeRLhkTTcv_L"
      },
      "execution_count": null,
      "outputs": []
    },
    {
      "cell_type": "code",
      "source": [
        "max_word_x = MaximumWord(economy.tokenize.items())\n",
        "max_word_y = MaximumWord(economy.process_tokenize.items())"
      ],
      "metadata": {
        "colab": {
          "base_uri": "https://localhost:8080/"
        },
        "id": "03gUr3IPc9bb",
        "outputId": "20355136-7d8a-45c9-b226-8c5429e821d1"
      },
      "execution_count": null,
      "outputs": [
        {
          "output_type": "stream",
          "name": "stdout",
          "text": [
            "102 0\n",
            "102 0\n"
          ]
        }
      ]
    },
    {
      "cell_type": "code",
      "source": [
        "economy"
      ],
      "metadata": {
        "colab": {
          "base_uri": "https://localhost:8080/",
          "height": 424
        },
        "id": "di5bPpcwVFGk",
        "outputId": "ebf40793-543d-4314-9c37-566e4d88ce8c"
      },
      "execution_count": null,
      "outputs": [
        {
          "output_type": "execute_result",
          "data": {
            "text/plain": [
              "                                             sentence  \\\n",
              "0   โครงการท้องถิ่นคือบูมมาก รายได้กระจายตัว คนกล้...   \n",
              "1   @imymind_21 ไปแน่นอนฮ้าบ แต่จะบอกว่านักท่องเที...   \n",
              "2         อยากไปดอยอินทนนท์ว่ะ นักท่องเที่ยวเยอะยังวะ   \n",
              "3   คนไทยกินข้าวเป็นหลัก ทำนามันไม่ตอบโจทย์ตรงไหนอ...   \n",
              "4   เพราะของขึ้นราคาบ้างล่ะ แรงงานโดนกดขี่บ้างล่ะ ...   \n",
              "..                                                ...   \n",
              "95  @WzGTO2020 ปัญหาสัตว์เลี้ยงพวกนี้สาเหตุหลักคือ...   \n",
              "96  การเมือง - ประมงกำลังล่มสลาย! ผู้ประกอบการ 22 ...   \n",
              "97  “ทหารจิตอาสา เป็นที่พึ่งของประชาชน ในทุกโอกาส”...   \n",
              "98  ตัวแทนชาวประมงและตัวแทนสมาคมการประมงแห่งประเทศ...   \n",
              "99  @_jerxgirl @toon_wnd @VIXXCOZZ โครงสร้าง?คนกิน...   \n",
              "\n",
              "                                     process_sentence  \\\n",
              "0   โครงการท้องถิ่นคือโดดเด่นมาก รายได้กระจายตัว ค...   \n",
              "1   @imymind_21 ไปแน่นอนครับ แต่จะบอกว่านักท่องเที...   \n",
              "2         อยากไปดอยอินทนนท์มาก นักท่องเที่ยวเยอะจังวะ   \n",
              "3   คนไทยกินข้าวเป็นหลัก ทำนามันไม่ตอบโจทย์ตรงไหนอ...   \n",
              "4   เพราะของขึ้นราคาบ้างล่ะ แรงงานโดนกดขี่บ้างล่ะ ...   \n",
              "..                                                ...   \n",
              "95  @WzGTO2020 ปัญหาสัตว์เลี้ยงพวกนี้สาเหตุหลักคือ...   \n",
              "96  การเมือง - ประมงกำลังล่มสลาย! ผู้ประกอบการ 22 ...   \n",
              "97  “ทหารจิตอาสา เป็นที่พึ่งของประชาชน ในทุกโอกาส”...   \n",
              "98  ตัวแทนชาวประมงและตัวแทนสมาคมการประมงแห่งประเทศ...   \n",
              "99  @_jerxgirl @toon_wnd @VIXXCOZZ โครงสร้าง?คนกิน...   \n",
              "\n",
              "                                             tokenize  \\\n",
              "0   [8651, 1645, 332, 1101, 24730, 329, 1140, 61, ...   \n",
              "1   [24719, 4, 1440, 7576, 3790, 24838, 24854, 4, ...   \n",
              "2   [18545, 157, 7988, 15296, 11529, 1913, 24742, ...   \n",
              "3   [413, 233, 2191, 1921, 6098, 2158, 760, 15, 25...   \n",
              "4   [2350, 34, 130, 65, 3482, 1258, 24732, 22499, ...   \n",
              "..                                                ...   \n",
              "95  [24719, 4, 24819, 4, 24854, 24728, 24854, 2472...   \n",
              "96  [470, 180, 480, 540, 2289, 1575, 8313, 24830, ...   \n",
              "97  [1531, 1310, 2011, 18870, 5887, 14422, 12478, ...   \n",
              "98  [13609, 245, 8004, 30, 2708, 1912, 21, 8004, 3...   \n",
              "99  [24719, 4, 24838, 24817, 264, 24818, 24795, 63...   \n",
              "\n",
              "                                     process_tokenize  \n",
              "0   [8651, 1645, 332, 4485, 329, 1140, 61, 2112, 2...  \n",
              "1   [24719, 4, 1440, 7576, 3790, 24838, 24854, 4, ...  \n",
              "2   [18545, 157, 7988, 15296, 11529, 329, 729, 270...  \n",
              "3   [413, 233, 2191, 1921, 6098, 2158, 760, 15, 25...  \n",
              "4   [2350, 34, 130, 65, 3482, 1258, 24732, 22499, ...  \n",
              "..                                                ...  \n",
              "95  [24719, 4, 24819, 4, 24854, 24728, 24854, 2472...  \n",
              "96  [470, 180, 480, 540, 2289, 1575, 8313, 24830, ...  \n",
              "97  [1531, 1310, 2011, 18870, 5887, 14422, 12478, ...  \n",
              "98  [13609, 245, 8004, 30, 2708, 1912, 21, 8004, 3...  \n",
              "99  [24719, 4, 24838, 24817, 264, 24818, 24795, 63...  \n",
              "\n",
              "[100 rows x 4 columns]"
            ],
            "text/html": [
              "\n",
              "  <div id=\"df-4b8736fa-03dd-4292-8313-869d52ee0697\">\n",
              "    <div class=\"colab-df-container\">\n",
              "      <div>\n",
              "<style scoped>\n",
              "    .dataframe tbody tr th:only-of-type {\n",
              "        vertical-align: middle;\n",
              "    }\n",
              "\n",
              "    .dataframe tbody tr th {\n",
              "        vertical-align: top;\n",
              "    }\n",
              "\n",
              "    .dataframe thead th {\n",
              "        text-align: right;\n",
              "    }\n",
              "</style>\n",
              "<table border=\"1\" class=\"dataframe\">\n",
              "  <thead>\n",
              "    <tr style=\"text-align: right;\">\n",
              "      <th></th>\n",
              "      <th>sentence</th>\n",
              "      <th>process_sentence</th>\n",
              "      <th>tokenize</th>\n",
              "      <th>process_tokenize</th>\n",
              "    </tr>\n",
              "  </thead>\n",
              "  <tbody>\n",
              "    <tr>\n",
              "      <th>0</th>\n",
              "      <td>โครงการท้องถิ่นคือบูมมาก รายได้กระจายตัว คนกล้...</td>\n",
              "      <td>โครงการท้องถิ่นคือโดดเด่นมาก รายได้กระจายตัว ค...</td>\n",
              "      <td>[8651, 1645, 332, 1101, 24730, 329, 1140, 61, ...</td>\n",
              "      <td>[8651, 1645, 332, 4485, 329, 1140, 61, 2112, 2...</td>\n",
              "    </tr>\n",
              "    <tr>\n",
              "      <th>1</th>\n",
              "      <td>@imymind_21 ไปแน่นอนฮ้าบ แต่จะบอกว่านักท่องเที...</td>\n",
              "      <td>@imymind_21 ไปแน่นอนครับ แต่จะบอกว่านักท่องเที...</td>\n",
              "      <td>[24719, 4, 1440, 7576, 3790, 24838, 24854, 4, ...</td>\n",
              "      <td>[24719, 4, 1440, 7576, 3790, 24838, 24854, 4, ...</td>\n",
              "    </tr>\n",
              "    <tr>\n",
              "      <th>2</th>\n",
              "      <td>อยากไปดอยอินทนนท์ว่ะ นักท่องเที่ยวเยอะยังวะ</td>\n",
              "      <td>อยากไปดอยอินทนนท์มาก นักท่องเที่ยวเยอะจังวะ</td>\n",
              "      <td>[18545, 157, 7988, 15296, 11529, 1913, 24742, ...</td>\n",
              "      <td>[18545, 157, 7988, 15296, 11529, 329, 729, 270...</td>\n",
              "    </tr>\n",
              "    <tr>\n",
              "      <th>3</th>\n",
              "      <td>คนไทยกินข้าวเป็นหลัก ทำนามันไม่ตอบโจทย์ตรงไหนอ...</td>\n",
              "      <td>คนไทยกินข้าวเป็นหลัก ทำนามันไม่ตอบโจทย์ตรงไหนอ...</td>\n",
              "      <td>[413, 233, 2191, 1921, 6098, 2158, 760, 15, 25...</td>\n",
              "      <td>[413, 233, 2191, 1921, 6098, 2158, 760, 15, 25...</td>\n",
              "    </tr>\n",
              "    <tr>\n",
              "      <th>4</th>\n",
              "      <td>เพราะของขึ้นราคาบ้างล่ะ แรงงานโดนกดขี่บ้างล่ะ ...</td>\n",
              "      <td>เพราะของขึ้นราคาบ้างล่ะ แรงงานโดนกดขี่บ้างล่ะ ...</td>\n",
              "      <td>[2350, 34, 130, 65, 3482, 1258, 24732, 22499, ...</td>\n",
              "      <td>[2350, 34, 130, 65, 3482, 1258, 24732, 22499, ...</td>\n",
              "    </tr>\n",
              "    <tr>\n",
              "      <th>...</th>\n",
              "      <td>...</td>\n",
              "      <td>...</td>\n",
              "      <td>...</td>\n",
              "      <td>...</td>\n",
              "    </tr>\n",
              "    <tr>\n",
              "      <th>95</th>\n",
              "      <td>@WzGTO2020 ปัญหาสัตว์เลี้ยงพวกนี้สาเหตุหลักคือ...</td>\n",
              "      <td>@WzGTO2020 ปัญหาสัตว์เลี้ยงพวกนี้สาเหตุหลักคือ...</td>\n",
              "      <td>[24719, 4, 24819, 4, 24854, 24728, 24854, 2472...</td>\n",
              "      <td>[24719, 4, 24819, 4, 24854, 24728, 24854, 2472...</td>\n",
              "    </tr>\n",
              "    <tr>\n",
              "      <th>96</th>\n",
              "      <td>การเมือง - ประมงกำลังล่มสลาย! ผู้ประกอบการ 22 ...</td>\n",
              "      <td>การเมือง - ประมงกำลังล่มสลาย! ผู้ประกอบการ 22 ...</td>\n",
              "      <td>[470, 180, 480, 540, 2289, 1575, 8313, 24830, ...</td>\n",
              "      <td>[470, 180, 480, 540, 2289, 1575, 8313, 24830, ...</td>\n",
              "    </tr>\n",
              "    <tr>\n",
              "      <th>97</th>\n",
              "      <td>“ทหารจิตอาสา เป็นที่พึ่งของประชาชน ในทุกโอกาส”...</td>\n",
              "      <td>“ทหารจิตอาสา เป็นที่พึ่งของประชาชน ในทุกโอกาส”...</td>\n",
              "      <td>[1531, 1310, 2011, 18870, 5887, 14422, 12478, ...</td>\n",
              "      <td>[1531, 1310, 2011, 18870, 5887, 14422, 12478, ...</td>\n",
              "    </tr>\n",
              "    <tr>\n",
              "      <th>98</th>\n",
              "      <td>ตัวแทนชาวประมงและตัวแทนสมาคมการประมงแห่งประเทศ...</td>\n",
              "      <td>ตัวแทนชาวประมงและตัวแทนสมาคมการประมงแห่งประเทศ...</td>\n",
              "      <td>[13609, 245, 8004, 30, 2708, 1912, 21, 8004, 3...</td>\n",
              "      <td>[13609, 245, 8004, 30, 2708, 1912, 21, 8004, 3...</td>\n",
              "    </tr>\n",
              "    <tr>\n",
              "      <th>99</th>\n",
              "      <td>@_jerxgirl @toon_wnd @VIXXCOZZ โครงสร้าง?คนกิน...</td>\n",
              "      <td>@_jerxgirl @toon_wnd @VIXXCOZZ โครงสร้าง?คนกิน...</td>\n",
              "      <td>[24719, 4, 24838, 24817, 264, 24818, 24795, 63...</td>\n",
              "      <td>[24719, 4, 24838, 24817, 264, 24818, 24795, 63...</td>\n",
              "    </tr>\n",
              "  </tbody>\n",
              "</table>\n",
              "<p>100 rows × 4 columns</p>\n",
              "</div>\n",
              "      <button class=\"colab-df-convert\" onclick=\"convertToInteractive('df-4b8736fa-03dd-4292-8313-869d52ee0697')\"\n",
              "              title=\"Convert this dataframe to an interactive table.\"\n",
              "              style=\"display:none;\">\n",
              "        \n",
              "  <svg xmlns=\"http://www.w3.org/2000/svg\" height=\"24px\"viewBox=\"0 0 24 24\"\n",
              "       width=\"24px\">\n",
              "    <path d=\"M0 0h24v24H0V0z\" fill=\"none\"/>\n",
              "    <path d=\"M18.56 5.44l.94 2.06.94-2.06 2.06-.94-2.06-.94-.94-2.06-.94 2.06-2.06.94zm-11 1L8.5 8.5l.94-2.06 2.06-.94-2.06-.94L8.5 2.5l-.94 2.06-2.06.94zm10 10l.94 2.06.94-2.06 2.06-.94-2.06-.94-.94-2.06-.94 2.06-2.06.94z\"/><path d=\"M17.41 7.96l-1.37-1.37c-.4-.4-.92-.59-1.43-.59-.52 0-1.04.2-1.43.59L10.3 9.45l-7.72 7.72c-.78.78-.78 2.05 0 2.83L4 21.41c.39.39.9.59 1.41.59.51 0 1.02-.2 1.41-.59l7.78-7.78 2.81-2.81c.8-.78.8-2.07 0-2.86zM5.41 20L4 18.59l7.72-7.72 1.47 1.35L5.41 20z\"/>\n",
              "  </svg>\n",
              "      </button>\n",
              "      \n",
              "  <style>\n",
              "    .colab-df-container {\n",
              "      display:flex;\n",
              "      flex-wrap:wrap;\n",
              "      gap: 12px;\n",
              "    }\n",
              "\n",
              "    .colab-df-convert {\n",
              "      background-color: #E8F0FE;\n",
              "      border: none;\n",
              "      border-radius: 50%;\n",
              "      cursor: pointer;\n",
              "      display: none;\n",
              "      fill: #1967D2;\n",
              "      height: 32px;\n",
              "      padding: 0 0 0 0;\n",
              "      width: 32px;\n",
              "    }\n",
              "\n",
              "    .colab-df-convert:hover {\n",
              "      background-color: #E2EBFA;\n",
              "      box-shadow: 0px 1px 2px rgba(60, 64, 67, 0.3), 0px 1px 3px 1px rgba(60, 64, 67, 0.15);\n",
              "      fill: #174EA6;\n",
              "    }\n",
              "\n",
              "    [theme=dark] .colab-df-convert {\n",
              "      background-color: #3B4455;\n",
              "      fill: #D2E3FC;\n",
              "    }\n",
              "\n",
              "    [theme=dark] .colab-df-convert:hover {\n",
              "      background-color: #434B5C;\n",
              "      box-shadow: 0px 1px 3px 1px rgba(0, 0, 0, 0.15);\n",
              "      filter: drop-shadow(0px 1px 2px rgba(0, 0, 0, 0.3));\n",
              "      fill: #FFFFFF;\n",
              "    }\n",
              "  </style>\n",
              "\n",
              "      <script>\n",
              "        const buttonEl =\n",
              "          document.querySelector('#df-4b8736fa-03dd-4292-8313-869d52ee0697 button.colab-df-convert');\n",
              "        buttonEl.style.display =\n",
              "          google.colab.kernel.accessAllowed ? 'block' : 'none';\n",
              "\n",
              "        async function convertToInteractive(key) {\n",
              "          const element = document.querySelector('#df-4b8736fa-03dd-4292-8313-869d52ee0697');\n",
              "          const dataTable =\n",
              "            await google.colab.kernel.invokeFunction('convertToInteractive',\n",
              "                                                     [key], {});\n",
              "          if (!dataTable) return;\n",
              "\n",
              "          const docLinkHtml = 'Like what you see? Visit the ' +\n",
              "            '<a target=\"_blank\" href=https://colab.research.google.com/notebooks/data_table.ipynb>data table notebook</a>'\n",
              "            + ' to learn more about interactive tables.';\n",
              "          element.innerHTML = '';\n",
              "          dataTable['output_type'] = 'display_data';\n",
              "          await google.colab.output.renderOutput(dataTable, element);\n",
              "          const docLink = document.createElement('div');\n",
              "          docLink.innerHTML = docLinkHtml;\n",
              "          element.appendChild(docLink);\n",
              "        }\n",
              "      </script>\n",
              "    </div>\n",
              "  </div>\n",
              "  "
            ]
          },
          "metadata": {},
          "execution_count": 67
        }
      ]
    },
    {
      "cell_type": "markdown",
      "source": [
        "# Preprocess"
      ],
      "metadata": {
        "id": "Gl7YDRfD9KmN"
      }
    },
    {
      "cell_type": "markdown",
      "source": [
        "##Tokenization"
      ],
      "metadata": {
        "id": "WeYCUl6bxMht"
      }
    },
    {
      "cell_type": "code",
      "source": [
        "def tokenizer(text):\n",
        "  text = text.replace(\" \", \"\")\n",
        "  words = word_tokenize(text, engine='newmm') #Neural network\n",
        "  return words"
      ],
      "metadata": {
        "id": "0v0i81IQDAKf"
      },
      "execution_count": null,
      "outputs": []
    },
    {
      "cell_type": "code",
      "source": [
        "train = train.iloc[:50000]"
      ],
      "metadata": {
        "id": "2u2pkHNujwI6"
      },
      "execution_count": null,
      "outputs": []
    },
    {
      "cell_type": "code",
      "source": [
        "train['body'] = train['body'].apply(tokenizer)\n",
        "train['summary'] = train['summary'].apply(tokenizer)\n",
        "test['body'] = test['body'].apply(tokenizer)\n",
        "test['summary'] = test['summary'].apply(tokenizer)\n",
        "validation['body'] = validation['body'].apply(tokenizer)\n",
        "validation['summary'] = validation['summary'].apply(tokenizer)"
      ],
      "metadata": {
        "id": "k9850lhqadbp"
      },
      "execution_count": null,
      "outputs": []
    },
    {
      "cell_type": "markdown",
      "source": [
        "##Save Tokenization"
      ],
      "metadata": {
        "id": "o_7cv0etxPKV"
      }
    },
    {
      "cell_type": "code",
      "source": [
        "from google.colab import drive\n",
        "drive.mount('/content/drive')"
      ],
      "metadata": {
        "colab": {
          "base_uri": "https://localhost:8080/"
        },
        "id": "pbv9GZspvCYG",
        "outputId": "59dbab64-ac9c-4528-b77b-708c355a8722"
      },
      "execution_count": null,
      "outputs": [
        {
          "output_type": "stream",
          "name": "stdout",
          "text": [
            "Drive already mounted at /content/drive; to attempt to forcibly remount, call drive.mount(\"/content/drive\", force_remount=True).\n"
          ]
        }
      ]
    },
    {
      "cell_type": "code",
      "source": [
        "train.to_csv('/content/drive/MyDrive/Kmitl/Year_3/Semester_2/Natural Language Processing/Data/NewsSummarizationProject/news_train.csv',index=False)\n",
        "test.to_csv('/content/drive/MyDrive/Kmitl/Year_3/Semester_2/Natural Language Processing/Data/NewsSummarizationProject/news_test.csv',index=False)\n",
        "validation.to_csv('/content/drive/MyDrive/Kmitl/Year_3/Semester_2/Natural Language Processing/Data/NewsSummarizationProject/news_validation.csv',index=False)"
      ],
      "metadata": {
        "id": "GLfC3P2rvEAr"
      },
      "execution_count": null,
      "outputs": []
    },
    {
      "cell_type": "markdown",
      "source": [
        "##Load Tokenization"
      ],
      "metadata": {
        "id": "wuTuMn6JxSK1"
      }
    },
    {
      "cell_type": "code",
      "source": [
        "from google.colab import drive\n",
        "drive.mount('/content/drive')"
      ],
      "metadata": {
        "colab": {
          "base_uri": "https://localhost:8080/"
        },
        "id": "X9robdTn3H87",
        "outputId": "e4a6a0ef-640e-4f6b-e428-86244fc32914"
      },
      "execution_count": null,
      "outputs": [
        {
          "output_type": "stream",
          "name": "stdout",
          "text": [
            "Mounted at /content/drive\n"
          ]
        }
      ]
    },
    {
      "cell_type": "code",
      "source": [
        "train = pd.read_csv('/content/drive/MyDrive/Kmitl/Year_3/Semester_2/Natural Language Processing/Data/NewsSummarizationProject/news_train.csv')\n",
        "test = pd.read_csv('/content/drive/MyDrive/Kmitl/Year_3/Semester_2/Natural Language Processing/Data/NewsSummarizationProject/news_test.csv')\n",
        "validation = pd.read_csv('/content/drive/MyDrive/Kmitl/Year_3/Semester_2/Natural Language Processing/Data/NewsSummarizationProject/news_validation.csv')"
      ],
      "metadata": {
        "id": "i-fGQ-1qzOws"
      },
      "execution_count": null,
      "outputs": []
    },
    {
      "cell_type": "code",
      "source": [
        "test = \"['test', 'shit', 'right', 'oh shit']\""
      ],
      "metadata": {
        "id": "w6UBfID9AxFz"
      },
      "execution_count": null,
      "outputs": []
    },
    {
      "cell_type": "code",
      "source": [
        "test2 = test.strip(\"']['\").split(\"', '\")"
      ],
      "metadata": {
        "id": "WXbz8M-jA-Rc"
      },
      "execution_count": null,
      "outputs": []
    },
    {
      "cell_type": "code",
      "source": [
        "test2"
      ],
      "metadata": {
        "colab": {
          "base_uri": "https://localhost:8080/"
        },
        "id": "8rr3t0LTBCA-",
        "outputId": "9fdc19da-18d3-4404-88d2-a4a33d4f0252"
      },
      "execution_count": null,
      "outputs": [
        {
          "output_type": "execute_result",
          "data": {
            "text/plain": [
              "['test', 'shit', 'right', 'oh shit']"
            ]
          },
          "metadata": {},
          "execution_count": 58
        }
      ]
    },
    {
      "cell_type": "code",
      "source": [
        "def StringConvert(string):\n",
        "  return string.strip(\"']['\").split(\"', '\")"
      ],
      "metadata": {
        "id": "kL2x2NDJ2NwW"
      },
      "execution_count": null,
      "outputs": []
    },
    {
      "cell_type": "code",
      "source": [
        "train['body'] = train['body'].apply(StringConvert)\n",
        "train['summary'] = train['summary'].apply(StringConvert)\n",
        "test['body'] = test['body'].apply(StringConvert)\n",
        "test['summary'] = test['summary'].apply(StringConvert)\n",
        "validation['body'] = validation['body'].apply(StringConvert)\n",
        "validation['summary'] = validation['summary'].apply(StringConvert)"
      ],
      "metadata": {
        "id": "y0DoUR6r2mPu"
      },
      "execution_count": null,
      "outputs": []
    },
    {
      "cell_type": "code",
      "source": [
        "x_train = train['body'].to_numpy()\n",
        "y_train = train['summary'].to_numpy()\n",
        "x_test = test['body'].to_numpy()\n",
        "y_test = test['summary'].to_numpy()\n",
        "x_valid = validation['body'].to_numpy()\n",
        "y_valid = validation['summary'].to_numpy()"
      ],
      "metadata": {
        "id": "goAMOW-EDIQO"
      },
      "execution_count": null,
      "outputs": []
    },
    {
      "cell_type": "code",
      "source": [
        "del train\n",
        "del test\n",
        "del validation"
      ],
      "metadata": {
        "id": "kJi4ykkj9oQJ"
      },
      "execution_count": null,
      "outputs": []
    },
    {
      "cell_type": "code",
      "source": [
        "x_train[0]"
      ],
      "metadata": {
        "id": "rfAAFQq_D4CU"
      },
      "execution_count": null,
      "outputs": []
    },
    {
      "cell_type": "code",
      "source": [
        "word = x_train\n",
        "\n",
        "word = np.append(word, y_train)\n",
        "word = np.append(word, x_test)\n",
        "word = np.append(word, y_test)\n",
        "word = np.append(word, x_valid)\n",
        "word = np.append(word, y_valid)"
      ],
      "metadata": {
        "id": "kTdOoBeS9ROF"
      },
      "execution_count": null,
      "outputs": []
    },
    {
      "cell_type": "code",
      "source": [
        "word[143999]"
      ],
      "metadata": {
        "colab": {
          "base_uri": "https://localhost:8080/"
        },
        "id": "TYXXSnwJKyxp",
        "outputId": "20f28783-ef3a-4df4-b8bf-989a52f9aed5"
      },
      "execution_count": null,
      "outputs": [
        {
          "output_type": "execute_result",
          "data": {
            "text/plain": [
              "['เกิดเหตุ',\n",
              " 'เครื่องบิน',\n",
              " 'โดยสาร',\n",
              " 'ของ',\n",
              " 'สายการบิน',\n",
              " 'ปากีสถาน',\n",
              " 'อินเตอร์',\n",
              " 'เนชันแนล',\n",
              " 'แอร์ไลน์',\n",
              " 'ส(',\n",
              " 'PIA',\n",
              " ')',\n",
              " 'ของ',\n",
              " 'รัฐบาล',\n",
              " 'ปากีสถาน',\n",
              " 'พุ่ง',\n",
              " 'ตก',\n",
              " 'ใส่',\n",
              " 'ย่านชุมชน',\n",
              " 'ใน',\n",
              " 'นคร',\n",
              " 'กา',\n",
              " 'รา',\n",
              " 'จี',\n",
              " 'เมืองท่า',\n",
              " 'เศรษฐกิจ',\n",
              " 'สำคัญ',\n",
              " 'ทางใต้']"
            ]
          },
          "metadata": {},
          "execution_count": 18
        }
      ]
    },
    {
      "cell_type": "markdown",
      "source": [
        "##Word 2 Vec"
      ],
      "metadata": {
        "id": "3raSZFYbxXh9"
      }
    },
    {
      "cell_type": "code",
      "source": [
        "w2v = Word2Vec(word)"
      ],
      "metadata": {
        "id": "RFtCpNJI9l-s"
      },
      "execution_count": null,
      "outputs": []
    },
    {
      "cell_type": "code",
      "source": [
        "w2v2 = Word2Vec(x_train)"
      ],
      "metadata": {
        "id": "tKi-HT-MNg2g"
      },
      "execution_count": null,
      "outputs": []
    },
    {
      "cell_type": "code",
      "source": [
        "len(w2v.wv)"
      ],
      "metadata": {
        "colab": {
          "base_uri": "https://localhost:8080/"
        },
        "id": "sgfu59iWK_Zy",
        "outputId": "5bff7b83-2a48-46ae-99eb-2ce0c7a45c13"
      },
      "execution_count": null,
      "outputs": [
        {
          "output_type": "execute_result",
          "data": {
            "text/plain": [
              "58181"
            ]
          },
          "metadata": {},
          "execution_count": 38
        }
      ]
    },
    {
      "cell_type": "code",
      "source": [
        "len(w2v2.wv)"
      ],
      "metadata": {
        "colab": {
          "base_uri": "https://localhost:8080/"
        },
        "id": "PbZkJMoWNk_A",
        "outputId": "f5144480-66df-4999-8716-35ee6ae4acaf"
      },
      "execution_count": null,
      "outputs": [
        {
          "output_type": "execute_result",
          "data": {
            "text/plain": [
              "47315"
            ]
          },
          "metadata": {},
          "execution_count": 42
        }
      ]
    },
    {
      "cell_type": "code",
      "source": [
        "w2v2.wv['จัมปิ']"
      ],
      "metadata": {
        "colab": {
          "base_uri": "https://localhost:8080/",
          "height": 311
        },
        "id": "rLgO6-_NOsl0",
        "outputId": "2ef8077f-40b7-4cfd-a0ed-6534d773f8ce"
      },
      "execution_count": null,
      "outputs": [
        {
          "output_type": "error",
          "ename": "KeyError",
          "evalue": "ignored",
          "traceback": [
            "\u001b[0;31m---------------------------------------------------------------------------\u001b[0m",
            "\u001b[0;31mKeyError\u001b[0m                                  Traceback (most recent call last)",
            "\u001b[0;32m<ipython-input-43-ee12928506a5>\u001b[0m in \u001b[0;36m<cell line: 1>\u001b[0;34m()\u001b[0m\n\u001b[0;32m----> 1\u001b[0;31m \u001b[0mw2v2\u001b[0m\u001b[0;34m.\u001b[0m\u001b[0mwv\u001b[0m\u001b[0;34m[\u001b[0m\u001b[0;34m'จัมปิ'\u001b[0m\u001b[0;34m]\u001b[0m\u001b[0;34m\u001b[0m\u001b[0;34m\u001b[0m\u001b[0m\n\u001b[0m",
            "\u001b[0;32m/usr/local/lib/python3.9/dist-packages/gensim/models/keyedvectors.py\u001b[0m in \u001b[0;36m__getitem__\u001b[0;34m(self, key_or_keys)\u001b[0m\n\u001b[1;32m    401\u001b[0m         \"\"\"\n\u001b[1;32m    402\u001b[0m         \u001b[0;32mif\u001b[0m \u001b[0misinstance\u001b[0m\u001b[0;34m(\u001b[0m\u001b[0mkey_or_keys\u001b[0m\u001b[0;34m,\u001b[0m \u001b[0m_KEY_TYPES\u001b[0m\u001b[0;34m)\u001b[0m\u001b[0;34m:\u001b[0m\u001b[0;34m\u001b[0m\u001b[0;34m\u001b[0m\u001b[0m\n\u001b[0;32m--> 403\u001b[0;31m             \u001b[0;32mreturn\u001b[0m \u001b[0mself\u001b[0m\u001b[0;34m.\u001b[0m\u001b[0mget_vector\u001b[0m\u001b[0;34m(\u001b[0m\u001b[0mkey_or_keys\u001b[0m\u001b[0;34m)\u001b[0m\u001b[0;34m\u001b[0m\u001b[0;34m\u001b[0m\u001b[0m\n\u001b[0m\u001b[1;32m    404\u001b[0m \u001b[0;34m\u001b[0m\u001b[0m\n\u001b[1;32m    405\u001b[0m         \u001b[0;32mreturn\u001b[0m \u001b[0mvstack\u001b[0m\u001b[0;34m(\u001b[0m\u001b[0;34m[\u001b[0m\u001b[0mself\u001b[0m\u001b[0;34m.\u001b[0m\u001b[0mget_vector\u001b[0m\u001b[0;34m(\u001b[0m\u001b[0mkey\u001b[0m\u001b[0;34m)\u001b[0m \u001b[0;32mfor\u001b[0m \u001b[0mkey\u001b[0m \u001b[0;32min\u001b[0m \u001b[0mkey_or_keys\u001b[0m\u001b[0;34m]\u001b[0m\u001b[0;34m)\u001b[0m\u001b[0;34m\u001b[0m\u001b[0;34m\u001b[0m\u001b[0m\n",
            "\u001b[0;32m/usr/local/lib/python3.9/dist-packages/gensim/models/keyedvectors.py\u001b[0m in \u001b[0;36mget_vector\u001b[0;34m(self, key, norm)\u001b[0m\n\u001b[1;32m    444\u001b[0m \u001b[0;34m\u001b[0m\u001b[0m\n\u001b[1;32m    445\u001b[0m         \"\"\"\n\u001b[0;32m--> 446\u001b[0;31m         \u001b[0mindex\u001b[0m \u001b[0;34m=\u001b[0m \u001b[0mself\u001b[0m\u001b[0;34m.\u001b[0m\u001b[0mget_index\u001b[0m\u001b[0;34m(\u001b[0m\u001b[0mkey\u001b[0m\u001b[0;34m)\u001b[0m\u001b[0;34m\u001b[0m\u001b[0;34m\u001b[0m\u001b[0m\n\u001b[0m\u001b[1;32m    447\u001b[0m         \u001b[0;32mif\u001b[0m \u001b[0mnorm\u001b[0m\u001b[0;34m:\u001b[0m\u001b[0;34m\u001b[0m\u001b[0;34m\u001b[0m\u001b[0m\n\u001b[1;32m    448\u001b[0m             \u001b[0mself\u001b[0m\u001b[0;34m.\u001b[0m\u001b[0mfill_norms\u001b[0m\u001b[0;34m(\u001b[0m\u001b[0;34m)\u001b[0m\u001b[0;34m\u001b[0m\u001b[0;34m\u001b[0m\u001b[0m\n",
            "\u001b[0;32m/usr/local/lib/python3.9/dist-packages/gensim/models/keyedvectors.py\u001b[0m in \u001b[0;36mget_index\u001b[0;34m(self, key, default)\u001b[0m\n\u001b[1;32m    418\u001b[0m             \u001b[0;32mreturn\u001b[0m \u001b[0mdefault\u001b[0m\u001b[0;34m\u001b[0m\u001b[0;34m\u001b[0m\u001b[0m\n\u001b[1;32m    419\u001b[0m         \u001b[0;32melse\u001b[0m\u001b[0;34m:\u001b[0m\u001b[0;34m\u001b[0m\u001b[0;34m\u001b[0m\u001b[0m\n\u001b[0;32m--> 420\u001b[0;31m             \u001b[0;32mraise\u001b[0m \u001b[0mKeyError\u001b[0m\u001b[0;34m(\u001b[0m\u001b[0;34mf\"Key '{key}' not present\"\u001b[0m\u001b[0;34m)\u001b[0m\u001b[0;34m\u001b[0m\u001b[0;34m\u001b[0m\u001b[0m\n\u001b[0m\u001b[1;32m    421\u001b[0m \u001b[0;34m\u001b[0m\u001b[0m\n\u001b[1;32m    422\u001b[0m     \u001b[0;32mdef\u001b[0m \u001b[0mget_vector\u001b[0m\u001b[0;34m(\u001b[0m\u001b[0mself\u001b[0m\u001b[0;34m,\u001b[0m \u001b[0mkey\u001b[0m\u001b[0;34m,\u001b[0m \u001b[0mnorm\u001b[0m\u001b[0;34m=\u001b[0m\u001b[0;32mFalse\u001b[0m\u001b[0;34m)\u001b[0m\u001b[0;34m:\u001b[0m\u001b[0;34m\u001b[0m\u001b[0;34m\u001b[0m\u001b[0m\n",
            "\u001b[0;31mKeyError\u001b[0m: \"Key 'จัมปิ' not present\""
          ]
        }
      ]
    },
    {
      "cell_type": "code",
      "source": [
        "w2v.save('/content/drive/MyDrive/Kmitl/Year_3/Semester_2/Natural Language Processing/Data/NewsSummarizationProject/news_model.model')"
      ],
      "metadata": {
        "id": "xklYYlZp8DjB"
      },
      "execution_count": null,
      "outputs": []
    },
    {
      "cell_type": "code",
      "source": [
        "w2v = Word2Vec.load('/content/drive/MyDrive/Kmitl/Year_3/Semester_2/Natural Language Processing/Data/NewsSummarizationProject/news_model.model')"
      ],
      "metadata": {
        "id": "h-GwRog28LeO"
      },
      "execution_count": null,
      "outputs": []
    },
    {
      "cell_type": "code",
      "source": [
        "#df dataframe.items()\n",
        "def MaximumWord(df):\n",
        "  maxWord = 0\n",
        "  for i in range(len(df)):\n",
        "    if len(df[i]) > maxWord:\n",
        "      maxWord = len(df[i])\n",
        "      index = i\n",
        "  print(\"Max Word:\",maxWord, \"Index:\", index)\n",
        "  return maxWord"
      ],
      "metadata": {
        "id": "RxTFP2GD9sbS"
      },
      "execution_count": null,
      "outputs": []
    },
    {
      "cell_type": "code",
      "source": [
        "max_word_x = MaximumWord(x_train)\n",
        "max_word_y = MaximumWord(y_train)"
      ],
      "metadata": {
        "colab": {
          "base_uri": "https://localhost:8080/"
        },
        "id": "lEWy_JuD9pbL",
        "outputId": "f204197e-6178-49a4-a6e5-885501253ff3"
      },
      "execution_count": null,
      "outputs": [
        {
          "output_type": "stream",
          "name": "stdout",
          "text": [
            "Max Word: 34772 Index: 34162\n",
            "Max Word: 373 Index: 13890\n"
          ]
        }
      ]
    },
    {
      "cell_type": "markdown",
      "source": [
        "##WordVector (BANNED)"
      ],
      "metadata": {
        "id": "nF8tDyVgxZqt"
      }
    },
    {
      "cell_type": "code",
      "source": [
        "#max_length max word length\n",
        "#df numpy array\n",
        "#w2v word2vec gensim\n",
        "\n",
        "def WordVector(max_length, df, w2v):\n",
        "  embed_array = np.zeros((len(df), max_length, w2v.vector_size))\n",
        "  for i in range(len(df)):#16640\n",
        "    index = 0\n",
        "    for word in df[i]:#50\n",
        "      if word in w2v.wv:\n",
        "          embed_array[i][index] = w2v.wv[word]\n",
        "      index += 1\n",
        "  return embed_array  "
      ],
      "metadata": {
        "id": "9Z_U97wE-RR3"
      },
      "execution_count": null,
      "outputs": []
    },
    {
      "cell_type": "code",
      "source": [
        "x_wordvector = WordVector(max_word_x, x_train, w2v)"
      ],
      "metadata": {
        "id": "OBlqSp58Xtrk"
      },
      "execution_count": null,
      "outputs": []
    },
    {
      "cell_type": "markdown",
      "source": [
        "##Unique Token"
      ],
      "metadata": {
        "id": "dAAtBIT6xerG"
      }
    },
    {
      "cell_type": "code",
      "source": [
        "x_train[0][0]"
      ],
      "metadata": {
        "colab": {
          "base_uri": "https://localhost:8080/",
          "height": 35
        },
        "id": "0MJOgV3C9aqn",
        "outputId": "f2cbf55a-242f-48f4-c849-dfe0d1e2d748"
      },
      "execution_count": null,
      "outputs": [
        {
          "output_type": "execute_result",
          "data": {
            "text/plain": [
              "'เมื่อ'"
            ],
            "application/vnd.google.colaboratory.intrinsic+json": {
              "type": "string"
            }
          },
          "metadata": {},
          "execution_count": 22
        }
      ]
    },
    {
      "cell_type": "code",
      "source": [
        "type(\"เมื่อ\")"
      ],
      "metadata": {
        "colab": {
          "base_uri": "https://localhost:8080/"
        },
        "id": "ZObPJTgxAPgO",
        "outputId": "8ed39ad2-fcc7-4133-d3d4-32587022f99a"
      },
      "execution_count": null,
      "outputs": [
        {
          "output_type": "execute_result",
          "data": {
            "text/plain": [
              "str"
            ]
          },
          "metadata": {},
          "execution_count": 42
        }
      ]
    },
    {
      "cell_type": "code",
      "source": [
        "w2v.wv.key_to_index[x_train[0][0]]"
      ],
      "metadata": {
        "colab": {
          "base_uri": "https://localhost:8080/"
        },
        "id": "N7hLQ2hFAFz1",
        "outputId": "12e3b057-0be2-4a34-9b27-4ca959388d87"
      },
      "execution_count": null,
      "outputs": [
        {
          "output_type": "execute_result",
          "data": {
            "text/plain": [
              "38"
            ]
          },
          "metadata": {},
          "execution_count": 23
        }
      ]
    },
    {
      "cell_type": "code",
      "source": [
        "w2v.wv[\"เมื่อ\"]"
      ],
      "metadata": {
        "colab": {
          "base_uri": "https://localhost:8080/"
        },
        "id": "4izN6VG9XMDU",
        "outputId": "45d9b4e6-c7bd-43c8-9f82-17c2691b1b9b"
      },
      "execution_count": null,
      "outputs": [
        {
          "output_type": "execute_result",
          "data": {
            "text/plain": [
              "array([-1.0151281 , -0.7536288 , -0.11978839,  2.531618  , -0.14300573,\n",
              "        0.24086761, -1.7025224 , -4.787458  ,  2.587927  ,  0.01122854,\n",
              "        1.8295059 , -2.2930963 , -0.33620307,  1.4825668 , -2.1638737 ,\n",
              "       -0.89689636,  1.2395362 ,  0.6579907 , -2.8392265 ,  1.9847455 ,\n",
              "        1.2992877 , -1.5844445 , -0.13378014, -1.123922  ,  0.5270217 ,\n",
              "        0.07813323,  1.8145342 , -1.0807929 ,  0.56157154, -0.07143453,\n",
              "       -1.7692442 ,  3.665545  , -1.0214075 ,  2.2223935 , -0.7953418 ,\n",
              "        0.0123808 , -0.13867524,  0.5535328 ,  0.04472854, -2.9011135 ,\n",
              "       -1.1060725 ,  1.6416322 ,  1.2280236 , -0.91119176, -1.3752677 ,\n",
              "       -0.2075574 ,  0.09841952, -0.1914523 , -0.30451357, -3.395734  ,\n",
              "        1.9446797 ,  1.445549  ,  2.448616  ,  2.64863   , -1.4739156 ,\n",
              "        0.20148861, -0.6365743 , -0.14706835, -0.6544711 ,  1.3447403 ,\n",
              "       -2.2186418 , -0.48504388,  1.0191545 , -3.4729118 ,  0.07022014,\n",
              "       -1.1283908 , -0.14991225,  0.78764844,  1.0016607 ,  0.04901142,\n",
              "       -4.6102877 ,  0.9316982 ,  0.13228866, -1.5029624 , -1.5473169 ,\n",
              "        2.849379  ,  1.2530761 ,  2.8176434 , -1.6505392 ,  4.1519785 ,\n",
              "       -1.7046729 , -3.3421264 , -0.17802095, -1.5130041 , -0.12604995,\n",
              "       -0.05872651,  2.7000988 , -0.43870428,  2.6906948 ,  1.8515599 ,\n",
              "       -0.35350382, -2.983813  ,  1.0635835 ,  1.7399327 , -4.55163   ,\n",
              "       -1.5025336 , -1.5059671 ,  0.4403238 , -2.1683338 ,  2.6757946 ],\n",
              "      dtype=float32)"
            ]
          },
          "metadata": {},
          "execution_count": 47
        }
      ]
    },
    {
      "cell_type": "code",
      "source": [
        "w2v.wv.key_to_index[\"จัมปิ\"]"
      ],
      "metadata": {
        "colab": {
          "base_uri": "https://localhost:8080/",
          "height": 165
        },
        "id": "OFUwztHgISDT",
        "outputId": "e07b31d4-671d-46a5-d4d5-77fad5c28906"
      },
      "execution_count": null,
      "outputs": [
        {
          "output_type": "error",
          "ename": "KeyError",
          "evalue": "ignored",
          "traceback": [
            "\u001b[0;31m---------------------------------------------------------------------------\u001b[0m",
            "\u001b[0;31mKeyError\u001b[0m                                  Traceback (most recent call last)",
            "\u001b[0;32m<ipython-input-40-ff5b797ed49d>\u001b[0m in \u001b[0;36m<cell line: 1>\u001b[0;34m()\u001b[0m\n\u001b[0;32m----> 1\u001b[0;31m \u001b[0mw2v\u001b[0m\u001b[0;34m.\u001b[0m\u001b[0mwv\u001b[0m\u001b[0;34m.\u001b[0m\u001b[0mkey_to_index\u001b[0m\u001b[0;34m[\u001b[0m\u001b[0;34m\"จัมปิ\"\u001b[0m\u001b[0;34m]\u001b[0m\u001b[0;34m\u001b[0m\u001b[0;34m\u001b[0m\u001b[0m\n\u001b[0m",
            "\u001b[0;31mKeyError\u001b[0m: 'จัมปิ'"
          ]
        }
      ]
    },
    {
      "cell_type": "code",
      "source": [
        "w2v.wv.key_to_index(x_train[0][0])"
      ],
      "metadata": {
        "colab": {
          "base_uri": "https://localhost:8080/",
          "height": 165
        },
        "id": "gJVIHIW19SMf",
        "outputId": "2923aa8d-031f-4bc9-ebf1-caf3e01022dc"
      },
      "execution_count": null,
      "outputs": [
        {
          "output_type": "error",
          "ename": "TypeError",
          "evalue": "ignored",
          "traceback": [
            "\u001b[0;31m---------------------------------------------------------------------------\u001b[0m",
            "\u001b[0;31mTypeError\u001b[0m                                 Traceback (most recent call last)",
            "\u001b[0;32m<ipython-input-38-783685fc27d1>\u001b[0m in \u001b[0;36m<cell line: 1>\u001b[0;34m()\u001b[0m\n\u001b[0;32m----> 1\u001b[0;31m \u001b[0mw2v\u001b[0m\u001b[0;34m.\u001b[0m\u001b[0mwv\u001b[0m\u001b[0;34m.\u001b[0m\u001b[0mkey_to_index\u001b[0m\u001b[0;34m(\u001b[0m\u001b[0mx_train\u001b[0m\u001b[0;34m[\u001b[0m\u001b[0;36m0\u001b[0m\u001b[0;34m]\u001b[0m\u001b[0;34m[\u001b[0m\u001b[0;36m0\u001b[0m\u001b[0;34m]\u001b[0m\u001b[0;34m)\u001b[0m\u001b[0;34m\u001b[0m\u001b[0;34m\u001b[0m\u001b[0m\n\u001b[0m",
            "\u001b[0;31mTypeError\u001b[0m: 'dict' object is not callable"
          ]
        }
      ]
    },
    {
      "cell_type": "code",
      "source": [
        "#df array with tokenize\n",
        "def uniqueToken(max_length, df, w2v):\n",
        "  feature = np.zeros((len(df), max_length))\n",
        "  for i in range(len(df)):\n",
        "    for j in range(len(df[i])):\n",
        "      if(df[i][j] in w2v.wv):\n",
        "        feature[i][j] = w2v.wv.key_to_index[df[i][j]]\n",
        "  # word_to_idx = {word: idx+1 for idx, word in enumerate(w2v.wv.index_to_key)}\n",
        "  # data_indices =[[word_to_idx[word] for word in sentence] for sentence in df]\n",
        "  # feature = pad_sequences(data_indices, maxlen=max_length, padding='post', truncating='post', value=0)\n",
        "  return feature"
      ],
      "metadata": {
        "id": "fRZfN6acOinZ"
      },
      "execution_count": null,
      "outputs": []
    },
    {
      "cell_type": "code",
      "source": [
        "x_train = uniqueToken(max_word_x, x_train, w2v)"
      ],
      "metadata": {
        "id": "3mqnrGKs6vpp"
      },
      "execution_count": null,
      "outputs": []
    },
    {
      "cell_type": "code",
      "source": [
        "x_train"
      ],
      "metadata": {
        "colab": {
          "base_uri": "https://localhost:8080/"
        },
        "id": "1v5DFgkMYONF",
        "outputId": "33a4b771-62d3-4a05-94c9-2bcebfc7624f"
      },
      "execution_count": null,
      "outputs": [
        {
          "output_type": "execute_result",
          "data": {
            "text/plain": [
              "array([[  38.,   46.,  169., ...,    0.,    0.,    0.],\n",
              "       [4514., 4270.,   40., ...,    0.,    0.,    0.],\n",
              "       [  19.,  309.,   48., ...,    0.,    0.,    0.],\n",
              "       ...,\n",
              "       [  12., 1701.,  768., ...,    0.,    0.,    0.],\n",
              "       [  38.,   46.,  569., ...,    0.,    0.,    0.],\n",
              "       [  22., 6998.,  600., ...,    0.,    0.,    0.]])"
            ]
          },
          "metadata": {},
          "execution_count": 50
        }
      ]
    },
    {
      "cell_type": "markdown",
      "source": [
        "##WordVector Mean"
      ],
      "metadata": {
        "id": "7MvBc_D1xgl2"
      }
    },
    {
      "cell_type": "code",
      "source": [
        "def WordVectorMean(max_length, df, w2v):\n",
        "  embed_array = np.zeros((df.size(), max_length))\n",
        "  for i, words in df:#16640\n",
        "    for word in words:#50\n",
        "      if word in w2v.wv:\n",
        "          embedding_matrix_x[i] = np.mean(w2v.wv[word])\n",
        "  return embed_array "
      ],
      "metadata": {
        "id": "-YSciZM1PE-N"
      },
      "execution_count": null,
      "outputs": []
    },
    {
      "cell_type": "code",
      "source": [
        "embedding_matrix_x = np.zeros((economy.tokenize.size, max_word_x, w2v.vector_size))\n",
        "embedding_matrix_x = Embedding(embedding_matrix_x, economy.tokenize.items(), w2v)\n",
        "embedding_matrix_y = np.zeros((economy.tokenize.size, max_word_y, w2v.vector_size))\n",
        "embedding_matrix_y = Embedding(embedding_matrix_y, economy.tokenize_process.items(), w2v)"
      ],
      "metadata": {
        "id": "CizZhPlJ9qzy"
      },
      "execution_count": null,
      "outputs": []
    },
    {
      "cell_type": "code",
      "source": [
        "from sklearn.preprocessing import StandardScaler\n",
        "from tensorflow.keras.preprocessing.sequence import pad_sequences"
      ],
      "metadata": {
        "id": "GaM1txaKBXTS"
      },
      "execution_count": null,
      "outputs": []
    },
    {
      "cell_type": "markdown",
      "source": [
        "##TFIDF"
      ],
      "metadata": {
        "id": "XJ7d3kktxnD8"
      }
    },
    {
      "cell_type": "markdown",
      "source": [
        "## Name Entities"
      ],
      "metadata": {
        "id": "RNy3bSh0xwZ7"
      }
    },
    {
      "cell_type": "markdown",
      "source": [
        "## Part of Speech tags (POS)"
      ],
      "metadata": {
        "id": "3bhQo1hQxyJj"
      }
    },
    {
      "cell_type": "markdown",
      "source": [
        "##N-Gram"
      ],
      "metadata": {
        "id": "6wnlh7Kxx4eo"
      }
    },
    {
      "cell_type": "markdown",
      "source": [
        "##Sentence Position"
      ],
      "metadata": {
        "id": "lYElt6zux5_o"
      }
    },
    {
      "cell_type": "markdown",
      "source": [],
      "metadata": {
        "id": "HL3rTMyTx9Tw"
      }
    },
    {
      "cell_type": "markdown",
      "source": [
        "# Create Model"
      ],
      "metadata": {
        "id": "GX1YVqRY9MEu"
      }
    },
    {
      "cell_type": "markdown",
      "source": [
        "## pretrain Model"
      ],
      "metadata": {
        "id": "PPzy7QazamAB"
      }
    },
    {
      "cell_type": "code",
      "source": [
        "economy"
      ],
      "metadata": {
        "colab": {
          "base_uri": "https://localhost:8080/",
          "height": 165
        },
        "id": "D5W-fLN3SkH0",
        "outputId": "673af61f-38d0-46d9-9669-cb0f5d6cf087"
      },
      "execution_count": null,
      "outputs": [
        {
          "output_type": "error",
          "ename": "NameError",
          "evalue": "ignored",
          "traceback": [
            "\u001b[0;31m---------------------------------------------------------------------------\u001b[0m",
            "\u001b[0;31mNameError\u001b[0m                                 Traceback (most recent call last)",
            "\u001b[0;32m<ipython-input-14-3c77f8e0d8b1>\u001b[0m in \u001b[0;36m<cell line: 1>\u001b[0;34m()\u001b[0m\n\u001b[0;32m----> 1\u001b[0;31m \u001b[0meconomy\u001b[0m\u001b[0;34m\u001b[0m\u001b[0;34m\u001b[0m\u001b[0m\n\u001b[0m",
            "\u001b[0;31mNameError\u001b[0m: name 'economy' is not defined"
          ]
        }
      ]
    },
    {
      "cell_type": "code",
      "source": [
        "# Load pre-trained Thai BERT model and tokenizer\n",
        "tokenizer = AutoTokenizer.from_pretrained(\"monsoon-nlp/bert-base-thai\")\n",
        "model = TFAutoModelForTokenClassification.from_pretrained(\"monsoon-nlp/bert-base-thai\", num_labels=2)\n"
      ],
      "metadata": {
        "id": "APH8OsKR9Rj-",
        "colab": {
          "base_uri": "https://localhost:8080/",
          "height": 345
        },
        "outputId": "d96bd27f-efd8-4cb7-e7fd-b9d4a72c3828"
      },
      "execution_count": null,
      "outputs": [
        {
          "output_type": "error",
          "ename": "OSError",
          "evalue": "ignored",
          "traceback": [
            "\u001b[0;31m---------------------------------------------------------------------------\u001b[0m",
            "\u001b[0;31mOSError\u001b[0m                                   Traceback (most recent call last)",
            "\u001b[0;32m<ipython-input-12-2cffb44356ec>\u001b[0m in \u001b[0;36m<cell line: 3>\u001b[0;34m()\u001b[0m\n\u001b[1;32m      1\u001b[0m \u001b[0;31m# Load pre-trained Thai BERT model and tokenizer\u001b[0m\u001b[0;34m\u001b[0m\u001b[0;34m\u001b[0m\u001b[0m\n\u001b[1;32m      2\u001b[0m \u001b[0mtokenizer\u001b[0m \u001b[0;34m=\u001b[0m \u001b[0mAutoTokenizer\u001b[0m\u001b[0;34m.\u001b[0m\u001b[0mfrom_pretrained\u001b[0m\u001b[0;34m(\u001b[0m\u001b[0;34m\"monsoon-nlp/bert-base-thai\"\u001b[0m\u001b[0;34m)\u001b[0m\u001b[0;34m\u001b[0m\u001b[0;34m\u001b[0m\u001b[0m\n\u001b[0;32m----> 3\u001b[0;31m \u001b[0mmodel\u001b[0m \u001b[0;34m=\u001b[0m \u001b[0mTFAutoModelForTokenClassification\u001b[0m\u001b[0;34m.\u001b[0m\u001b[0mfrom_pretrained\u001b[0m\u001b[0;34m(\u001b[0m\u001b[0;34m\"monsoon-nlp/bert-base-thai\"\u001b[0m\u001b[0;34m,\u001b[0m \u001b[0mnum_labels\u001b[0m\u001b[0;34m=\u001b[0m\u001b[0;36m2\u001b[0m\u001b[0;34m)\u001b[0m\u001b[0;34m\u001b[0m\u001b[0;34m\u001b[0m\u001b[0m\n\u001b[0m",
            "\u001b[0;32m/usr/local/lib/python3.9/dist-packages/transformers/models/auto/auto_factory.py\u001b[0m in \u001b[0;36mfrom_pretrained\u001b[0;34m(cls, pretrained_model_name_or_path, *model_args, **kwargs)\u001b[0m\n\u001b[1;32m    469\u001b[0m         \u001b[0;32melif\u001b[0m \u001b[0mtype\u001b[0m\u001b[0;34m(\u001b[0m\u001b[0mconfig\u001b[0m\u001b[0;34m)\u001b[0m \u001b[0;32min\u001b[0m \u001b[0mcls\u001b[0m\u001b[0;34m.\u001b[0m\u001b[0m_model_mapping\u001b[0m\u001b[0;34m.\u001b[0m\u001b[0mkeys\u001b[0m\u001b[0;34m(\u001b[0m\u001b[0;34m)\u001b[0m\u001b[0;34m:\u001b[0m\u001b[0;34m\u001b[0m\u001b[0;34m\u001b[0m\u001b[0m\n\u001b[1;32m    470\u001b[0m             \u001b[0mmodel_class\u001b[0m \u001b[0;34m=\u001b[0m \u001b[0m_get_model_class\u001b[0m\u001b[0;34m(\u001b[0m\u001b[0mconfig\u001b[0m\u001b[0;34m,\u001b[0m \u001b[0mcls\u001b[0m\u001b[0;34m.\u001b[0m\u001b[0m_model_mapping\u001b[0m\u001b[0;34m)\u001b[0m\u001b[0;34m\u001b[0m\u001b[0;34m\u001b[0m\u001b[0m\n\u001b[0;32m--> 471\u001b[0;31m             return model_class.from_pretrained(\n\u001b[0m\u001b[1;32m    472\u001b[0m                 \u001b[0mpretrained_model_name_or_path\u001b[0m\u001b[0;34m,\u001b[0m \u001b[0;34m*\u001b[0m\u001b[0mmodel_args\u001b[0m\u001b[0;34m,\u001b[0m \u001b[0mconfig\u001b[0m\u001b[0;34m=\u001b[0m\u001b[0mconfig\u001b[0m\u001b[0;34m,\u001b[0m \u001b[0;34m**\u001b[0m\u001b[0mhub_kwargs\u001b[0m\u001b[0;34m,\u001b[0m \u001b[0;34m**\u001b[0m\u001b[0mkwargs\u001b[0m\u001b[0;34m\u001b[0m\u001b[0;34m\u001b[0m\u001b[0m\n\u001b[1;32m    473\u001b[0m             )\n",
            "\u001b[0;32m/usr/local/lib/python3.9/dist-packages/transformers/modeling_tf_utils.py\u001b[0m in \u001b[0;36mfrom_pretrained\u001b[0;34m(cls, pretrained_model_name_or_path, *model_args, **kwargs)\u001b[0m\n\u001b[1;32m   2712\u001b[0m                         }\n\u001b[1;32m   2713\u001b[0m                         \u001b[0;32mif\u001b[0m \u001b[0mhas_file\u001b[0m\u001b[0;34m(\u001b[0m\u001b[0mpretrained_model_name_or_path\u001b[0m\u001b[0;34m,\u001b[0m \u001b[0mWEIGHTS_NAME\u001b[0m\u001b[0;34m,\u001b[0m \u001b[0;34m**\u001b[0m\u001b[0mhas_file_kwargs\u001b[0m\u001b[0;34m)\u001b[0m\u001b[0;34m:\u001b[0m\u001b[0;34m\u001b[0m\u001b[0;34m\u001b[0m\u001b[0m\n\u001b[0;32m-> 2714\u001b[0;31m                             raise EnvironmentError(\n\u001b[0m\u001b[1;32m   2715\u001b[0m                                 \u001b[0;34mf\"{pretrained_model_name_or_path} does not appear to have a file named\"\u001b[0m\u001b[0;34m\u001b[0m\u001b[0;34m\u001b[0m\u001b[0m\n\u001b[1;32m   2716\u001b[0m                                 \u001b[0;34mf\" {TF2_WEIGHTS_NAME} but there is a file for PyTorch weights. Use `from_pt=True` to\"\u001b[0m\u001b[0;34m\u001b[0m\u001b[0;34m\u001b[0m\u001b[0m\n",
            "\u001b[0;31mOSError\u001b[0m: monsoon-nlp/bert-base-thai does not appear to have a file named tf_model.h5 but there is a file for PyTorch weights. Use `from_pt=True` to load this model from those weights."
          ]
        }
      ]
    },
    {
      "cell_type": "code",
      "source": [
        "# Load pre-trained Thai BERT model and tokenizer\n",
        "tokenizer = AutoTokenizer.from_pretrained(\"airesearch/wisesight-sentiment\")\n",
        "model = TFAutoModelForTokenClassification.from_pretrained(\"airesearch/wisesight-sentiment\", num_labels=2, from_pt=True)\n"
      ],
      "metadata": {
        "colab": {
          "base_uri": "https://localhost:8080/",
          "height": 641
        },
        "id": "9zeYlGnYRPKc",
        "outputId": "155977f6-dace-4fdc-b3bf-a8f015515b43"
      },
      "execution_count": null,
      "outputs": [
        {
          "output_type": "error",
          "ename": "OSError",
          "evalue": "ignored",
          "traceback": [
            "\u001b[0;31m---------------------------------------------------------------------------\u001b[0m",
            "\u001b[0;31mHTTPError\u001b[0m                                 Traceback (most recent call last)",
            "\u001b[0;32m/usr/local/lib/python3.9/dist-packages/huggingface_hub/utils/_errors.py\u001b[0m in \u001b[0;36mhf_raise_for_status\u001b[0;34m(response, endpoint_name)\u001b[0m\n\u001b[1;32m    258\u001b[0m     \u001b[0;32mtry\u001b[0m\u001b[0;34m:\u001b[0m\u001b[0;34m\u001b[0m\u001b[0;34m\u001b[0m\u001b[0m\n\u001b[0;32m--> 259\u001b[0;31m         \u001b[0mresponse\u001b[0m\u001b[0;34m.\u001b[0m\u001b[0mraise_for_status\u001b[0m\u001b[0;34m(\u001b[0m\u001b[0;34m)\u001b[0m\u001b[0;34m\u001b[0m\u001b[0;34m\u001b[0m\u001b[0m\n\u001b[0m\u001b[1;32m    260\u001b[0m     \u001b[0;32mexcept\u001b[0m \u001b[0mHTTPError\u001b[0m \u001b[0;32mas\u001b[0m \u001b[0me\u001b[0m\u001b[0;34m:\u001b[0m\u001b[0;34m\u001b[0m\u001b[0;34m\u001b[0m\u001b[0m\n",
            "\u001b[0;32m/usr/local/lib/python3.9/dist-packages/requests/models.py\u001b[0m in \u001b[0;36mraise_for_status\u001b[0;34m(self)\u001b[0m\n\u001b[1;32m    959\u001b[0m         \u001b[0;32mif\u001b[0m \u001b[0mhttp_error_msg\u001b[0m\u001b[0;34m:\u001b[0m\u001b[0;34m\u001b[0m\u001b[0;34m\u001b[0m\u001b[0m\n\u001b[0;32m--> 960\u001b[0;31m             \u001b[0;32mraise\u001b[0m \u001b[0mHTTPError\u001b[0m\u001b[0;34m(\u001b[0m\u001b[0mhttp_error_msg\u001b[0m\u001b[0;34m,\u001b[0m \u001b[0mresponse\u001b[0m\u001b[0;34m=\u001b[0m\u001b[0mself\u001b[0m\u001b[0;34m)\u001b[0m\u001b[0;34m\u001b[0m\u001b[0;34m\u001b[0m\u001b[0m\n\u001b[0m\u001b[1;32m    961\u001b[0m \u001b[0;34m\u001b[0m\u001b[0m\n",
            "\u001b[0;31mHTTPError\u001b[0m: 401 Client Error: Unauthorized for url: https://huggingface.co/airesearch/wisesight-sentiment/resolve/main/tokenizer_config.json",
            "\nThe above exception was the direct cause of the following exception:\n",
            "\u001b[0;31mRepositoryNotFoundError\u001b[0m                   Traceback (most recent call last)",
            "\u001b[0;32m/usr/local/lib/python3.9/dist-packages/transformers/utils/hub.py\u001b[0m in \u001b[0;36mcached_file\u001b[0;34m(path_or_repo_id, filename, cache_dir, force_download, resume_download, proxies, use_auth_token, revision, local_files_only, subfolder, user_agent, _raise_exceptions_for_missing_entries, _raise_exceptions_for_connection_errors, _commit_hash)\u001b[0m\n\u001b[1;32m    408\u001b[0m         \u001b[0;31m# Load from URL or cache if already cached\u001b[0m\u001b[0;34m\u001b[0m\u001b[0;34m\u001b[0m\u001b[0m\n\u001b[0;32m--> 409\u001b[0;31m         resolved_file = hf_hub_download(\n\u001b[0m\u001b[1;32m    410\u001b[0m             \u001b[0mpath_or_repo_id\u001b[0m\u001b[0;34m,\u001b[0m\u001b[0;34m\u001b[0m\u001b[0;34m\u001b[0m\u001b[0m\n",
            "\u001b[0;32m/usr/local/lib/python3.9/dist-packages/huggingface_hub/utils/_validators.py\u001b[0m in \u001b[0;36m_inner_fn\u001b[0;34m(*args, **kwargs)\u001b[0m\n\u001b[1;32m    119\u001b[0m \u001b[0;34m\u001b[0m\u001b[0m\n\u001b[0;32m--> 120\u001b[0;31m         \u001b[0;32mreturn\u001b[0m \u001b[0mfn\u001b[0m\u001b[0;34m(\u001b[0m\u001b[0;34m*\u001b[0m\u001b[0margs\u001b[0m\u001b[0;34m,\u001b[0m \u001b[0;34m**\u001b[0m\u001b[0mkwargs\u001b[0m\u001b[0;34m)\u001b[0m\u001b[0;34m\u001b[0m\u001b[0;34m\u001b[0m\u001b[0m\n\u001b[0m\u001b[1;32m    121\u001b[0m \u001b[0;34m\u001b[0m\u001b[0m\n",
            "\u001b[0;32m/usr/local/lib/python3.9/dist-packages/huggingface_hub/file_download.py\u001b[0m in \u001b[0;36mhf_hub_download\u001b[0;34m(repo_id, filename, subfolder, repo_type, revision, library_name, library_version, cache_dir, local_dir, local_dir_use_symlinks, user_agent, force_download, force_filename, proxies, etag_timeout, resume_download, token, local_files_only, legacy_cache_layout)\u001b[0m\n\u001b[1;32m   1165\u001b[0m             \u001b[0;32mtry\u001b[0m\u001b[0;34m:\u001b[0m\u001b[0;34m\u001b[0m\u001b[0;34m\u001b[0m\u001b[0m\n\u001b[0;32m-> 1166\u001b[0;31m                 metadata = get_hf_file_metadata(\n\u001b[0m\u001b[1;32m   1167\u001b[0m                     \u001b[0murl\u001b[0m\u001b[0;34m=\u001b[0m\u001b[0murl\u001b[0m\u001b[0;34m,\u001b[0m\u001b[0;34m\u001b[0m\u001b[0;34m\u001b[0m\u001b[0m\n",
            "\u001b[0;32m/usr/local/lib/python3.9/dist-packages/huggingface_hub/utils/_validators.py\u001b[0m in \u001b[0;36m_inner_fn\u001b[0;34m(*args, **kwargs)\u001b[0m\n\u001b[1;32m    119\u001b[0m \u001b[0;34m\u001b[0m\u001b[0m\n\u001b[0;32m--> 120\u001b[0;31m         \u001b[0;32mreturn\u001b[0m \u001b[0mfn\u001b[0m\u001b[0;34m(\u001b[0m\u001b[0;34m*\u001b[0m\u001b[0margs\u001b[0m\u001b[0;34m,\u001b[0m \u001b[0;34m**\u001b[0m\u001b[0mkwargs\u001b[0m\u001b[0;34m)\u001b[0m\u001b[0;34m\u001b[0m\u001b[0;34m\u001b[0m\u001b[0m\n\u001b[0m\u001b[1;32m    121\u001b[0m \u001b[0;34m\u001b[0m\u001b[0m\n",
            "\u001b[0;32m/usr/local/lib/python3.9/dist-packages/huggingface_hub/file_download.py\u001b[0m in \u001b[0;36mget_hf_file_metadata\u001b[0;34m(url, token, proxies, timeout)\u001b[0m\n\u001b[1;32m   1506\u001b[0m     )\n\u001b[0;32m-> 1507\u001b[0;31m     \u001b[0mhf_raise_for_status\u001b[0m\u001b[0;34m(\u001b[0m\u001b[0mr\u001b[0m\u001b[0;34m)\u001b[0m\u001b[0;34m\u001b[0m\u001b[0;34m\u001b[0m\u001b[0m\n\u001b[0m\u001b[1;32m   1508\u001b[0m \u001b[0;34m\u001b[0m\u001b[0m\n",
            "\u001b[0;32m/usr/local/lib/python3.9/dist-packages/huggingface_hub/utils/_errors.py\u001b[0m in \u001b[0;36mhf_raise_for_status\u001b[0;34m(response, endpoint_name)\u001b[0m\n\u001b[1;32m    290\u001b[0m             )\n\u001b[0;32m--> 291\u001b[0;31m             \u001b[0;32mraise\u001b[0m \u001b[0mRepositoryNotFoundError\u001b[0m\u001b[0;34m(\u001b[0m\u001b[0mmessage\u001b[0m\u001b[0;34m,\u001b[0m \u001b[0mresponse\u001b[0m\u001b[0;34m)\u001b[0m \u001b[0;32mfrom\u001b[0m \u001b[0me\u001b[0m\u001b[0;34m\u001b[0m\u001b[0;34m\u001b[0m\u001b[0m\n\u001b[0m\u001b[1;32m    292\u001b[0m \u001b[0;34m\u001b[0m\u001b[0m\n",
            "\u001b[0;31mRepositoryNotFoundError\u001b[0m: 401 Client Error. (Request ID: Root=1-643cff39-10b1a99c615d02c565c374df)\n\nRepository Not Found for url: https://huggingface.co/airesearch/wisesight-sentiment/resolve/main/tokenizer_config.json.\nPlease make sure you specified the correct `repo_id` and `repo_type`.\nIf you are trying to access a private or gated repo, make sure you are authenticated.\nInvalid username or password.",
            "\nDuring handling of the above exception, another exception occurred:\n",
            "\u001b[0;31mOSError\u001b[0m                                   Traceback (most recent call last)",
            "\u001b[0;32m<ipython-input-13-2904a0490ebf>\u001b[0m in \u001b[0;36m<cell line: 2>\u001b[0;34m()\u001b[0m\n\u001b[1;32m      1\u001b[0m \u001b[0;31m# Load pre-trained Thai BERT model and tokenizer\u001b[0m\u001b[0;34m\u001b[0m\u001b[0;34m\u001b[0m\u001b[0m\n\u001b[0;32m----> 2\u001b[0;31m \u001b[0mtokenizer\u001b[0m \u001b[0;34m=\u001b[0m \u001b[0mAutoTokenizer\u001b[0m\u001b[0;34m.\u001b[0m\u001b[0mfrom_pretrained\u001b[0m\u001b[0;34m(\u001b[0m\u001b[0;34m\"airesearch/wisesight-sentiment\"\u001b[0m\u001b[0;34m)\u001b[0m\u001b[0;34m\u001b[0m\u001b[0;34m\u001b[0m\u001b[0m\n\u001b[0m\u001b[1;32m      3\u001b[0m \u001b[0mmodel\u001b[0m \u001b[0;34m=\u001b[0m \u001b[0mTFAutoModelForTokenClassification\u001b[0m\u001b[0;34m.\u001b[0m\u001b[0mfrom_pretrained\u001b[0m\u001b[0;34m(\u001b[0m\u001b[0;34m\"airesearch/wisesight-sentiment\"\u001b[0m\u001b[0;34m,\u001b[0m \u001b[0mnum_labels\u001b[0m\u001b[0;34m=\u001b[0m\u001b[0;36m2\u001b[0m\u001b[0;34m,\u001b[0m \u001b[0mfrom_pt\u001b[0m\u001b[0;34m=\u001b[0m\u001b[0;32mTrue\u001b[0m\u001b[0;34m)\u001b[0m\u001b[0;34m\u001b[0m\u001b[0;34m\u001b[0m\u001b[0m\n",
            "\u001b[0;32m/usr/local/lib/python3.9/dist-packages/transformers/models/auto/tokenization_auto.py\u001b[0m in \u001b[0;36mfrom_pretrained\u001b[0;34m(cls, pretrained_model_name_or_path, *inputs, **kwargs)\u001b[0m\n\u001b[1;32m    640\u001b[0m \u001b[0;34m\u001b[0m\u001b[0m\n\u001b[1;32m    641\u001b[0m         \u001b[0;31m# Next, let's try to use the tokenizer_config file to get the tokenizer class.\u001b[0m\u001b[0;34m\u001b[0m\u001b[0;34m\u001b[0m\u001b[0m\n\u001b[0;32m--> 642\u001b[0;31m         \u001b[0mtokenizer_config\u001b[0m \u001b[0;34m=\u001b[0m \u001b[0mget_tokenizer_config\u001b[0m\u001b[0;34m(\u001b[0m\u001b[0mpretrained_model_name_or_path\u001b[0m\u001b[0;34m,\u001b[0m \u001b[0;34m**\u001b[0m\u001b[0mkwargs\u001b[0m\u001b[0;34m)\u001b[0m\u001b[0;34m\u001b[0m\u001b[0;34m\u001b[0m\u001b[0m\n\u001b[0m\u001b[1;32m    643\u001b[0m         \u001b[0;32mif\u001b[0m \u001b[0;34m\"_commit_hash\"\u001b[0m \u001b[0;32min\u001b[0m \u001b[0mtokenizer_config\u001b[0m\u001b[0;34m:\u001b[0m\u001b[0;34m\u001b[0m\u001b[0;34m\u001b[0m\u001b[0m\n\u001b[1;32m    644\u001b[0m             \u001b[0mkwargs\u001b[0m\u001b[0;34m[\u001b[0m\u001b[0;34m\"_commit_hash\"\u001b[0m\u001b[0;34m]\u001b[0m \u001b[0;34m=\u001b[0m \u001b[0mtokenizer_config\u001b[0m\u001b[0;34m[\u001b[0m\u001b[0;34m\"_commit_hash\"\u001b[0m\u001b[0;34m]\u001b[0m\u001b[0;34m\u001b[0m\u001b[0;34m\u001b[0m\u001b[0m\n",
            "\u001b[0;32m/usr/local/lib/python3.9/dist-packages/transformers/models/auto/tokenization_auto.py\u001b[0m in \u001b[0;36mget_tokenizer_config\u001b[0;34m(pretrained_model_name_or_path, cache_dir, force_download, resume_download, proxies, use_auth_token, revision, local_files_only, subfolder, **kwargs)\u001b[0m\n\u001b[1;32m    484\u001b[0m     ```\"\"\"\n\u001b[1;32m    485\u001b[0m     \u001b[0mcommit_hash\u001b[0m \u001b[0;34m=\u001b[0m \u001b[0mkwargs\u001b[0m\u001b[0;34m.\u001b[0m\u001b[0mget\u001b[0m\u001b[0;34m(\u001b[0m\u001b[0;34m\"_commit_hash\"\u001b[0m\u001b[0;34m,\u001b[0m \u001b[0;32mNone\u001b[0m\u001b[0;34m)\u001b[0m\u001b[0;34m\u001b[0m\u001b[0;34m\u001b[0m\u001b[0m\n\u001b[0;32m--> 486\u001b[0;31m     resolved_config_file = cached_file(\n\u001b[0m\u001b[1;32m    487\u001b[0m         \u001b[0mpretrained_model_name_or_path\u001b[0m\u001b[0;34m,\u001b[0m\u001b[0;34m\u001b[0m\u001b[0;34m\u001b[0m\u001b[0m\n\u001b[1;32m    488\u001b[0m         \u001b[0mTOKENIZER_CONFIG_FILE\u001b[0m\u001b[0;34m,\u001b[0m\u001b[0;34m\u001b[0m\u001b[0;34m\u001b[0m\u001b[0m\n",
            "\u001b[0;32m/usr/local/lib/python3.9/dist-packages/transformers/utils/hub.py\u001b[0m in \u001b[0;36mcached_file\u001b[0;34m(path_or_repo_id, filename, cache_dir, force_download, resume_download, proxies, use_auth_token, revision, local_files_only, subfolder, user_agent, _raise_exceptions_for_missing_entries, _raise_exceptions_for_connection_errors, _commit_hash)\u001b[0m\n\u001b[1;32m    422\u001b[0m \u001b[0;34m\u001b[0m\u001b[0m\n\u001b[1;32m    423\u001b[0m     \u001b[0;32mexcept\u001b[0m \u001b[0mRepositoryNotFoundError\u001b[0m\u001b[0;34m:\u001b[0m\u001b[0;34m\u001b[0m\u001b[0;34m\u001b[0m\u001b[0m\n\u001b[0;32m--> 424\u001b[0;31m         raise EnvironmentError(\n\u001b[0m\u001b[1;32m    425\u001b[0m             \u001b[0;34mf\"{path_or_repo_id} is not a local folder and is not a valid model identifier \"\u001b[0m\u001b[0;34m\u001b[0m\u001b[0;34m\u001b[0m\u001b[0m\n\u001b[1;32m    426\u001b[0m             \u001b[0;34m\"listed on 'https://huggingface.co/models'\\nIf this is a private repository, make sure to \"\u001b[0m\u001b[0;34m\u001b[0m\u001b[0;34m\u001b[0m\u001b[0m\n",
            "\u001b[0;31mOSError\u001b[0m: airesearch/wisesight-sentiment is not a local folder and is not a valid model identifier listed on 'https://huggingface.co/models'\nIf this is a private repository, make sure to pass a token having permission to this repo with `use_auth_token` or log in with `huggingface-cli login` and pass `use_auth_token=True`."
          ]
        }
      ]
    },
    {
      "cell_type": "code",
      "source": [
        "# this will download the BERT Tokenizer\n",
        "bert_tokenizer = BertTokenizer.from_pretrained(\"monsoon-nlp/bert-base-thai\")  \n",
        "# this will download the BERT Trained Model\n",
        "# output_hidden_states=False, as we are training & not interested in output state.\n",
        "config = BertConfig.from_pretrained(\"monsoon-nlp/bert-base-thai\", output_hidden_states=False) # dropout=0.2, attention_dropout=0.2\n",
        "bert_model = TFBertModel.from_pretrained(\"monsoon-nlp/bert-base-thai\", config=config)"
      ],
      "metadata": {
        "colab": {
          "base_uri": "https://localhost:8080/",
          "height": 449,
          "referenced_widgets": [
            "8876b17052e14d569ef42753dd0a4d60",
            "2bfbaecb5db04bd398716c92d4e66143",
            "1d75d489c6154ab08c55e9eba5a26ef0",
            "cac456b9fae8491ca5202b23ef5e3391",
            "b6d8efa4689d444d90c67229078df27a",
            "45518f39642b4cf39516d1da6edffe89",
            "8800a07a166c4275a048530196e13db2",
            "d76d7202a8134cc3b51fce5307fbaf95",
            "3b9d675ed14340e48f5e0ef7c90c9c06",
            "ce4da101fc3e4d08a40f8f3a3399354b",
            "e6bc6a6e114d4ed1a69fcc4194d994bc",
            "08797be9bf3c4b8189bf50760dad7729",
            "ff40e83a9941437c8448211e310f2355",
            "1432cd92bec5452ab40f0f5e6197a73c",
            "d51187014fd6447bb5a6cc4f8b20ebb8",
            "a944a186051c497a92287157698fb465",
            "9a21f120e46b4cd2b1cc796b81737993",
            "83ae4cbd25d04685b815845545d48615",
            "44c96e4c634e455cbadec8fdbe6b811b",
            "e4aeee5327a84be790d05a1696d71c23",
            "dde12c610e2b4463a5f8827423b25db3",
            "8c56e15fa79744529c02198b118593b1",
            "34ee7e4fe78c4cd39624c3a4ec29c51f",
            "f8ea0f8360bc468cb8cff80c0f8bf73e",
            "72a492dbec0d47cfb2c0feb6d832c1c0",
            "30ddd961a8814978b86c6d16497559a1",
            "35248898342d4110b228407c8ea4d0ec",
            "e73e11bb4d7e4aefad49aac7a1cffcb7",
            "3bf55d9b26414b16873d2f69f921835c",
            "14cefee346cd4daa84d01c1aa96a6ad3",
            "fe2d57b958a64f919d3758e706302150",
            "6fa70052a0014d499644bab689b168bc",
            "59f2ad38b124409b9969d08b516ea8a3",
            "7aab10ab5041418895b5eab1a2735edb",
            "8ac01687842743598e37f3dec19c1b9e",
            "34d06f7397df4e778ef433bda40efd9d",
            "3db195fa1fa34819a84d330028a25526",
            "55a3c9c9effe4f3485c6f0fbefe6c64a",
            "71e28bce2fa4482b980c58ea9b18c5b1",
            "fb842088674c4bcf9437b250fb916d45",
            "ca5517d3a969490f990400b8f7008487",
            "578aea4c2d2f44958de949bb3ac6d37d",
            "1a39c4901dc241b690a14eea5f0d2810",
            "fe150aa0b32d4793a3ec7f226d8b37d3"
          ]
        },
        "id": "8n2QAFcWJ4Ti",
        "outputId": "52661021-4c1d-4218-8dbb-35648aca7b74"
      },
      "execution_count": null,
      "outputs": [
        {
          "output_type": "display_data",
          "data": {
            "text/plain": [
              "Downloading (…)solve/main/vocab.txt:   0%|          | 0.00/489k [00:00<?, ?B/s]"
            ],
            "application/vnd.jupyter.widget-view+json": {
              "version_major": 2,
              "version_minor": 0,
              "model_id": "8876b17052e14d569ef42753dd0a4d60"
            }
          },
          "metadata": {}
        },
        {
          "output_type": "display_data",
          "data": {
            "text/plain": [
              "Downloading (…)cial_tokens_map.json:   0%|          | 0.00/113 [00:00<?, ?B/s]"
            ],
            "application/vnd.jupyter.widget-view+json": {
              "version_major": 2,
              "version_minor": 0,
              "model_id": "08797be9bf3c4b8189bf50760dad7729"
            }
          },
          "metadata": {}
        },
        {
          "output_type": "display_data",
          "data": {
            "text/plain": [
              "Downloading (…)okenizer_config.json:   0%|          | 0.00/181 [00:00<?, ?B/s]"
            ],
            "application/vnd.jupyter.widget-view+json": {
              "version_major": 2,
              "version_minor": 0,
              "model_id": "34ee7e4fe78c4cd39624c3a4ec29c51f"
            }
          },
          "metadata": {}
        },
        {
          "output_type": "display_data",
          "data": {
            "text/plain": [
              "Downloading (…)lve/main/config.json:   0%|          | 0.00/405 [00:00<?, ?B/s]"
            ],
            "application/vnd.jupyter.widget-view+json": {
              "version_major": 2,
              "version_minor": 0,
              "model_id": "7aab10ab5041418895b5eab1a2735edb"
            }
          },
          "metadata": {}
        },
        {
          "output_type": "error",
          "ename": "OSError",
          "evalue": "ignored",
          "traceback": [
            "\u001b[0;31m---------------------------------------------------------------------------\u001b[0m",
            "\u001b[0;31mOSError\u001b[0m                                   Traceback (most recent call last)",
            "\u001b[0;32m<ipython-input-10-1d00928fa720>\u001b[0m in \u001b[0;36m<cell line: 6>\u001b[0;34m()\u001b[0m\n\u001b[1;32m      4\u001b[0m \u001b[0;31m# output_hidden_states=False, as we are training & not interested in output state.\u001b[0m\u001b[0;34m\u001b[0m\u001b[0;34m\u001b[0m\u001b[0m\n\u001b[1;32m      5\u001b[0m \u001b[0mconfig\u001b[0m \u001b[0;34m=\u001b[0m \u001b[0mBertConfig\u001b[0m\u001b[0;34m.\u001b[0m\u001b[0mfrom_pretrained\u001b[0m\u001b[0;34m(\u001b[0m\u001b[0;34m\"monsoon-nlp/bert-base-thai\"\u001b[0m\u001b[0;34m,\u001b[0m \u001b[0moutput_hidden_states\u001b[0m\u001b[0;34m=\u001b[0m\u001b[0;32mFalse\u001b[0m\u001b[0;34m)\u001b[0m \u001b[0;31m# dropout=0.2, attention_dropout=0.2\u001b[0m\u001b[0;34m\u001b[0m\u001b[0;34m\u001b[0m\u001b[0m\n\u001b[0;32m----> 6\u001b[0;31m \u001b[0mbert_model\u001b[0m \u001b[0;34m=\u001b[0m \u001b[0mTFBertModel\u001b[0m\u001b[0;34m.\u001b[0m\u001b[0mfrom_pretrained\u001b[0m\u001b[0;34m(\u001b[0m\u001b[0;34m\"monsoon-nlp/bert-base-thai\"\u001b[0m\u001b[0;34m,\u001b[0m \u001b[0mconfig\u001b[0m\u001b[0;34m=\u001b[0m\u001b[0mconfig\u001b[0m\u001b[0;34m)\u001b[0m\u001b[0;34m\u001b[0m\u001b[0;34m\u001b[0m\u001b[0m\n\u001b[0m",
            "\u001b[0;32m/usr/local/lib/python3.9/dist-packages/transformers/modeling_tf_utils.py\u001b[0m in \u001b[0;36mfrom_pretrained\u001b[0;34m(cls, pretrained_model_name_or_path, *model_args, **kwargs)\u001b[0m\n\u001b[1;32m   2712\u001b[0m                         }\n\u001b[1;32m   2713\u001b[0m                         \u001b[0;32mif\u001b[0m \u001b[0mhas_file\u001b[0m\u001b[0;34m(\u001b[0m\u001b[0mpretrained_model_name_or_path\u001b[0m\u001b[0;34m,\u001b[0m \u001b[0mWEIGHTS_NAME\u001b[0m\u001b[0;34m,\u001b[0m \u001b[0;34m**\u001b[0m\u001b[0mhas_file_kwargs\u001b[0m\u001b[0;34m)\u001b[0m\u001b[0;34m:\u001b[0m\u001b[0;34m\u001b[0m\u001b[0;34m\u001b[0m\u001b[0m\n\u001b[0;32m-> 2714\u001b[0;31m                             raise EnvironmentError(\n\u001b[0m\u001b[1;32m   2715\u001b[0m                                 \u001b[0;34mf\"{pretrained_model_name_or_path} does not appear to have a file named\"\u001b[0m\u001b[0;34m\u001b[0m\u001b[0;34m\u001b[0m\u001b[0m\n\u001b[1;32m   2716\u001b[0m                                 \u001b[0;34mf\" {TF2_WEIGHTS_NAME} but there is a file for PyTorch weights. Use `from_pt=True` to\"\u001b[0m\u001b[0;34m\u001b[0m\u001b[0;34m\u001b[0m\u001b[0m\n",
            "\u001b[0;31mOSError\u001b[0m: monsoon-nlp/bert-base-thai does not appear to have a file named tf_model.h5 but there is a file for PyTorch weights. Use `from_pt=True` to load this model from those weights."
          ]
        }
      ]
    },
    {
      "cell_type": "markdown",
      "source": [
        "## encoder-decoder\n"
      ],
      "metadata": {
        "id": "gGSaZ4MTahn5"
      }
    },
    {
      "cell_type": "code",
      "source": [
        "from tensorflow.keras.preprocessing.text import Tokenizer\n",
        "from tensorflow.keras.preprocessing.sequence import pad_sequences\n",
        "from tensorflow.keras.layers import Input, LSTM, Embedding, Dense, Concatenate, TimeDistributed\n",
        "from tensorflow.keras.models import Model\n",
        "from tensorflow.keras.callbacks import EarlyStopping"
      ],
      "metadata": {
        "id": "sKc9wCe0atDQ"
      },
      "execution_count": null,
      "outputs": []
    },
    {
      "cell_type": "code",
      "source": [
        "latent_dim = 300\n",
        "embedding_dim = 200\n",
        "\n",
        "# Encoder max_text_len -> max_word_x\n",
        "encoder_inputs = Input(shape=(max_word_x, ))\n",
        "\n",
        "# # Embedding layer\n",
        "enc_emb = Embedding(len(w2v.wv), embedding_dim,\n",
        "                    trainable=True)(encoder_inputs)\n",
        "\n",
        "# Encoder LSTM 1\n",
        "encoder_lstm1 = LSTM(latent_dim, return_sequences=True,\n",
        "                     return_state=True, dropout=0.4,\n",
        "                     recurrent_dropout=0.4)\n",
        "(encoder_output1, state_h1, state_c1) = encoder_lstm1(enc_emb)\n",
        "\n",
        "# Encoder LSTM 2\n",
        "encoder_lstm2 = LSTM(latent_dim, return_sequences=True,\n",
        "                     return_state=True, dropout=0.4,\n",
        "                     recurrent_dropout=0.4)\n",
        "(encoder_output2, state_h2, state_c2) = encoder_lstm2(encoder_output1)\n",
        "\n",
        "# Encoder LSTM 3\n",
        "encoder_lstm3 = LSTM(latent_dim, return_state=True,\n",
        "                     return_sequences=True, dropout=0.4,\n",
        "                     recurrent_dropout=0.4)\n",
        "(encoder_outputs, state_h, state_c) = encoder_lstm3(encoder_output2)\n",
        "\n",
        "# Set up the decoder, using encoder_states as the initial state\n",
        "decoder_inputs = Input(shape=(None, ))\n",
        "\n",
        "# Embedding layer\n",
        "dec_emb_layer = Embedding(len(w2v.wv), embedding_dim, trainable=True)\n",
        "dec_emb = dec_emb_layer(decoder_inputs)\n",
        "\n",
        "# Decoder LSTM\n",
        "decoder_lstm = LSTM(latent_dim, return_sequences=True,\n",
        "                    return_state=True, dropout=0.4,\n",
        "                    recurrent_dropout=0.2)\n",
        "(decoder_outputs, decoder_fwd_state, decoder_back_state) = \\\n",
        "    decoder_lstm(dec_emb, initial_state=[state_h, state_c])\n",
        "\n",
        "# Dense layer\n",
        "decoder_dense = TimeDistributed(Dense(len(w2v.wv), activation='softmax'))\n",
        "decoder_outputs = decoder_dense(decoder_outputs)\n",
        "\n",
        "# Define the model\n",
        "model = Model([encoder_inputs, decoder_inputs], decoder_outputs)\n",
        "\n",
        "model.summary()"
      ],
      "metadata": {
        "colab": {
          "base_uri": "https://localhost:8080/"
        },
        "id": "HvOwJy3sjtbH",
        "outputId": "694dec02-621b-4b66-d10b-4259d2cf1146"
      },
      "execution_count": null,
      "outputs": [
        {
          "output_type": "stream",
          "name": "stderr",
          "text": [
            "WARNING:tensorflow:Layer lstm_5 will not use cuDNN kernels since it doesn't meet the criteria. It will use a generic GPU kernel as fallback when running on GPU.\n",
            "WARNING:tensorflow:Layer lstm_6 will not use cuDNN kernels since it doesn't meet the criteria. It will use a generic GPU kernel as fallback when running on GPU.\n",
            "WARNING:tensorflow:Layer lstm_7 will not use cuDNN kernels since it doesn't meet the criteria. It will use a generic GPU kernel as fallback when running on GPU.\n",
            "WARNING:tensorflow:Layer lstm_8 will not use cuDNN kernels since it doesn't meet the criteria. It will use a generic GPU kernel as fallback when running on GPU.\n"
          ]
        },
        {
          "output_type": "stream",
          "name": "stdout",
          "text": [
            "Model: \"model\"\n",
            "__________________________________________________________________________________________________\n",
            " Layer (type)                   Output Shape         Param #     Connected to                     \n",
            "==================================================================================================\n",
            " input_6 (InputLayer)           [(None, 34772)]      0           []                               \n",
            "                                                                                                  \n",
            " embedding_2 (Embedding)        (None, 34772, 200)   11636200    ['input_6[0][0]']                \n",
            "                                                                                                  \n",
            " lstm_5 (LSTM)                  [(None, 34772, 300)  601200      ['embedding_2[0][0]']            \n",
            "                                , (None, 300),                                                    \n",
            "                                 (None, 300)]                                                     \n",
            "                                                                                                  \n",
            " input_7 (InputLayer)           [(None, None)]       0           []                               \n",
            "                                                                                                  \n",
            " lstm_6 (LSTM)                  [(None, 34772, 300)  721200      ['lstm_5[0][0]']                 \n",
            "                                , (None, 300),                                                    \n",
            "                                 (None, 300)]                                                     \n",
            "                                                                                                  \n",
            " embedding_3 (Embedding)        (None, None, 200)    11636200    ['input_7[0][0]']                \n",
            "                                                                                                  \n",
            " lstm_7 (LSTM)                  [(None, 34772, 300)  721200      ['lstm_6[0][0]']                 \n",
            "                                , (None, 300),                                                    \n",
            "                                 (None, 300)]                                                     \n",
            "                                                                                                  \n",
            " lstm_8 (LSTM)                  [(None, None, 300),  601200      ['embedding_3[0][0]',            \n",
            "                                 (None, 300),                     'lstm_7[0][1]',                 \n",
            "                                 (None, 300)]                     'lstm_7[0][2]']                 \n",
            "                                                                                                  \n",
            " time_distributed (TimeDistribu  (None, None, 58181)  17512481   ['lstm_8[0][0]']                 \n",
            " ted)                                                                                             \n",
            "                                                                                                  \n",
            "==================================================================================================\n",
            "Total params: 43,429,681\n",
            "Trainable params: 43,429,681\n",
            "Non-trainable params: 0\n",
            "__________________________________________________________________________________________________\n"
          ]
        }
      ]
    },
    {
      "cell_type": "code",
      "source": [
        "model.compile(optimizer='rmsprop', loss='sparse_categorical_crossentropy')\n",
        "\n",
        "es = EarlyStopping(monitor='val_loss', mode='min', verbose=1, patience=2)"
      ],
      "metadata": {
        "id": "X0RAINGLfmF7"
      },
      "execution_count": null,
      "outputs": []
    },
    {
      "cell_type": "code",
      "source": [
        "history = model.fit(\n",
        "    [x_train, y_tr[:, :-1]],\n",
        "    y_tr.reshape(y_tr.shape[0], y_tr.shape[1], 1)[:, 1:],\n",
        "    epochs=50,\n",
        "    callbacks=[es],\n",
        "    batch_size=1024,\n",
        "    validation_data=([x_val, y_val[:, :-1]],\n",
        "                     y_val.reshape(y_val.shape[0], y_val.shape[1], 1)[:\n",
        "                     , 1:]),\n",
        "    )"
      ],
      "metadata": {
        "id": "mMsIlNKNfoVy"
      },
      "execution_count": null,
      "outputs": []
    },
    {
      "cell_type": "code",
      "source": [
        "\n",
        "# define the model architecture\n",
        "encoder_inputs = Input(shape=(102,))\n",
        "encoder = LSTM(128, return_state=True)\n",
        "encoder_outputs, state_h, state_c = encoder(encoder_inputs)\n",
        "encoder_states = [state_h, state_c]\n",
        "\n",
        "decoder_inputs = Input(shape=(102,))\n",
        "decoder_lstm = LSTM(128, return_sequences=True, return_state=True)\n",
        "decoder_outputs, _, _ = decoder_lstm(decoder_inputs, initial_state=encoder_states)\n",
        "decoder_dense = Dense(num_output_tokens, activation='softmax')\n",
        "decoder_outputs = decoder_dense(decoder_outputs)\n",
        "\n",
        "model = Model([encoder_inputs, decoder_inputs], decoder_outputs)\n",
        "\n",
        "# compile the model\n",
        "model.compile(optimizer='rmsprop', loss='categorical_crossentropy')\n",
        "\n",
        "# train the model\n",
        "model.fit([encoder_input_data, decoder_input_data], decoder_target_data, batch_size=64, epochs=100, validation_split=0.2)"
      ],
      "metadata": {
        "id": "RQwj8NXZaj8x"
      },
      "execution_count": null,
      "outputs": []
    },
    {
      "cell_type": "code",
      "source": [
        "def define_models(n_input, n_output, n_units):\n",
        " # define training encoder\n",
        " encoder_inputs = Input(shape=(None, n_input))\n",
        " encoder = LSTM(n_units, return_state=True)\n",
        " encoder_outputs, state_h, state_c = encoder(encoder_inputs)\n",
        " encoder_states = [state_h, state_c]\n",
        " # define training decoder\n",
        " decoder_inputs = Input(shape=(None, n_output))\n",
        " decoder_lstm = LSTM(n_units, return_sequences=True, return_state=True)\n",
        " decoder_outputs, _, _ = decoder_lstm(decoder_inputs, initial_state=encoder_states)\n",
        " decoder_dense = Dense(n_output, activation='softmax')\n",
        " decoder_outputs = decoder_dense(decoder_outputs)\n",
        " model = Model([encoder_inputs, decoder_inputs], decoder_outputs)\n",
        " # define inference encoder\n",
        " encoder_model = Model(encoder_inputs, encoder_states)\n",
        " # define inference decoder\n",
        " decoder_state_input_h = Input(shape=(n_units,))\n",
        " decoder_state_input_c = Input(shape=(n_units,))\n",
        " decoder_states_inputs = [decoder_state_input_h, decoder_state_input_c]\n",
        " decoder_outputs, state_h, state_c = decoder_lstm(decoder_inputs, initial_state=decoder_states_inputs)\n",
        " decoder_states = [state_h, state_c]\n",
        " decoder_outputs = decoder_dense(decoder_outputs)\n",
        " decoder_model = Model([decoder_inputs] + decoder_states_inputs, [decoder_outputs] + decoder_states)\n",
        " # return all models\n",
        " return model, encoder_model, decoder_model"
      ],
      "metadata": {
        "id": "Ic8Bi_LEedKW"
      },
      "execution_count": null,
      "outputs": []
    },
    {
      "cell_type": "code",
      "source": [
        "encoder_inputs = Input(shape=(None, num_encoder_tokens))\n",
        "encoder = GRU(latent_dim, return_state=True)\n",
        "encoder_outputs, state_h = encoder(encoder_inputs)\n",
        "\n",
        "decoder_inputs = Input(shape=(None, num_decoder_tokens))\n",
        "decoder_gru = GRU(latent_dim, return_sequences=True)\n",
        "decoder_outputs = decoder_gru(decoder_inputs, initial_state=state_h)\n",
        "decoder_dense = Dense(num_decoder_tokens, activation='softmax')\n",
        "decoder_outputs = decoder_dense(decoder_outputs)\n",
        "model = Model([encoder_inputs, decoder_inputs], decoder_outputs)"
      ],
      "metadata": {
        "id": "hSVtu-bvBeGp"
      },
      "execution_count": null,
      "outputs": []
    },
    {
      "cell_type": "code",
      "source": [
        "# Define an input sequence and process it.\n",
        "encoder_inputs = Input(shape=(None,))\n",
        "x = Embedding(num_encoder_tokens, latent_dim)(encoder_inputs)\n",
        "x, state_h, state_c = LSTM(latent_dim,\n",
        "                           return_state=True)(x)\n",
        "encoder_states = [state_h, state_c]\n",
        "\n",
        "# Set up the decoder, using `encoder_states` as initial state.\n",
        "decoder_inputs = Input(shape=(None,))\n",
        "x = Embedding(num_decoder_tokens, latent_dim)(decoder_inputs)\n",
        "x = LSTM(latent_dim, return_sequences=True)(x, initial_state=encoder_states)\n",
        "decoder_outputs = Dense(num_decoder_tokens, activation='softmax')(x)\n",
        "\n",
        "# Define the model that will turn\n",
        "# `encoder_input_data` & `decoder_input_data` into `decoder_target_data`\n",
        "model = Model([encoder_inputs, decoder_inputs], decoder_outputs)\n",
        "\n",
        "# Compile & run training\n",
        "model.compile(optimizer='rmsprop', loss='categorical_crossentropy')\n",
        "# Note that `decoder_target_data` needs to be one-hot encoded,\n",
        "# rather than sequences of integers like `decoder_input_data`!\n",
        "model.fit([encoder_input_data, decoder_input_data], decoder_target_data,\n",
        "          batch_size=batch_size,\n",
        "          epochs=epochs,\n",
        "          validation_split=0.2)"
      ],
      "metadata": {
        "id": "na3IloOIBVVh"
      },
      "execution_count": null,
      "outputs": []
    },
    {
      "cell_type": "markdown",
      "source": [
        "# Evaluate"
      ],
      "metadata": {
        "id": "KGq-sYL09Nud"
      }
    },
    {
      "cell_type": "code",
      "source": [],
      "metadata": {
        "id": "W7PP0JAs9Std"
      },
      "execution_count": null,
      "outputs": []
    }
  ]
}